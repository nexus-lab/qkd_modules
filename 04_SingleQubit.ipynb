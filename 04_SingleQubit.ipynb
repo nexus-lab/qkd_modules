{
  "cells": [
    {
      "cell_type": "code",
      "execution_count": null,
      "metadata": {
        "id": "OOD9dOMRpkG0"
      },
      "outputs": [],
      "source": [
        "!git clone https://github.com/nexus-lab/qkd_modules.git\n",
        "%cd qkd_modules"
      ]
    },
    {
      "cell_type": "code",
      "execution_count": null,
      "metadata": {
        "id": "Mewu34ycpkG2"
      },
      "outputs": [],
      "source": [
        "from PIL import Image\n",
        "import IPython.display as display\n",
        "\n",
        "drive = \"QKDResources/\"\n",
        "\n",
        "img1 = Image.open(drive + \"images/04/nanomod14-fig1.png\")\n",
        "img2 = Image.open(drive + \"images/04/nanomod14-fig2.png\")\n",
        "img3 = Image.open(drive + \"images/04/nanomod14-fig1-sa2.png\")\n",
        "img4 = Image.open(drive + \"images/04/nanomod14-fig2-sa2.png\")\n",
        "img5 = Image.open(drive + \"images/04/nanomod14-fig3-sa2.png\")\n",
        "img6 = Image.open(drive + \"images/04/nanomod14-fig4-sa2.png\")"
      ]
    },
    {
      "cell_type": "markdown",
      "metadata": {
        "id": "pY_befMHpkG2"
      },
      "source": [
        "# 04 Single Qubit"
      ]
    },
    {
      "cell_type": "markdown",
      "metadata": {
        "id": "A-P8xIvkpkG3"
      },
      "source": [
        "## Lesson Goals"
      ]
    },
    {
      "cell_type": "markdown",
      "metadata": {
        "id": "C7cRK4M2pkG4"
      },
      "source": [
        "1. Students will understand the basics of measuring a qubit.\n",
        "2. Students will be able to compute the probabilities of outcomes upon measurement.\n",
        "3. Student will be able to compute transition amplitudes from one state to the other.\n",
        "4. Student will understand the notion of global and local phase and their interpretations.\n",
        "5. Students will understand the theory behind projective measurements.\n",
        "6. Students will understand the measurement postulate in quantum mechanics for projective measurements.\n",
        "7. Students will be able to compute the projection operators for a basis.\n",
        "8. Students will be able to calculate the probabilities of outcomes for a given basis using projection operator and determine the final state of the qubit.\n",
        "9. Students will understand the density matrix formulation and will be able to apply it for projective measurements.\n",
        "10. Students will understand and will be able to apply common single-qubit operations (gates).\n",
        "11. Students will be able to build sequential quantum circuits for single qubits.\n",
        "12. Students will be able to compute the effect of given sequential quantum circuit on a qubit."
      ]
    },
    {
      "cell_type": "code",
      "execution_count": null,
      "metadata": {
        "id": "bSjI_8JgpkG4",
        "outputId": "7f8a8550-34df-40ef-df92-c1aad79fbdbe"
      },
      "outputs": [],
      "source": [
        "#It is important to run this cell before starting with this notebook\n",
        "#All imports are put here\n",
        "#from IPython.core.display import HTML\n",
        "!pip install qutip\n",
        "import qutip as qt\n",
        "import numpy as np\n",
        "import ipywidgets as widgets   #you have to enable extensions for jupyter notebook after installing\n",
        "import sys\n",
        "from ipywidgets import interact\n",
        "import matplotlib.pyplot as plt"
      ]
    },
    {
      "cell_type": "markdown",
      "metadata": {
        "editable": true,
        "id": "normKpGapkG4",
        "tags": []
      },
      "source": [
        "## 04.01: Basics of Measuring a Qubit"
      ]
    },
    {
      "cell_type": "markdown",
      "metadata": {
        "id": "F4yiRdkkpkG4"
      },
      "source": [
        "### 04.01.01: Measuring a Qubit"
      ]
    },
    {
      "cell_type": "markdown",
      "metadata": {
        "id": "ZhLte--VpkG4"
      },
      "source": [
        "Let's discuss single-qubit measurements. So far we've said that a qubit $\\rvert\\psi\\rangle=\\alpha\\rvert0\\rangle+\\beta\\rvert1\\rangle$ collapses to $\\rvert0\\rangle$ with probability $\\rvert\\alpha\\rvert^2$ and to $\\left|1\\right>$ with probability $\\rvert\\beta\\rvert^2$.\n",
        "\n",
        "Quantum mechanics says that any device used to measure a two-state quantum system must have two states that are its preferred states that form an orthonormal basis for the corresponding two-dimensional vector space. We denote these by $\\{\\rvert v\\rangle, \\rvert v^\\perp\\rangle\\}$. Measurement then transforms the quantum state being measured into one of these two preferred states. And the probabilities for these transformations are given by the modulus squared of the corresponding amplitudes. Further, this property of quantum systems is based on empirical observations and not derived from any other physical laws.\n",
        "\n",
        "Therefore, we must specify the basis being used for measurement when we say \"measure a qubit\". If no basis is specified then a standard basis is assumed.\n",
        "\n",
        "Also, this implies that measurement changes the state of a quantum system. Consequently, if a qubit $\\rvert\\psi\\rangle=\\alpha\\rvert v\\rangle+\\beta\\rvert v^\\perp\\rangle$ is measured and it collapses to $\\rvert v^\\perp\\rangle$ then a second measurement in the same basis will always result in state $\\rvert v^\\perp\\rangle$ with probability 1 because now the amplitude of $\\rvert v\\rangle$ is zero.\n",
        "\n",
        "#### Loss of information\n",
        "\n",
        "From the above discussion it is clear that unless the qubit is already in one of the basis states, a measurement will change the state of the qubit and the original state of the qubit will be lost forever.  \n",
        "\n",
        "Further, this postulate of quantum mechanics says that although a qubit has infinite possible states, we can only extract one bit of information out of it because the qubit has to collapse to one of the two possible basis states (representing one bit of information).\n",
        "\n",
        "Also, distinct quantum states may have same probabilities of collapse. For example, $\\frac{1}{\\sqrt{2}}(\\rvert0\\rangle+\\rvert1\\rangle)$, $\\frac{1}{\\sqrt{2}}(\\rvert0\\rangle-\\rvert1\\rangle)$ and $\\frac{1}{\\sqrt{2}}(i\\rvert0\\rangle-\\rvert1\\rangle)$ all have exactly the same probabilities of collapse in the standard basis but are completely distinct quantum states that behave differently in other circumstances."
      ]
    },
    {
      "cell_type": "markdown",
      "metadata": {
        "id": "-B9TscnKpkG5"
      },
      "source": [
        "### 04.01.02: Transition Amplitudes"
      ]
    },
    {
      "cell_type": "markdown",
      "metadata": {
        "id": "nJ_U6Sb5pkG5"
      },
      "source": [
        "So far we know how to compute the probabilities of collapse of a qubit given its state description. For example, given the qubit $\\begin{bmatrix}0\\\\1\\end{bmatrix}$, we know that it will collapse to state $|1\\rangle$ with probability 1. Another example was $\\begin{bmatrix}\\frac{1}{\\sqrt{2}}\\\\\\frac{1}{\\sqrt{2}}\\end{bmatrix}$ where the qubit would collapse to state $\\rvert0\\rangle$ or $\\rvert1\\rangle$ with equal probability. We found this by squaring the modulus of the coefficients in positions that represent states $\\rvert0\\rangle$ and $\\rvert1\\rangle$.\n",
        "\n",
        "Another way of thinking about the computation above is that we as asking: Given state $\\rvert\\psi\\rangle$ what are the transition amplitudes to states $\\rvert0\\rangle$ and $\\rvert1\\rangle$. It turns out we can compute this by taking the inner product of the vector with the state we would like to transition to. For example, given qubit $\\begin{bmatrix}0\\\\1\\end{bmatrix}$ the transition amplitudes to state $\\rvert0\\rangle$ is computed as: $\\langle0\\rvert1\\rangle$"
      ]
    },
    {
      "cell_type": "markdown",
      "metadata": {
        "id": "tThS1_VLpkG5"
      },
      "source": [
        "In general, however, the state of a qubit can be a complex vector. For example, $\\begin{bmatrix}\\frac{i}{2}\\\\-\\frac{\\sqrt{3}}{2}\\end{bmatrix}$ is a valid qubit state. Therefore, while taking the inner product recall that we need to apply the dagger operation. Therefore, the probability amplitude that state $\\begin{bmatrix}\\frac{i}{2}\\\\-\\frac{\\sqrt{3}}{2}\\end{bmatrix}$ will transition to state $\\begin{bmatrix}1\\\\0\\end{bmatrix}$ is given,\n",
        "\n",
        "$$\\left<\\begin{bmatrix}1\\\\0\\end{bmatrix}, \\begin{bmatrix}\\frac{i}{2}\\\\-\\frac{\\sqrt{3}}{2}\\end{bmatrix}\\right> = \\begin{bmatrix}1\\\\0\\end{bmatrix}^\\dagger\\begin{bmatrix}\\frac{i}{2}\\\\-\\frac{\\sqrt{3}}{2}\\end{bmatrix}=\\frac{i}{2}$$\n",
        "\n",
        "Therefore, the probability of \"seeing\" $\\rvert0\\rangle$ is $\\left|\\frac{i}{2}\\right|^2=\\frac{1}{4}$. This is exactly what we expected!\n",
        "\n",
        "We can compute the transition amplitude to $\\rvert1\\rangle$ as $\\left<\\begin{bmatrix}0\\\\1\\end{bmatrix}, \\begin{bmatrix}\\frac{i}{2}\\\\-\\frac{\\sqrt{3}}{2}\\end{bmatrix}\\right> = \\begin{bmatrix}0\\\\1\\end{bmatrix}^\\dagger\\begin{bmatrix}\\frac{i}{2}\\\\-\\frac{\\sqrt{3}}{2}\\end{bmatrix}=\\frac{-\\sqrt{3}}{2}$. Therefore, the probability of collapse to $\\rvert1\\rangle$ is $\\left|\\frac{-\\sqrt{3}}{2}\\right|^2=\\frac{3}{4}$."
      ]
    },
    {
      "cell_type": "markdown",
      "metadata": {
        "id": "KHeUr7iYpkG5"
      },
      "source": [
        "In general, the probability amplitude of transitioning from state $\\rvert\\psi\\rangle$ to state $\\rvert\\psi'\\rangle$ is computed as follows: $\\left<\\psi'\\rvert\\psi\\right>$. The probability is given by $\\left|\\left<\\psi'\\rvert\\psi\\right>\\right|^2$.\n",
        "\n",
        "The transition amplitudes between two states may be zero. This happens when the states are mutually orthogonal to each other. Therefore, orthogonal states are \"as far apart\" as possible and can be distinguished from each other with certainty. As a result, we often use orthonormal basis which guarantees that the result of a measurement is one of the basis states and never a superposition of the basis states."
      ]
    },
    {
      "cell_type": "markdown",
      "metadata": {
        "id": "cpob0tQypkG5"
      },
      "source": [
        "Since we can represent any qubit $\\rvert\\psi\\rangle$ in the orthonormal basis $\\{\\rvert b_0\\rangle, \\rvert b_1\\rangle,\\ldots,b_{n-1}\\rangle\\}$ as,\n",
        "\n",
        "$$\\rvert\\psi\\rangle=b_0\\rvert b_0\\rangle+b_1\\rvert b_1\\rangle+\\ldots+b_{n-1}\\rvert b_{n-1}\\rangle$$\n",
        "\n",
        "Then the probability amplitude of $\\rvert\\psi\\rangle$ collapsing to state $\\rvert b_i\\rangle$ is given by, $b_i=\\left<b_i\\rvert\\psi\\right>$. Which gives $\\rvert b_i\\rvert^2$ as the probability of ending up in state $\\rvert b_i\\rangle$.\n",
        "\n",
        "<b>Example:</b> The probability amplitude of state $\\rvert\\psi\\rangle=\\frac{\\sqrt{2}}{2}\\begin{bmatrix}1\\\\i\\end{bmatrix}$ transitioning to state $\\rvert\\phi\\rangle=\\frac{\\sqrt{2}}{2}\\begin{bmatrix}i\\\\-1\\end{bmatrix}$ is computed as follows: Compute the bra of $\\rvert\\phi\\rangle$, $\\langle\\phi\\rvert=\\frac{\\sqrt{2}}{2}\\begin{bmatrix}-i&-1\\end{bmatrix}$, then the inner product with $\\rvert\\psi\\rangle$, $\\langle\\phi\\rvert\\psi\\rangle=-i$."
      ]
    },
    {
      "cell_type": "markdown",
      "metadata": {
        "id": "CG0zvDrdpkG5"
      },
      "source": [
        "### 04.01.03: Global and Relative Phases"
      ]
    },
    {
      "cell_type": "markdown",
      "metadata": {
        "id": "nd1Wn-O4pkG5"
      },
      "source": [
        "<b>Global phase:</b> It turns out that two qubits that can be written as multiple of each other, for example $\\alpha\\left|0\\right>+\\beta\\left|1\\right>=c\\cdot(\\alpha'\\left|0\\right>+\\beta'\\left|1\\right>)$, where $c=e^{i\\phi}$ is a complex number, are said to be equivalent. Both the qubits represent the same state for all practical purposes. We call $c$ the global phase and it has no physical meaning.\n",
        "\n",
        "<b>Relative phase:</b> The relative phase of a qubit is defined as the complex number $e^{i\\phi}$ such that $\\frac{\\alpha}{\\beta}=e^{i\\phi}\\frac{\\rvert\\alpha\\rvert}{\\rvert\\beta\\rvert}$. Note that $\\rvert e^{i\\phi}\\rvert=1$ and therefore does not always show up in measurement. Two qubits that differ only in relative phases are considered distinct/unique qubits. For example, $\\alpha\\left|0\\right>+\\beta\\left|1\\right>$ and $e^{i\\phi}\\alpha\\left|0\\right>+\\beta\\left|1\\right>$ are different states."
      ]
    },
    {
      "cell_type": "markdown",
      "metadata": {
        "id": "oqH8oI7spkG5"
      },
      "source": [
        "## 04.02: Visualizing a qubit"
      ]
    },
    {
      "cell_type": "markdown",
      "metadata": {
        "id": "1Yjqf2bspkG5"
      },
      "source": [
        "### 04.02.01: Bloch Sphere"
      ]
    },
    {
      "cell_type": "markdown",
      "metadata": {
        "id": "t3avEvQhpkG5"
      },
      "source": [
        "Qubits have an interesting three dimensional interpretation. Called the <b><i>Bloch sphere</i></b>, every qubit can be thought of as a point on its surface and every operation as rotation of the sphere. It, however, works only for a single qubit. For multiple qubits, it becomes very difficult to visualize higher dimensions.\n",
        "\n",
        "Let's start from our Ket notation and figure out how to map it onto a Block sphere. Consider a generic qubit $|\\psi\\rangle = \\alpha|0\\rangle+\\beta|1\\rangle$ where $|\\alpha|^2+|\\beta|^2=1$. A three dimensional ball of finite radius (here radius is 1) has only two degrees of freedom (think plant Earth with latitude and longitude). Here, we will use the angles the vector representing a qubit makes with the $x$ and the $z$ axis.\n",
        "\n",
        "Rewriting $\\alpha$ and $\\beta$ in the polar form, $\\alpha=r_0e^{i\\phi_0}$ and $\\beta=r_1e^{i\\phi_1}$ and so,\n",
        "$$|\\psi\\rangle=r_0e^{i\\phi_0}|0\\rangle+r_1e^{i\\phi_1}|1\\rangle$$\n",
        "\n",
        "There are still four real parameters: $r_0, r_1, \\phi_0$, and $\\phi_1$."
      ]
    },
    {
      "cell_type": "markdown",
      "metadata": {
        "id": "uKCWxc7WpkG6"
      },
      "source": [
        "We know that multiplying a qubit with a complex number, eg. $c|\\psi\\rangle$ does not change the physical state of the qubit therefore we will multiply our expression above with $c=e^{-i\\phi_0}$ and remove the phase attached to state $|0\\rangle$.\n",
        "\n",
        "$$e^{-i\\phi_0}|\\psi\\rangle=e^{-i\\phi_0}(r_0e^{i\\phi_0}|0\\rangle+r_1e^{i\\phi_1}|1\\rangle)=r_0|0\\rangle+r_1e^{i(\\phi_1-\\phi_0)}|1\\rangle$$\n",
        "\n",
        "We now have only three real parameters left $r_0, r_1$, and $\\phi=\\phi_0-\\phi_1$.\n",
        "\n",
        "Given that $|\\alpha|^2+|\\beta|^2=1 \\implies |r_0e^{i\\phi_0}|^2+|r_1e^{i\\phi_1}|^2 = 1 \\implies  |r_0|^2|e^{i\\phi_0}|^2+|r_1|^2|e^{i\\phi_1}|^2=1$.\n",
        "\n",
        "We, therefore, get $r_0^2+r_1^2=1$."
      ]
    },
    {
      "cell_type": "markdown",
      "metadata": {
        "id": "ywbRHWDSpkG6"
      },
      "source": [
        "If we rename them as $r_0=cos(\\theta)$ and $r_1=sin(\\theta)$. Substituting we get,\n",
        "\n",
        "$$|\\psi\\rangle=cos(\\theta)|0\\rangle+e^{i\\phi}sin(\\theta)|1\\rangle$$\n",
        "\n",
        "which only has two free parameters $\\theta$ and $\\phi$. Therefore, the qubit can then be plotted in a Bloch sphere as shown in the interactive simulation below.\n",
        "\n",
        "We see in the simulation below that $0\\leq\\phi<2\\pi$ and $0\\leq\\theta<\\frac{\\pi}{2}$ are enough to cover all possible qubits. Given just $\\theta$ and $\\phi$ we can compute $x,y$, and $z$ as follows,\n",
        "$$x=cos(\\phi)\\cdot sin(2\\theta)$$\n",
        "$$y=sin(2\\theta)\\cdot sin(\\phi)$$\n",
        "$$z=cos(2\\theta)$$"
      ]
    },
    {
      "cell_type": "code",
      "execution_count": null,
      "metadata": {
        "id": "l2t7mSJupkG6"
      },
      "outputs": [],
      "source": [
        "def ket_to_bloch(t,p):\n",
        "    r = 1    #radius of the vector, 1 for block sphere\n",
        "    x = r * np.cos(p) * np.sin(2*t)\n",
        "    y = r * np.sin(2*t) * np.sin(p)\n",
        "    z = r * np.cos(2*t)\n",
        "    return [x,y,z]\n",
        "\n",
        "def displayBlochSphere(theta=45, phi=45, azimuth=-60, elevation=30 ):\n",
        "    bs = qt.Bloch()\n",
        "    bs.view = [azimuth, elevation]\n",
        "    t=theta*np.pi/180   #convert to radians\n",
        "    p=phi*np.pi/180     #convert to radians\n",
        "    vec=ket_to_bloch(t,p)\n",
        "    bs.add_vectors(vec)\n",
        "    bs.show()"
      ]
    },
    {
      "cell_type": "code",
      "execution_count": null,
      "metadata": {
        "colab": {
          "referenced_widgets": [
            "446f2faf09bb4eb29cac4ecdd25f63a2"
          ]
        },
        "id": "M4mUEhmqpkG6",
        "outputId": "d629ad9a-1b7d-4100-c0f4-01ffe829fbc7"
      },
      "outputs": [
        {
          "data": {
            "application/vnd.jupyter.widget-view+json": {
              "model_id": "446f2faf09bb4eb29cac4ecdd25f63a2",
              "version_major": 2,
              "version_minor": 0
            },
            "text/plain": [
              "interactive(children=(IntSlider(value=45, description='theta', max=90, step=5), IntSlider(value=45, descriptio…"
            ]
          },
          "metadata": {},
          "output_type": "display_data"
        },
        {
          "data": {
            "text/plain": [
              "<function __main__.displayBlochSphere(theta=45, phi=45, azimuth=-60, elevation=30)>"
            ]
          },
          "execution_count": 4,
          "metadata": {},
          "output_type": "execute_result"
        }
      ],
      "source": [
        "#Run this cell to simulate an interactive Bloch sphere\n",
        "interact(displayBlochSphere, theta=(0,90,5), phi=(0,360,10), azimuth=(-180,180,10), elevation=(0,180,10))"
      ]
    },
    {
      "cell_type": "markdown",
      "metadata": {
        "id": "S-QJDCSepkG6"
      },
      "source": [
        "#### Geometry of Bloch Sphere\n",
        "\n",
        "As can be seen from the simulation, the north pole of the sphere corresponds to $|0\\rangle$ and its polar opposite, the south pole, is the state $|1\\rangle$. Further, $\\phi$ is the angle that $|\\psi\\rangle$ makes with the $z$ axis and $\\theta$ is the angle that $|\\psi\\rangle$ makes from the $x$ axis along the equator."
      ]
    },
    {
      "cell_type": "markdown",
      "metadata": {
        "id": "YwXmMv7NpkG7",
        "jp-MarkdownHeadingCollapsed": true
      },
      "source": [
        "### 04.02.02: Simple 2-D representation"
      ]
    },
    {
      "cell_type": "markdown",
      "metadata": {
        "id": "D2NgpS-rpkG7"
      },
      "source": [
        "Since the global phase of the qubit has no measureable effect, often we will use a simple 2D representation of the qubit as shown below. The vector represents the qubit in a unit circle. Therefore, we are assuming that qubits are normalized."
      ]
    },
    {
      "cell_type": "code",
      "execution_count": null,
      "metadata": {
        "id": "FRuw8AOwpkG7"
      },
      "outputs": [],
      "source": [
        "def ket_to_bloch2d(p):\n",
        "    r = 1    #radius of the vector, 1 for block sphere\n",
        "    x = r * np.cos(p)\n",
        "    y = r * np.sin(p)\n",
        "    z = 0\n",
        "    return [x,y,z]\n",
        "\n",
        "def displayUnitCircle2d(phi):\n",
        "    bs = qt.Bloch()\n",
        "    bs.view = [180, 90]\n",
        "    bs.zlabel = ['','']\n",
        "    p=phi*np.pi/180     #convert to radians\n",
        "    vec=ket_to_bloch2d(p)\n",
        "    bs.add_vectors(vec)\n",
        "    bs.show()"
      ]
    },
    {
      "cell_type": "code",
      "execution_count": null,
      "metadata": {
        "colab": {
          "referenced_widgets": [
            "e227ac65ebc84ecbb2b0d315d9bab1c6"
          ]
        },
        "id": "g6bZu62IpkG7",
        "outputId": "2e07308c-190d-4eea-d727-43ba80dff494"
      },
      "outputs": [
        {
          "data": {
            "application/vnd.jupyter.widget-view+json": {
              "model_id": "e227ac65ebc84ecbb2b0d315d9bab1c6",
              "version_major": 2,
              "version_minor": 0
            },
            "text/plain": [
              "interactive(children=(IntSlider(value=180, description='phi', max=360, step=10), Output()), _dom_classes=('wid…"
            ]
          },
          "metadata": {},
          "output_type": "display_data"
        },
        {
          "data": {
            "text/plain": [
              "<function __main__.displayUnitCircle2d(phi)>"
            ]
          },
          "execution_count": 6,
          "metadata": {},
          "output_type": "execute_result"
        }
      ],
      "source": [
        "#Run this cell to simulate an interactive unit circle\n",
        "interact(displayUnitCircle2d, phi=(0,360,10))"
      ]
    },
    {
      "cell_type": "code",
      "execution_count": null,
      "metadata": {
        "id": "qZYHEFcbpkG7"
      },
      "outputs": [],
      "source": [
        "def displayUnitCircle(phi=0):\n",
        "    ρ = 1\n",
        "    φ = phi*np.pi/180\n",
        "    plt.polar()\n",
        "    plt.ylim(0, 1)\n",
        "    plt.tick_params(labelleft=False)\n",
        "    plt.annotate(\"\", xy=(φ, ρ), xytext=(0,0), arrowprops=dict(arrowstyle=\"-|>\"))\n",
        "    plt.show()"
      ]
    },
    {
      "cell_type": "code",
      "execution_count": null,
      "metadata": {
        "colab": {
          "referenced_widgets": [
            "021db535c8544fdd8ba3a07ad5553b39"
          ]
        },
        "id": "hvofMFQ1pkG7",
        "outputId": "4b3455f0-8960-404d-8257-5ca2ca255f3f"
      },
      "outputs": [
        {
          "data": {
            "application/vnd.jupyter.widget-view+json": {
              "model_id": "021db535c8544fdd8ba3a07ad5553b39",
              "version_major": 2,
              "version_minor": 0
            },
            "text/plain": [
              "interactive(children=(IntSlider(value=0, description='phi', max=360, step=5), Output()), _dom_classes=('widget…"
            ]
          },
          "metadata": {},
          "output_type": "display_data"
        },
        {
          "data": {
            "text/plain": [
              "<function __main__.displayUnitCircle(phi=0)>"
            ]
          },
          "execution_count": 8,
          "metadata": {},
          "output_type": "execute_result"
        }
      ],
      "source": [
        "#Run this cell to simulate an interactive unit circle\n",
        "interact(displayUnitCircle, phi=(0,360,5))"
      ]
    },
    {
      "cell_type": "markdown",
      "metadata": {
        "id": "K7Gde86bpkG8"
      },
      "source": [
        "## 04.03: General Single-Qubit Measurement"
      ]
    },
    {
      "cell_type": "markdown",
      "metadata": {
        "id": "O7O5N3zFpkG8"
      },
      "source": [
        "### 04.03.01: Quantum Measurements"
      ]
    },
    {
      "cell_type": "markdown",
      "metadata": {
        "id": "L5MIanQ1pkG8"
      },
      "source": [
        "Here we discuss the general theory behind single-qubit measurements. It has no counterpart in classical domain. There are three types of quantum measurements: The basis-state measurements, projection or von Neumann measurements and the POVM measurements. We focus on projective measurements."
      ]
    },
    {
      "cell_type": "markdown",
      "metadata": {
        "id": "AD0LQQHgpkG8"
      },
      "source": [
        "### 04.03.02: Computing the Projection"
      ]
    },
    {
      "cell_type": "markdown",
      "metadata": {
        "id": "7SKeajMkpkG8"
      },
      "source": [
        "Given a qubit $\\rvert\\psi\\rangle$ and set of orthonormal basis states $B=\\{\\rvert b_1\\rangle, \\rvert b_2\\rangle, \\ldots, \\rvert b_{n}\\rangle\\}$, we can express the qubit as,\n",
        "\n",
        "$$\\rvert\\psi\\rangle=c_1\\rvert b_1\\rangle+c_2\\rvert b_2\\rangle+\\ldots+c_n \\rvert b_{n}\\rangle$$\n",
        "\n",
        "where $c_i\\in\\mathbb{C}$. The projection of $\\rvert\\psi\\rangle$ on state $\\rvert b_i\\rangle$ can be calculated by taking the left inner product as shown below:\n",
        "\n",
        "$$\\langle b_i\\rvert\\psi\\rangle=\\sum_{b_j}\\langle b_i\\rvert c_j\\rvert b_j\\rangle=c_j\\langle b_i\\rvert b_j\\rangle$$\n",
        "\n",
        "Since the basis set is orthonormal, $\\langle b_i\\rvert b_j\\rangle=1$ only when $i=j$ and zero otherwise. Therefore, the inner product reduces to:\n",
        "\n",
        "$$\\langle b_i\\rvert\\psi\\rangle=c_i$$\n",
        "\n",
        "Therefore $c_i$ is the projection of $\\rvert\\psi\\rangle$ on the pure state $\\rvert b_i\\rangle$."
      ]
    },
    {
      "cell_type": "markdown",
      "metadata": {
        "id": "_imGb15GpkG8"
      },
      "source": [
        "### 04.03.03: The Projection Operators"
      ]
    },
    {
      "cell_type": "markdown",
      "metadata": {
        "id": "Nr2GnxwopkG8"
      },
      "source": [
        "We define a projection operator $U_{b}=\\rvert b\\rangle\\langle b\\rvert$ that projects any qubit onto the state $\\rvert b\\rangle$. We can verify that,\n",
        "\n",
        "$$U_{b}=(\\rvert b\\rangle\\langle b\\rvert)\\rvert b\\rangle=\\rvert b\\rangle\\langle b\\rvert b\\rangle=\\rvert b\\rangle\\delta_{bb}=\\rvert b\\rangle$$\n",
        "\n",
        "where $\\delta_{bb}$ is the Kronecker delta.\n",
        "\n",
        "Given the expansion of qubit $\\rvert\\psi\\rangle$ in terms of components of basis $B$, above, we can apply the corresponding projection operator $U_{b_i}$ to $\\rvert\\psi\\rangle$ as follows,\n",
        "\n",
        "$$U_{b_i}\\rvert\\psi\\rangle=(\\rvert b_i\\rangle\\langle b_i\\rvert)\\sum_{b_j}c_j\\rvert b_j\\rangle=\\sum_{b_j}c_j\\rvert b_i\\rangle\\langle b_i\\rvert b_j\\rangle=\\rvert b_i\\rangle\\sum_{b_j}c_j\\delta_{b_ib_j}=c_i\\rvert b_i\\rangle$$\n",
        "\n",
        "We see that application of the projection operator $U_{b_i}$ projects $\\rvert\\psi\\rangle$ onto the basis component; the projection being $c_i\\rvert b_i\\rangle$. Given this result, we can rewrite the expression for $\\rvert\\psi\\rangle$ as follows,\n",
        "\n",
        "$$\\rvert\\psi\\rangle=\\left(\\sum_{b_i}\\rvert b_i\\rangle\\langle b_i\\rvert\\right)\\rvert\\psi\\rangle$$"
      ]
    },
    {
      "cell_type": "markdown",
      "metadata": {
        "id": "wujhbTeBpkG8"
      },
      "source": [
        "From the above relation we see that the measurement operator $\\sum_{b_i} U_{b_i}=I$, where $I$ is the identity matrix. In other words, the sum of the projection operator over pure states is the identity operator.\n",
        "\n",
        "It is interesting to note that $U_b^2=U_b$. Therefore, projecting a state twice is the same as projecting the state once. It will produce the same result. In other words, repeated measurements of a state in the same basis produces the same result again and again."
      ]
    },
    {
      "cell_type": "markdown",
      "metadata": {
        "id": "Moku_gOfpkG9"
      },
      "source": [
        "#### Example\n",
        "\n",
        "Consider qubit $\\rvert\\psi\\rangle=\\frac{1}{\\sqrt{3}}\\rvert0\\rangle+\\frac{\\sqrt{2}}{\\sqrt{3}}\\rvert1\\rangle$. Denote the projection operators for the standard basis as $U_{\\rvert0\\rangle}$ and $U_{\\rvert1\\rangle}$ then,\n",
        "\n",
        "$U_{\\rvert0\\rangle}=\\rvert0\\rangle\\langle0\\rvert$ and\n",
        "\n",
        "$U_{\\rvert1\\rangle}=\\rvert1\\rangle\\langle1\\rvert$"
      ]
    },
    {
      "cell_type": "markdown",
      "metadata": {
        "id": "zW9vjzMqpkG9"
      },
      "source": [
        "Applying these projection operators to $\\rvert\\psi\\rangle$ we get,\n",
        "\n",
        "\\begin{aligned}\n",
        "U_{\\rvert0\\rangle}\\rvert\\psi\\rangle &= \\rvert0\\rangle\\langle0\\rvert\\left(\\frac{1}{\\sqrt{3}}\\rvert0\\rangle+\\frac{\\sqrt{2}}{\\sqrt{3}}\\rvert1\\rangle\\right) \\\\\n",
        "&= \\frac{1}{\\sqrt{3}}\\rvert0\\rangle\\langle0\\rvert0\\rangle+\\frac{\\sqrt{2}}{\\sqrt{3}}\\rvert0\\rangle\\langle0\\rvert1\\rangle \\\\\n",
        "&= \\frac{1}{\\sqrt{3}}\\rvert0\\rangle\\langle0\\rvert0\\rangle \\\\\n",
        "&= \\frac{1}{\\sqrt{3}}\\rvert0\\rangle\\\\\n",
        "\\end{aligned}\n",
        "\n",
        "Similarly,\n",
        "$$U_{\\rvert1\\rangle}\\rvert\\psi\\rangle=\\frac{\\sqrt{2}}{\\sqrt{3}}\\rvert1\\rangle$$\n"
      ]
    },
    {
      "cell_type": "markdown",
      "metadata": {
        "id": "NjubM5hBpkG9"
      },
      "source": [
        "#### Quantum Measurement Postulate\n",
        "\n",
        "Consider a collection of measurement operators $\\{M_m\\}$, on the state space of the system being measured and the state $\\rvert\\psi\\rangle$ of the quantum system just before measurement. Index $m$ refers the $m^{th}$ measurement outcome that may occur. Then the probability that $m$ occurs is given by,\n",
        "\n",
        "$$p(m)=\\langle\\psi\\rvert M_m^\\dagger M_m\\rvert\\psi\\rangle$$\n",
        "\n",
        "and post-measurement state of the system is,\n",
        "\n",
        "$$\\frac{M_m\\rvert\\psi\\rangle}{\\sqrt{\\langle\\psi\\rvert M_m^\\dagger M_m\\rvert\\psi\\rangle}}$$"
      ]
    },
    {
      "cell_type": "markdown",
      "metadata": {
        "id": "vnFvtpLTpkG9"
      },
      "source": [
        "Since the probabilities of each outcome must add to 1, $\\sum_m p(m)=\\sum_m\\langle\\psi\\rvert M_m^\\dagger M_m\\rvert\\psi\\rangle=1$, it implies that $\\sum_m M_m^\\dagger M_m=I$.\n",
        "\n",
        "Therefore, if the basis used is orthonormal then the measurement postulate reduces to the projective measurement that we've discussed so far."
      ]
    },
    {
      "cell_type": "markdown",
      "metadata": {
        "id": "4azSG7MKpkG9"
      },
      "source": [
        "The two projection operators discussed above form the measurement operators for the computational/standard basis. $M_0=\\rvert0\\rangle\\langle0\\rvert$ and $M_1=\\rvert1\\rangle\\langle1\\rvert$. Both the measurement operators here are Hermitian operators. Therefore, $M_0^2=M_0$ and $M_1^2=M_1$. The completeness relation above states that $M_0^\\dagger M_0+M_1^\\dagger M_1= M_0+M_1=I$.\n",
        "\n",
        "Consider a state $\\psi=\\frac{i}{\\sqrt{4}}\\rvert0\\rangle+\\frac{i+\\sqrt{2}}{\\sqrt{4}}\\rvert1\\rangle$. Using the measurement postulate we see that the probability of obtaining a measurement outcome of 0 is,\n",
        "\n",
        "\\begin{aligned}\n",
        "p(0) &= \\langle\\psi\\rvert M_0^\\dagger M_0\\rvert\\psi\\rangle \\\\\n",
        "& =\\langle\\psi\\rvert M_0\\rvert\\psi\\rangle \\\\\n",
        "&= \\left|\\frac{i}{\\sqrt{4}}\\right|^2 \\\\\n",
        "&= \\frac{1}{4}\n",
        "\\end{aligned}\n",
        "\n",
        "Similarly, the probability of obtaining outcome 1 is $p(1)=\\left|\\frac{i+\\sqrt{2}}{\\sqrt{4}}\\right|^2$."
      ]
    },
    {
      "cell_type": "markdown",
      "metadata": {
        "id": "RvlSlrTopkG9"
      },
      "source": [
        "When the measurement outcome is 0, the post measurement state becomes,\n",
        "\n",
        "$$\\frac{M_0\\rvert\\psi\\rangle}{\\left|\\frac{i}{\\sqrt{4}}\\right|}=\\frac{\\frac{i}{\\sqrt{4}}}{\\left|\\frac{i}{\\sqrt{4}}\\right|}\\rvert0\\rangle$$\n",
        "\n",
        "and when the measurement outcome is 1, the post measurement state becomes,\n",
        "\n",
        "$$\\frac{M_1\\rvert\\psi\\rangle}{\\left|\\frac{1}{2}\\right|}=\\frac{\\frac{i+\\sqrt{2}}{\\sqrt{4}}}{\\left|\\frac{i+\\sqrt{2}}{\\sqrt{4}}\\right|}\\rvert1\\rangle$$"
      ]
    },
    {
      "cell_type": "markdown",
      "metadata": {
        "id": "3exHL8u0pkG9"
      },
      "source": [
        "Since the above post-measurements states only differ in a global phase from $\\rvert0\\rangle$ and $\\rvert1\\rangle$ and global phase can be effectively ignored, the post measurement states are effectively $\\rvert0\\rangle$ and $\\rvert1\\rangle$."
      ]
    },
    {
      "cell_type": "markdown",
      "metadata": {
        "id": "xLOUzZwJpkG9"
      },
      "source": [
        "#### Density Matrices\n",
        "\n",
        "Density matrices present an alternate way to describe quantum states. There are two main motivations for this new representation. First, so far we have only been discussing pure states. But there can be instances where some process prepares different states with certain probabilities. For example, if we have a situation where a process prepares state $\\rvert\\psi_1\\rangle$ with probability $p_1$ and state $\\rvert\\psi_2\\rangle$ with probability $p_2$ then we need a way to accurately express this by taking both the state and probabilities into account. This is called a mixed state.\n",
        "\n",
        "Second motivation for density matrices comes from desire to represent the state of a qubit that is a part of an entangled set of qubits. We haven't discussed multi-qubit systems yet but we've alluded to the fact that if two quantum states cannot be represented as tensor product of individual states then they are entangled. Therefore it seems that it would be impossible to just write the state of one qubit by itself. Density matrices help us do this. We will discuss multi-qubit systems in more detail in upcoming lessons."
      ]
    },
    {
      "cell_type": "markdown",
      "metadata": {
        "id": "GamwCGWzpkG-"
      },
      "source": [
        "The density matrix for an arbitrary quantum state is written as: $\\rho=\\rvert\\psi\\rangle\\langle\\psi\\rvert$. For example the density matrices for $\\rvert1\\rangle$ and $\\rvert+\\rangle=\\frac{\\rvert0\\rangle+\\rvert1\\rangle}{\\sqrt{2}}$ are given by,\n",
        "\\begin{aligned}\n",
        "\\rvert1\\rangle\\langle1\\rvert&=\\begin{bmatrix}0\\\\1\\end{bmatrix}\\begin{bmatrix}0&1\\end{bmatrix}=\\begin{bmatrix}0&0\\\\0&1\\end{bmatrix} \\\\\n",
        "\\rvert+\\rangle\\langle+\\rvert&=\\frac{1}{\\sqrt{2}} \\begin{bmatrix}1\\\\1\\end{bmatrix} \\frac{1}{\\sqrt{2}} \\begin{bmatrix}1&1\\end{bmatrix} =\\frac{1}{2} \\begin{bmatrix}1&1\\\\1&1\\end{bmatrix} \\\\\n",
        "\\end{aligned}\n",
        "\n",
        "Now consider a system that produces state $\\rvert\\psi_1\\rangle=\\rvert0\\rangle$ with probability $p_1=\\frac{1}{5}$ and produces state $\\rvert\\psi_2\\rangle=\\rvert+\\rangle$ with probability $p_2=\\frac{4}{5}$. Therefore, such a quantum system is <b><i>not</i></b> in a superposition of $\\rvert\\psi_1\\rangle$ and $\\rvert\\psi_2\\rangle$ but in one of these two states with certain probability. In other words, it is a mixture of $\\rvert\\psi_1\\rangle$ and $\\rvert\\psi_2\\rangle$. Such a mixture can be described by a density matrix shown below,\n",
        "\n",
        "\\begin{aligned}\n",
        "\\rho&=p_1\\rvert\\psi_1\\rangle\\langle\\psi_1\\rvert+p_2\\rvert\\psi_2\\rangle\\langle\\psi_2\\rvert \\\\\n",
        "&= \\frac{1}{5}\\rvert0\\rangle\\langle0\\rvert+ \\frac{4}{5}\\rvert+\\rangle\\langle+\\rvert \\\\\n",
        "\\end{aligned}\n",
        "\n",
        "#### Example of Measurement\n",
        "\n",
        "Let the system be in state $\\rvert\\psi_i\\rangle$, then the probabilities of outcomes $\\rvert0\\rangle$ and $\\rvert1\\rangle$ is given by,\n",
        "\n",
        "$$p_{0,i}=\\rvert\\langle0\\rvert\\psi_i\\rangle\\rvert^2=\\langle0\\rvert\\psi_i\\rangle\\langle\\psi_i\\rvert0\\rangle$$\n",
        "\n",
        "$$p_{1,i}=\\rvert\\langle1\\rvert\\psi_i\\rangle\\rvert^2=\\langle1\\rvert\\psi_i\\rangle\\langle\\psi_i\\rvert1\\rangle$$\n",
        "\n",
        "If, however, the system prepares state $\\rvert\\psi_i\\rangle$ with probability $p_i$, then the probabilities are given by,\n",
        "\n",
        "$$p(0)=\\sum_i p_i\\cdot p_{0,i}$$\n",
        "and\n",
        "$$p(1)=\\sum_i p_i\\cdot p_{1,i}$$"
      ]
    },
    {
      "cell_type": "markdown",
      "metadata": {
        "id": "mcsbPeFtpkG-"
      },
      "source": [
        "Expanding we get,\n",
        "\n",
        "$p(0)=\\sum_i p_i\\langle0\\rvert\\psi_i\\rangle\\langle\\psi_i\\rvert0\\rangle=\\langle0\\rvert \\left(\\sum_ip_i\\rvert\\psi_i\\rangle\\langle\\psi_i\\rvert\\right) \\rvert0\\rangle=\\langle0\\rvert\\rho\\rvert0\\rangle$\n",
        "\n",
        "Similarly,\n",
        "\n",
        "$p(1)=\\sum_i p_i\\langle1\\rvert\\psi_i\\rangle\\langle\\psi_i\\rvert1\\rangle=\\langle1\\rvert \\left(\\sum_ip_i\\rvert\\psi_i\\rangle\\langle\\psi_i\\rvert\\right) \\rvert1\\rangle=\\langle1\\rvert\\rho\\rvert1\\rangle$"
      ]
    },
    {
      "cell_type": "markdown",
      "metadata": {
        "id": "ZsZSJ--RpkG-"
      },
      "source": [
        "## 04.04: Single-Qubit Gates and Operations"
      ]
    },
    {
      "cell_type": "markdown",
      "metadata": {
        "id": "lhQPUk65pkG-"
      },
      "source": [
        "### 04.04.01: Transformations on Qubits"
      ]
    },
    {
      "cell_type": "markdown",
      "metadata": {
        "id": "HFHeAOc6pkG-"
      },
      "source": [
        "So far, we've seen some basic operations on qubits. We've eluded to the ability to apply NOT and identity operations and that all the quantum operations can be represented using unitary matrices. Therefore, an operator $U$ maps an input quantum state to an output quantum state,\n",
        "\n",
        "$$\\rvert\\psi_{out}\\rangle=U\\rvert\\psi_{in}\\rangle$$\n",
        "\n",
        "for some unitary matrix $U$. Since we are only considering single qubits at this point, the unitary matrices we are interested in are $2\\times2$ matrices. Further, since we restrict the length of the vectors representing qubits to be 1, we know that the inner product $\\langle\\psi\\rvert\\psi\\rangle=1$.\n",
        "\n",
        "Therefore, the unitary transformation must preserve the inner product.\n",
        "\n",
        "$\\langle\\psi_{out}\\rvert\\psi_{out}\\rangle=\\langle\\psi_{in}\\rvert U^\\dagger U\\rvert\\psi_{in}\\rangle=1$\n",
        "\n",
        "This happens when $U^\\dagger U=I$ and therefore $U$ is a unitary matrix."
      ]
    },
    {
      "cell_type": "markdown",
      "metadata": {
        "id": "_sYIqFPSpkG-",
        "jp-MarkdownHeadingCollapsed": true
      },
      "source": [
        "### 04.04.02: Single Qubit Transformations"
      ]
    },
    {
      "cell_type": "markdown",
      "metadata": {
        "id": "HbofAdcypkG-"
      },
      "source": [
        "#### Hadamard Transform\n",
        "\n",
        "We've seen the matrix $H=\\frac{1}{\\sqrt{2}}\\begin{bmatrix}1&1\\\\1&-1\\end{bmatrix}$ before. It was used as a transition matrix from standard basis to the Hadamard basis.\n",
        "\n",
        "#### Rotation Operator\n",
        "\n",
        "Consider the matrix $R(\\theta)=\\begin{bmatrix}\\cos\\frac{\\theta}{2}& -\\sin\\frac{\\theta}{2}\\\\ \\sin\\frac{\\theta}{2} & \\cos\\frac{\\theta}{2}\\end{bmatrix}$\n",
        "\n",
        "It is easy to verify that $R(\\theta)$ is unitary. It essentially rotates the vector by $\\theta$ degrees.\n",
        "\n",
        "$R(\\theta)\\rvert0\\rangle=\\begin{bmatrix}\\cos\\frac{\\theta}{2}& -\\sin\\frac{\\theta}{2}\\\\ \\sin\\frac{\\theta}{2} & \\cos\\frac{\\theta}{2}\\end{bmatrix}\\begin{bmatrix}1\\\\0\\end{bmatrix}=\\begin{bmatrix}\\cos\\frac{\\theta}{2}\\\\ \\sin\\frac{\\theta}{2}\\end{bmatrix}$\n",
        "\n",
        "and\n",
        "\n",
        "$R(\\theta)\\rvert1\\rangle=\\begin{bmatrix}\\cos\\frac{\\theta}{2}& -\\sin\\frac{\\theta}{2}\\\\ \\sin\\frac{\\theta}{2} & \\cos\\frac{\\theta}{2}\\end{bmatrix}\\begin{bmatrix}0\\\\1\\end{bmatrix}=\\begin{bmatrix}-\\sin\\frac{\\theta}{2}\\\\ \\cos\\frac{\\theta}{2}\\end{bmatrix}$\n",
        "\n",
        "Therefore, if we take $\\theta=\\frac{\\pi}{2}$, then we have $R(\\frac{\\pi}{4})$ and $R(\\frac{\\pi}{4})\\rvert0\\rangle=\\rvert+\\rangle$ and $R(\\frac{\\pi}{4})\\rvert1\\rangle=-\\rvert-\\rangle$."
      ]
    },
    {
      "cell_type": "markdown",
      "metadata": {
        "id": "SNqsU9vXpkG-"
      },
      "source": [
        "### 04.04.03: Pauli Matrices"
      ]
    },
    {
      "cell_type": "markdown",
      "metadata": {
        "id": "KENsWfU3pkG-"
      },
      "source": [
        "Perhaps the three most famous matrices in quantum mechanics are the Pauli matrices denoted by $X, Y$ and $Z$. These are single qubit $2\\times2$ operations with following descriptions,\n",
        "\n",
        "$$X=\\begin{bmatrix}0&1\\\\1&0\\end{bmatrix}$$\n",
        "\n",
        "$$Z=\\begin{bmatrix}1&0\\\\0&-1\\end{bmatrix}$$\n",
        "\n",
        "$$Y=iXZ$$\n",
        "\n",
        "The $X$ transformation is nothing but the NOT operation and therefore called the bit-flip operation.\n",
        "\n",
        "The Pauli-$Z$ matrix flips the phase of $\\rvert1\\rangle$ in the standard basis. Its effect in other basis can be computed using linearity.\n",
        "\n",
        "$Z\\rvert0\\rangle=\\rvert0\\rangle$ and $Z\\rvert1\\rangle=-\\rvert1\\rangle$\n",
        "\n",
        "Note that in the Hadamard basis $Z\\rvert+\\rangle=\\rvert-\\rangle$ and viceversa. Therefore, it acts as the NOT operator in the Hadamard basis.\n",
        "\n",
        "The last Pauli operation performs both a phase and a bit flip operation, $Y=iXZ$. Here, $i$ makes the operation Hermitian. The action of Pauli-$Y$ is given by,\n",
        "\n",
        "\\begin{aligned}\n",
        "Y\\rvert0\\rangle&=iXZ\\rvert0\\rangle=i\\rvert1\\rangle \\\\\n",
        "Y\\rvert1\\rangle&=-iXZ\\rvert0\\rangle=-iX\\rvert1\\rangle=-i\\rvert0\\rangle \\\\\n",
        "\\end{aligned}"
      ]
    },
    {
      "cell_type": "markdown",
      "metadata": {
        "id": "J2cVM33spkG_"
      },
      "source": [
        "### 04.04.04: Building Circuits"
      ]
    },
    {
      "cell_type": "markdown",
      "metadata": {
        "id": "-YvFUmY0pkG_"
      },
      "source": [
        "Let's briefly build some simple sequential single-qubit circuits that are going to become the building blocks for larger circuits that are the primary way of expressing quantum algorithms.\n",
        "\n",
        "The general rule for quantum circuits is that the input enters the circuit on the left, gets processed through the various quantum operators and exits to the right. This is shown in figure 1 below,\n",
        "\n",
        "<b>Figure 1.</b> Three single qubit gates: X, Z and Y are shown in circuit form."
      ]
    },
    {
      "cell_type": "code",
      "execution_count": null,
      "metadata": {
        "id": "gyODFJjkpkG_",
        "outputId": "387583f5-95a8-4203-bdf0-9ef20562093d"
      },
      "outputs": [
        {
          "data": {
            "image/png": "[encoded data removed]",
            "text/plain": [
              "<PIL.PngImagePlugin.PngImageFile image mode=RGBA size=1204x258>"
            ]
          },
          "metadata": {},
          "output_type": "display_data"
        }
      ],
      "source": [
        "display.display(img1)"
      ]
    },
    {
      "cell_type": "markdown",
      "metadata": {
        "id": "Ai-5y_PCpkG_"
      },
      "source": [
        "These gates can be connected in a sequence. For example if a qubit is first acted upon by the Pauli-Z gate and then by Pauli-X then the circuit is shown in figure 2.\n",
        "\n",
        "<b>Figure 2.</b> Pauli-Z gate is applied to the qubit first followed by Pauli-X gate."
      ]
    },
    {
      "cell_type": "code",
      "execution_count": null,
      "metadata": {
        "id": "ajHCzm3cpkHA",
        "outputId": "9897edae-c967-4c7a-ae93-0e08188eda2b"
      },
      "outputs": [
        {
          "data": {
            "image/png": "[encoded data removed]",
            "text/plain": [
              "<PIL.PngImagePlugin.PngImageFile image mode=RGBA size=606x208>"
            ]
          },
          "metadata": {},
          "output_type": "display_data"
        }
      ],
      "source": [
        "display.display(img2)"
      ]
    },
    {
      "cell_type": "markdown",
      "metadata": {
        "id": "qT2HRozXpkHA"
      },
      "source": [
        "Although, in the circuit diagram the input flows from left to right, when we write it as a linear expression we use the convention that the input vector is written to the right of the operator. For example if Pauli-Y is applied to $\\rvert0\\rangle$, we write $Y\\rvert0\\rangle$. As a result, the action of the circuit shown in figure 2 is written as,\n",
        "\n",
        "$$XZ\\rvert\\psi\\rangle$$\n",
        "\n",
        "where $\\rvert\\psi\\rangle$ is a single-qubit input. This looks the reverse of what is shown in the figure but is a little idiosyncrasy we have to get used to!"
      ]
    },
    {
      "cell_type": "markdown",
      "metadata": {
        "id": "qB2WhDaWpkHA"
      },
      "source": [
        "### 04.04.05: Computing the Circuit Operation"
      ]
    },
    {
      "cell_type": "markdown",
      "metadata": {
        "id": "pUeHV--IpkHA"
      },
      "source": [
        "Given a circuit, we can compute the overall effect of the circuit on a qubit by simply multiplying the operators together (in order) and then applying them with the qubit.\n",
        "\n",
        "For example, the operations shown in the circuit for figure 2 reduces to $XZ=\\begin{bmatrix}0&1\\\\1&0\\end{bmatrix}\\begin{bmatrix}1&0\\\\0&-1\\end{bmatrix}=\\begin{bmatrix}0&-1\\\\1&0\\end{bmatrix}$.\n",
        "\n",
        "If $\\rvert\\psi\\rangle=\\rvert+\\rangle$, then the resulting output is $\\begin{bmatrix}0&-1\\\\1&0\\end{bmatrix}\\begin{bmatrix}\\frac{1}{\\sqrt{2}}\\\\\\frac{1}{\\sqrt{2}}\\end{bmatrix}=\\begin{bmatrix}-\\frac{1}{\\sqrt{2}}\\\\\\frac{1}{\\sqrt{2}}\\end{bmatrix}$.\n",
        "\n",
        "This rule applies to as many sequential gate operations as we'd like to apply on a qubit."
      ]
    },
    {
      "cell_type": "markdown",
      "metadata": {
        "id": "zVpXqtIHpkHA",
        "jp-MarkdownHeadingCollapsed": true
      },
      "source": [
        "# 04 Quizzes"
      ]
    },
    {
      "cell_type": "markdown",
      "metadata": {
        "id": "kmX6JOjDpkHA",
        "jp-MarkdownHeadingCollapsed": true
      },
      "source": [
        "## Q04.01"
      ]
    },
    {
      "cell_type": "markdown",
      "metadata": {
        "id": "50ATQMaspkHA"
      },
      "source": [
        "1. Compute the probabilities of measurement outcomes for the following qubits with respect to the standard basis $\\{\\rvert0\\rangle, \\rvert1\\rangle\\}$ and the Hadamard basis $\\{\\rvert+\\rangle, \\rvert-\\rangle\\}$. Use the inner product to compute the transition amplitudes.\n",
        "\n",
        "    a. $-i\\rvert0\\rangle$\n",
        "    \n",
        "    b. $\\frac{i}{\\sqrt{2}}(\\rvert0\\rangle+\\rvert1\\rangle)$\n",
        "    \n",
        "    c. $\\frac{-1}{\\sqrt{2}}(\\rvert+\\rangle-\\rvert-\\rangle)$\n",
        "    \n",
        "    d. $\\frac{1}{\\sqrt{2}}(\\rvert0\\rangle+e^{-i\\pi}\\rvert1\\rangle)$\n",
        "    \n",
        "    e. $\\frac{1}{\\sqrt{2}}(\\rvert1\\rangle-\\rvert0\\rangle)$\n",
        "    \n",
        "    f. $\\frac{1+i}{2}\\rvert+\\rangle+\\frac{1-i}{2}\\rvert-\\rangle$\n",
        "<br>\n",
        "\n",
        "2. Given the following qubits, which ones are the same state and which ones represent distinct states?\n",
        "\n",
        "    a. $-i\\rvert0\\rangle$ and $\\rvert0\\rangle$\n",
        "    \n",
        "    b. $\\rvert1\\rangle$ and $-\\rvert1\\rangle$\n",
        "    \n",
        "    c. $\\frac{-1}{\\sqrt{2}}(\\rvert0\\rangle+\\rvert1\\rangle)$ and $\\frac{i}{\\sqrt{2}}(\\rvert0\\rangle+\\rvert1\\rangle)$\n",
        "    \n",
        "    d. $\\frac{-1}{\\sqrt{2}}(\\rvert+\\rangle-\\rvert-\\rangle)$ and $\\frac{1}{\\sqrt{2}}(\\rvert-\\rangle-\\rvert+\\rangle)$\n",
        "    \n",
        "    e. $\\frac{1}{\\sqrt{2}}(\\rvert0\\rangle+e^{-i\\pi}\\rvert1\\rangle)$ and $\\frac{1}{\\sqrt{2}}(\\rvert1\\rangle-\\rvert0\\rangle)$"
      ]
    },
    {
      "cell_type": "markdown",
      "metadata": {
        "id": "C1B20gKipkHA"
      },
      "source": [
        "## Q04.02"
      ]
    },
    {
      "cell_type": "markdown",
      "metadata": {
        "id": "_PXiBVMcpkHB"
      },
      "source": [
        "<b>1.1 What are the measurement operators for the following basis sets?</b>\n",
        "\n",
        "   1. $\\{\\rvert+\\rangle, \\rvert-\\rangle\\}$\n",
        "<br><br>    \n",
        "   2. $\\left\\{\\begin{bmatrix}\\frac{i\\sqrt{3}}{\\sqrt{5}}\\\\\\frac{\\sqrt{2}}{\\sqrt{5}}\\end{bmatrix}, \\begin{bmatrix}\\frac{\\sqrt{2}}{\\sqrt{5}}\\\\\\frac{i\\sqrt{3}}{\\sqrt{5}}\\end{bmatrix}\\right\\}$\n",
        "<br><br>    \n",
        "   3. $\\left\\{\\frac{1}{\\sqrt{3}}\\rvert+\\rangle-\\frac{\\sqrt{2}}{\\sqrt{3}}\\rvert-\\rangle, -\\frac{\\sqrt{2}}{\\sqrt{3}}\\rvert+\\rangle-\\frac{1}{\\sqrt{3}}\\rvert-\\rangle\\right\\}$\n",
        "<br>\n",
        "\n",
        "<b>1.2 For each of the measurement operators above, calculate the probability of collapse for the following qubits and the final state of the qubit after measurement.</b>\n",
        "<br>\n",
        "   1. $\\rvert+\\rangle$\n",
        "<br><br>         \n",
        "   2. $\\frac{i}{\\sqrt{3}}\\rvert0\\rangle-\\frac{\\sqrt{2}}{\\sqrt{3}}\\rvert1\\rangle$"
      ]
    },
    {
      "cell_type": "markdown",
      "metadata": {
        "id": "iCjxaZxRpkHB"
      },
      "source": [
        "## Q04.03"
      ]
    },
    {
      "cell_type": "markdown",
      "metadata": {
        "id": "j0cnc6y5pkHB"
      },
      "source": [
        "<b>2.1 Compute the density matrices for the following scenarios where a source is preparing the following qubits:</b>\n",
        "\n",
        "   1. $\\rvert+\\rangle$ with probability $\\frac{1}{3}$ and $\\rvert-\\rangle$ with probability $\\frac{2}{3}$.\n",
        "   \n",
        "   2. $\\rvert0\\rangle$ with probability $\\frac{1}{5}$ and $\\rvert+\\rangle$ with probability $\\frac{4}{5}$.\n",
        "   \n",
        "   3. $\\rvert-\\rangle$ with probability $\\frac{1}{4}$, $\\rvert0\\rangle$ with probability $\\frac{1}{5}$ and $\\rvert+\\rangle$ with probability $1-(\\frac{1}{4}+\\frac{1}{5})$.\n",
        "   \n",
        "   4. $\\frac{1+\\sqrt{3}i}{\\sqrt{5}}\\rvert+\\rangle+\\frac{1}{\\sqrt{5}}\\rvert-\\rangle$ with probability $\\frac{9}{10}$ and $\\rvert0\\rangle$ with probability $\\frac{1}{10}$.\n",
        "   \n",
        "   5. $e^{i\\frac{\\pi}{4}}\\rvert1\\rangle$\n",
        "\n",
        "<b>2.2 Compute the probability of following outcomes, using density matrix formulation, for each of the quantum system states given above.</b>\n",
        "    \n",
        "   1. $\\rvert0\\rangle$\n",
        "   \n",
        "   2. $\\rvert+\\rangle$\n",
        "   \n",
        "   3. $\\frac{i}{\\sqrt{3}}\\rvert0\\rangle-\\frac{\\sqrt{2}}{\\sqrt{3}}\\rvert1\\rangle$"
      ]
    },
    {
      "cell_type": "markdown",
      "metadata": {
        "id": "69thj6espkHB"
      },
      "source": [
        "## Q04.04"
      ]
    },
    {
      "cell_type": "markdown",
      "metadata": {
        "id": "9toDlK8VpkHB"
      },
      "source": [
        "In addition to the above gates, there are a few more that show up in literature quite often. These are: the phase shift gates $T=e^{i\\frac{\\pi}{8}}\\begin{bmatrix}e^{-i\\frac{\\pi}{8}}&0\\\\0&e^{i\\frac{\\pi}{8}}\\end{bmatrix}$ and $S=\\begin{bmatrix}1&0\\\\0&i\\end{bmatrix}$, the square-root of NOT gate $\\sqrt{NOT}=\\frac{1}{2}\\begin{bmatrix}1+i&1-i\\\\1-i&1+i\\end{bmatrix}$.\n",
        "\n",
        "1. Prove that all the Pauli gates are Unitary operations.\n",
        "\n",
        "2. Prove $H=\\frac{1}{\\sqrt{2}}(X+Z)$\n",
        "\n",
        "3. Prove $X=HZH$\n",
        "\n",
        "4. Prove $S=T^2$"
      ]
    },
    {
      "cell_type": "markdown",
      "metadata": {
        "id": "5VFWenJ2pkHB"
      },
      "source": [
        "## Q04.05"
      ]
    },
    {
      "cell_type": "markdown",
      "metadata": {
        "id": "cn-vg7fYpkHB"
      },
      "source": [
        "Compute the effect of the following circuit on each of the qubits given. Comment on your observations."
      ]
    },
    {
      "cell_type": "code",
      "execution_count": null,
      "metadata": {
        "id": "fNC9JEpbpkHB",
        "outputId": "def9809d-bdcc-42aa-d9b7-8f90f8553472"
      },
      "outputs": [
        {
          "data": {
            "image/png": "[encoded data removed]",
            "text/plain": [
              "<PIL.PngImagePlugin.PngImageFile image mode=RGBA size=600x152>"
            ]
          },
          "metadata": {},
          "output_type": "display_data"
        },
        {
          "data": {
            "image/png": "[encoded data removed]",
            "text/plain": [
              "<PIL.PngImagePlugin.PngImageFile image mode=RGBA size=722x144>"
            ]
          },
          "metadata": {},
          "output_type": "display_data"
        },
        {
          "data": {
            "image/png": "[encoded data removed]",
            "text/plain": [
              "<PIL.PngImagePlugin.PngImageFile image mode=RGBA size=270x148>"
            ]
          },
          "metadata": {},
          "output_type": "display_data"
        },
        {
          "data": {
            "image/png": "[encoded data removed]",
            "text/plain": [
              "<PIL.PngImagePlugin.PngImageFile image mode=RGBA size=412x140>"
            ]
          },
          "metadata": {},
          "output_type": "display_data"
        }
      ],
      "source": [
        "display.display(img3)\n",
        "display.display(img4)\n",
        "display.display(img5)\n",
        "display.display(img6)"
      ]
    },
    {
      "cell_type": "markdown",
      "metadata": {
        "id": "DMwYvs5HpkHC"
      },
      "source": [
        "Qubits:\n",
        "\n",
        "1. $\\rvert0\\rangle$\n",
        "\n",
        "2. $\\rvert1\\rangle$\n",
        "\n",
        "3. $\\rvert+\\rangle$\n",
        "\n",
        "4. $\\rvert-\\rangle$"
      ]
    }
  ],
  "metadata": {
    "celltoolbar": "Slideshow",
    "colab": {
      "provenance": []
    },
    "kernelspec": {
      "display_name": "qkd",
      "language": "python",
      "name": "python3"
    },
    "language_info": {
      "codemirror_mode": {
        "name": "ipython",
        "version": 3
      },
      "file_extension": ".py",
      "mimetype": "text/x-python",
      "name": "python",
      "nbconvert_exporter": "python",
      "pygments_lexer": "ipython3",
      "version": "3.13.0"
    }
  },
  "nbformat": 4,
  "nbformat_minor": 0
}
