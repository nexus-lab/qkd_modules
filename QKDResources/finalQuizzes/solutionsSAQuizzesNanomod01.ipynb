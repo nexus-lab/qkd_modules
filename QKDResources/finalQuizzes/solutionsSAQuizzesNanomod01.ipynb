{
 "cells": [
  {
   "cell_type": "markdown",
   "metadata": {},
   "source": [
    "# Solutions: Nanomodule 1\n",
    "\n",
    "## Self Assessment Quizzes\n",
    "***"
   ]
  },
  {
   "cell_type": "markdown",
   "metadata": {},
   "source": [
    "## Quiz 1.1\n",
    "\n",
    "1. Solve for $x$ where $x^2+25=0$.\n",
    "\n",
    "    Subtracting 25 from both sides, we get $x^2=-25$\n",
    "\n",
    "    Taking square roots on both sides, we get $x=\\sqrt{-25}=5i$.\n",
    "<br><br>        \n",
    "2. Simplify $i^{225}$.\n",
    "\n",
    "    We know that $i^2=-1$, $i^3=-i$ and $i^4=1$. Since 224 is divisible by 4 we can write, $i^{225}=(i^4)^{56}\\times i=1^{56}\\times i=i$.\n",
    "<br><br>           \n",
    "3. Solve for $x$, where $x^2+2x+10=0$.\n",
    "\n",
    "    Comparing with the general quadratic equation form $ax^2+bx+c=0$, we see that $a=1$, $b=2$ and $c=10$. Using the formula to find roots of a quadratic equation,\n",
    "    \n",
    "    $$x=\\frac{-b\\pm\\sqrt{b^2-4ac}}{2a}=\\frac{-2\\pm\\sqrt{2^2-4(1)(10)}}{2(1)}=\\frac{1}{2}(-2\\pm\\sqrt{4-40})=\\frac{1}{2}(-2\\pm6i)=-1\\pm3i$$\n",
    "    \n",
    "    Therefore, the two values of $x$ are $-1-3i$ and $-1+3i$.\n",
    "\n",
    "***\n",
    "***"
   ]
  },
  {
   "cell_type": "markdown",
   "metadata": {},
   "source": [
    "## Quiz 1.2\n",
    "\n",
    "Let $c_1=2+50i$ and $c_2=3+\\frac{1}{2}i$, compute the following:\n",
    "\n",
    "1. $c_1+c_2=(2+50i)+(3+\\frac{1}{2}i)=5+50.5i$\n",
    "<br><br>\n",
    "2. $c_1\\times c_2=(2+50i)(3+\\frac{1}{2}i)=6+i+150i+25i^2=-18+151i$\n",
    "<br><br>\n",
    "3. $7\\times c_2=7(3+\\frac{1}{2}i)=21+3.5i$\n",
    "\n",
    "***\n",
    "***"
   ]
  },
  {
   "cell_type": "markdown",
   "metadata": {},
   "source": [
    "### End of Self Assessment Quizes for Nanomodule 1\n",
    "***\n",
    "***"
   ]
  }
 ],
 "metadata": {
  "kernelspec": {
   "display_name": "Python 3 (ipykernel)",
   "language": "python",
   "name": "python3"
  },
  "language_info": {
   "codemirror_mode": {
    "name": "ipython",
    "version": 3
   },
   "file_extension": ".py",
   "mimetype": "text/x-python",
   "name": "python",
   "nbconvert_exporter": "python",
   "pygments_lexer": "ipython3",
   "version": "3.9.12"
  }
 },
 "nbformat": 4,
 "nbformat_minor": 2
}
