{
  "cells": [
    {
      "cell_type": "code",
      "execution_count": null,
      "metadata": {
        "id": "fuBY2xxbX343"
      },
      "outputs": [],
      "source": [
        "!git clone https://github.com/Zmoc/qkdModules.git\n",
        "%cd qkdModules"
      ]
    },
    {
      "cell_type": "code",
      "execution_count": null,
      "metadata": {
        "id": "6lDE7XdtX345"
      },
      "outputs": [],
      "source": [
        "from PIL import Image\n",
        "import IPython.display as display\n",
        "from QKDResources.pyfiles.bb84 import *\n",
        "import ipywidgets as widgets\n",
        "\n",
        "\n",
        "drive = \"QKDResources/\"\n",
        "\n",
        "img1 = Image.open(drive + \"images/07/nanomod22-fig1.png\")\n",
        "img2 = Image.open(drive + \"images/07/nanomod22-fig2.png\")\n",
        "img3 = Image.open(drive + \"images/07/nanomod23-fig1.png\")\n",
        "img4 = Image.open(drive + \"images/07/nanomod24-fig1.png\")"
      ]
    },
    {
      "cell_type": "markdown",
      "metadata": {
        "id": "Or1uAIwbX346"
      },
      "source": [
        "# 07 Quantum Key Distribution Methods"
      ]
    },
    {
      "cell_type": "markdown",
      "metadata": {
        "id": "V5rVDuyCX347"
      },
      "source": [
        "## Lesson Goals"
      ]
    },
    {
      "cell_type": "markdown",
      "metadata": {
        "id": "DsRmpXulX347"
      },
      "source": [
        "1. Students will apply the principle of superposition and no-cloning theorem to construct a quantum key distribution protocol.\n",
        "2. Students will apply quantum operations and measurement principles to quantum key distribution.\n",
        "3. Students will understand the importance of using non-orthogonal states in QKD.\n",
        "4. Students will analyze the QKD protocol for detecting eavesdropping.\n",
        "5. Students will understand the working of B92 quantum key distribution protocol.\n",
        "6. Students will understand the significance of non-orthogonal bases in QKD protocol.\n",
        "7. Students will apply the concept of measurement and non-orthogonal bases.\n",
        "8. Students will be able to analyze the effect of an eavesdropper on a QKD protocol.\n",
        "9. Students will understand the concept of double lock cryptography.\n",
        "10. Students will know the working of three-stage quantum key distribution protocol.\n",
        "11. Students will be able to apply the concepts of orthogonality of basis, measurement and indistinguishability of non-orthogonal states.\n",
        "12. Students will apply the principle of quantum entanglement and Bell's inequality to construct a quantum key distribution protocol.\n",
        "13. Students will be able to use Bell's inequality to check for eavesdropping.\n",
        "14. Students will learn quantum key distribution based on orthogonal quantum states.\n",
        "15. Students will use Mach-Zehnder interferometer for QKD."
      ]
    },
    {
      "cell_type": "markdown",
      "metadata": {
        "id": "YWiHFXuaX348"
      },
      "source": [
        "## 07.01: BB84: The First Quantum Key Distribution Protocol"
      ]
    },
    {
      "cell_type": "markdown",
      "metadata": {
        "scrolled": false,
        "id": "Ec7au4hjX348"
      },
      "source": [
        "### 07.01.01: Background"
      ]
    },
    {
      "cell_type": "markdown",
      "metadata": {
        "id": "jRcBsm4JX348"
      },
      "source": [
        "BB84 - truly is one of the most impactful protocols for public key exchange, and is credited with starting the entire field of quantum cryptography!\n",
        "\n",
        "Named after it’s inventors Charles Bennett and Gilles Brassard, the BB84 protocol demonstrates how fundamental laws of quantum mechanics can be used to build cryptographic key exchange protocols free of any mathematical assumptions. No classical analog of such a protocol exists."
      ]
    },
    {
      "cell_type": "markdown",
      "metadata": {
        "id": "cbQf1beNX349"
      },
      "source": [
        "### 07.01.02: Introduction - BB84"
      ]
    },
    {
      "cell_type": "markdown",
      "metadata": {
        "id": "EIUx0e8rX34-"
      },
      "source": [
        "BB84 relies on the following fundamental properties of qubits for security:\n",
        "\n",
        "1. No cloning theorem which states that arbitrary unknown single qubits cannot be cloned.\n",
        "\n",
        "2. Non-orthogonal qubits can not be reliable distinguished from each other.\n",
        "\n",
        "Both of these properties provide protection against an eavesdropper. In fact, the no-cloning theorem forces the eavesdropping to be done by an active attacker (as opposed to a passive attacker). By this we mean, the attackers cannot idly sit by copying the communication for later processing. The attacker will, at a minimum, have to intercept and resend all quantum communication."
      ]
    },
    {
      "cell_type": "markdown",
      "metadata": {
        "id": "V9atFw5_X34-"
      },
      "source": [
        "### 07.01.03: Assumptions"
      ]
    },
    {
      "cell_type": "markdown",
      "metadata": {
        "id": "-KqH_6bbX34-"
      },
      "source": [
        "Before we describe the BB84 protocol, let's list out its assumptions\n",
        "\n",
        "1. Single Photon Emissions: This is perhaps the most demanding assumption. BB84 is only secure when single photons are used to transmit key bits.\n",
        "\n",
        "2. Authenticated Channel: We assume that the transmitter and receiver are connected through authenticated channels (especially classical ones). In other words, Alice and Bob know who they are talking to over classical channels.\n",
        "\n",
        "3. Availability of both Quantum and Classical Channels: Although this is not a very strict requirement in that classical communication can be done over a quantum channel."
      ]
    },
    {
      "cell_type": "markdown",
      "metadata": {
        "id": "xwLUl9miX34-"
      },
      "source": [
        "### 07.01.04: The BB84 Protocol"
      ]
    },
    {
      "cell_type": "markdown",
      "metadata": {
        "id": "D9WauqLlX34_"
      },
      "source": [
        "*The protocol is as follows.*\n",
        "\n",
        "#### Pre-agreement (public)\n",
        "\n",
        "(i) Alice and Bob agree upon the non-orthogonal bases to be used. Traditionally these are the rectilinear (&#10010;) and diagonal (&#x2716;) bases.\n",
        "\n",
        "(ii) The parties then agree upon a mapping of bits to qubits. For example,\n",
        "\n",
        "| Basis | 0 | 1 |     \n",
        "|:--:|:--:|:--:|\n",
        "| Rectilinear (&#10010;) |$\\mathrm{0}^{\\circ}$|$\\mathrm{90}^{\\circ}$|\n",
        "| Diagonal (&#x2716;) | $\\mathrm{45}^{\\circ}$|$\\mathrm{135}^{\\circ}$|     \n",
        "      \n",
        "\n",
        "Therefore, Alice transmits 0 degree polarised photon for bit 0 and and 90 degree polarized photon for bit 1 in rectilinear basis.\n",
        "Similarly, for the diagonal basis. Bob will measure the received photons in the same two bases.\n",
        "\n",
        "A linearly polarized photon behaves like a qubit and its state can be written as $\\begin{bmatrix}cos(\\theta)  \\\\  sin(\\theta)\\end{bmatrix}$, where $\\theta$ is the angle of polarization. Therefore, in the rectilinear basis a $0^\\circ$ polarized photon corresponds to the vector $\\begin{bmatrix}1\\\\0\\end{bmatrix}$ and a $90^\\circ$ polarized photon corresponds to the vector $\\begin{bmatrix}0\\\\1\\end{bmatrix}$.\n",
        "\n",
        "Similarly, in the diagonal basis a $45^\\circ$ polarized photon corresponds to $\\begin{bmatrix}\\frac{1}{\\sqrt{2}}\\\\\\frac{1}{\\sqrt{2}}\\end{bmatrix}$ and a $135^\\circ$ polarized photon corresponds to the state vector $\\begin{bmatrix}\\frac{1}{\\sqrt{2}}\\\\-\\frac{1}{\\sqrt{2}}\\end{bmatrix}$.\n"
      ]
    },
    {
      "cell_type": "markdown",
      "metadata": {
        "id": "lYIhz40nX34_"
      },
      "source": [
        "### 07.01.05: Key Exchange Phase"
      ]
    },
    {
      "cell_type": "markdown",
      "metadata": {
        "id": "KIFYTIz3X34_"
      },
      "source": [
        "(i) Alice generates two random n-bit strings $k$ and $b$. The bits in $k$ form the key bits Alice wishes to transmit and bits in $b$ simply help chose &#10010; or &#x2716; basis.\n",
        "\n",
        "(ii) For each key bit $k_i$, Alice transmits one of the photons {&#8593;,&#8598;,&#8594;,&#8599;} depending on the basis dictated by $b_i$.\n",
        "\n",
        "(iii) For every photon received, Bob measures it in a randomly chosen basis, &#10010; or &#x2716;, and notes down his observations as bit string $k'$.\n",
        "\n",
        "If Bob happens to choose the “correct” basis $b_i$ for a photon pulse, he will retrieve the correct value of $k_i$ = $k_i’$  otherwise he will have a random result."
      ]
    },
    {
      "cell_type": "markdown",
      "metadata": {
        "id": "HkVLAeBaX34_"
      },
      "source": [
        "### 07.01.06: Key Sifting Phase"
      ]
    },
    {
      "cell_type": "markdown",
      "metadata": {
        "id": "2CGbr5-hX35A"
      },
      "source": [
        "Once Bob has received and measured all the qubits, he announces to Alice the bases he used for each qubit. Alice then tells Bob which of the bases he used are correct. Both the parties then throw away the bits that Bob received in the incorrect bases which happens $\\frac{1}{2}$ the time.\n",
        "\n",
        "The remaining bits they keep as the sifted key.\n",
        "\n",
        "Now they proceed to check for evidence of eavesdropping."
      ]
    },
    {
      "cell_type": "markdown",
      "metadata": {
        "id": "gE-cHRbjX35A"
      },
      "source": [
        "### 07.01.07: Eavesdropper Detection"
      ]
    },
    {
      "cell_type": "markdown",
      "metadata": {
        "id": "l4nASzvjX35A"
      },
      "source": [
        "Ideally all the bits $k_i$ and $k_i’$ will match between Alice and Bob for the bases that matched between them. However, if an eavesdropper, Eve, tries to intercept and listen to the communications she will cause errors in some values that Bob should have received correctly. Therefore, Alice and Bob now publicly compare some of the bits received in the correct basis to detect if there is an eavesdropper. The probability that Eve had eavesdropped on a particular bit and yet Alice and Bob's bits matchup is $\\frac{1}{2}$. In other words, for every bit compared, Eve is detected with a probability of $\\frac{1}{2}$.\n",
        "\n",
        "#### The reasoning is as follows:\n",
        "\n",
        "*Note: Eve and Bob will have exactly the same information about the photons that are being transmitted by Alice.*\n",
        "\n",
        "For a given photon the probability that Eve’s and Bob’s measurement bases match up is $\\frac{1}{2}$. Out of the bases that match up there is another ½ probability that their bases will match that of Alice’s. Therefore, out of $n$ bits about $\\frac{n}{2}$ are thrown away because of basis mismatch, and about $\\frac{1}{2}$ * $\\frac{n}{2}$ are in error because of Eve. In fact, the probability of not detecting Eve falls exponentially as more bits are checked."
      ]
    },
    {
      "cell_type": "markdown",
      "metadata": {
        "id": "seMla022X35A"
      },
      "source": [
        "### 07.01.08: Security of BB84"
      ]
    },
    {
      "cell_type": "markdown",
      "metadata": {
        "id": "06c5WGNRX35A"
      },
      "source": [
        "Eve cannot distinguish between qubits in rectilinear basis and the diagonal basis. If she could she would measure them in the correct basis and retrieve the entire key. Mathematically this is because the density matrix of qubits in rectilinear basis is identical to those in diagonal basis.\n",
        "\n",
        "There is a theorem in quantum mechanics that states that two systems with identical density matrices are indistinguishable.\n",
        "\n",
        "We can compute the density matrices below:\n",
        "\n",
        "In rectilinear basis, Alice produces $\\rvert 0 \\rangle$ and $\\rvert 1 \\rangle$ with equal probability. Therefore the density operator is\n",
        "\\begin{aligned}\n",
        "\\rho_✚ &= \\frac{1}{2} \\rvert 0 \\rangle \\langle 0 \\rvert + \\frac{1}{2} \\rvert 1 \\rangle \\langle 1 \\rvert \\\\\n",
        "&= \\frac{1}{2} \\begin{bmatrix}1\\\\0\\end{bmatrix}\\begin{bmatrix}1&0 \\end{bmatrix} + \\frac{1}{2} \\begin{bmatrix}0\\\\1\\end{bmatrix}\\begin{bmatrix}0&1 \\end{bmatrix} \\\\\n",
        "&= \\frac{1}{2}\\begin{bmatrix}1 & 0\\\\0 & 1\\end{bmatrix} \\\\\n",
        "\\end{aligned}\n",
        "\n",
        "Similarly, Alice produces $\\rvert + \\rangle$ and $\\rvert - \\rangle$ with equal probability in the diagonal basis. Therefore, the density operator is,\n",
        "\n",
        "\\begin{aligned}\n",
        "\\rho_✖ &= \\frac{1}{2} \\left| + \\right\\rangle \\left\\langle + \\right| + \\frac{1}{2} \\left| - \\right\\rangle \\left\\langle - \\right| \\\\\n",
        "&= \\frac{1}{2}\n",
        "\\begin{bmatrix}\n",
        "\\frac{1}{\\sqrt{2}} \\\\\n",
        "\\frac{1}{\\sqrt{2}}\n",
        "\\end{bmatrix}\n",
        "\\begin{bmatrix}\n",
        "\\frac{1}{\\sqrt{2}} & \\frac{1}{\\sqrt{2}}\n",
        "\\end{bmatrix}\n",
        "+\n",
        "\\frac{1}{2}\n",
        "\\begin{bmatrix}\n",
        "\\frac{1}{\\sqrt{2}} \\\\\n",
        "-\\frac{1}{\\sqrt{2}}\n",
        "\\end{bmatrix}\n",
        "\\begin{bmatrix}\n",
        "\\frac{1}{\\sqrt{2}} & -\\frac{1}{\\sqrt{2}}\n",
        "\\end{bmatrix} \\\\\n",
        "&= \\frac{1}{4}\n",
        "\\begin{bmatrix}\n",
        "1 \\\\\n",
        "1\n",
        "\\end{bmatrix}\n",
        "\\begin{bmatrix}\n",
        "1 & 1\n",
        "\\end{bmatrix}\n",
        "+\n",
        "\\frac{1}{4}\n",
        "\\begin{bmatrix}\n",
        "1 \\\\\n",
        "-1\n",
        "\\end{bmatrix}\n",
        "\\begin{bmatrix}\n",
        "1 & -1\n",
        "\\end{bmatrix} \\\\\n",
        "&= \\frac{1}{2}\n",
        "\\begin{bmatrix}\n",
        "1 & 0 \\\\\n",
        "0 & 1\n",
        "\\end{bmatrix} \\\\\n",
        "&= \\rho_✚\n",
        "\\end{aligned}"
      ]
    },
    {
      "cell_type": "markdown",
      "metadata": {
        "id": "4jYcCxGmX35B"
      },
      "source": [
        "### 07.01.09: BB84 Widget"
      ]
    },
    {
      "cell_type": "markdown",
      "metadata": {
        "id": "yahDipvAX35C"
      },
      "source": [
        "**Run the code below to instantiate an interactive BB84 widget in order to understand the protocol and execute it.**"
      ]
    },
    {
      "cell_type": "code",
      "execution_count": null,
      "metadata": {
        "id": "mChW8xb4X35C"
      },
      "outputs": [],
      "source": [
        "createTable()"
      ]
    },
    {
      "cell_type": "markdown",
      "metadata": {
        "id": "-MmMWOGuX35C"
      },
      "source": [
        "### 07.01.10: Key Reconciliation and Privacy Amplification"
      ]
    },
    {
      "cell_type": "markdown",
      "metadata": {
        "id": "JLFkxj__X35C"
      },
      "source": [
        "Key reconciliation (also called information reconciliation) is a form of error correction that Alice and Bob execute on the key bits that they have after finishing the eavesdropper detection phase. This error correction is needed because in practical cases all channels have certain error rates and therefore Alice and Bob have to tolerate some amount of errors (as natural errors) when comparing bits to look for Eve. Typically, this error correction is done through cascade error correction scheme proposed in 1994 and lately through turbo codes or polar codes.\n",
        "\n",
        "When correcting errors, the error correction protocol may leak some information about the actual key bits. This may be in addition to any information that Eve has already siphoned off during the key distribution phase. As a result Eve now has partial information about the key. In order to reduce the amount of information that Eve has about the key, the key is (after error correction) passed through a universal hash function. This reduces the size of the key to a smaller size but also reduces the correlation between the bits that Eve has and the final key that is output from the hash function. This step is called privacy amplification."
      ]
    },
    {
      "cell_type": "markdown",
      "metadata": {
        "id": "GdCUsWKVX35C"
      },
      "source": [
        "### BB84 Simulator"
      ]
    },
    {
      "cell_type": "markdown",
      "metadata": {
        "id": "MXDDQegMX35D"
      },
      "source": [
        "The following cell provides widgets to set the values that control the main program.\n",
        "* The first widget sets how many qubits are to be transmitted.  \n",
        "* The second widget controls whether Eve will be active or not.\n",
        "* The third, fourth and fifth widgets set the bias of &#10010; to &#x2716; for Alice, Bob and Eve.\n",
        "\n",
        "These values are passed to the main program as parameters."
      ]
    },
    {
      "cell_type": "code",
      "execution_count": null,
      "metadata": {
        "id": "xC5oUUqbX35D"
      },
      "outputs": [],
      "source": [
        "# Configuration of the widget that controls the number of qubits\n",
        "number_of_qubits = widgets.IntText(\n",
        "                    value=100,\n",
        "                    disabled=False\n",
        "                    )\n",
        "qubit_control = widgets.VBox([widgets.Label(value=\"Enter number of initial qubits\"), number_of_qubits])\n",
        "\n",
        "# Configuration of the widget that controls whether Eve is active or not\n",
        "is_Eve_active =  widgets.ToggleButton(\n",
        "                    value=False,\n",
        "                    description='Click to activate',\n",
        "                    disabled=False,\n",
        "                    button_style='success', # 'success', 'info', 'warning', 'danger' or ''\n",
        "                    tooltip='Will Eve intercept the transmission',\n",
        "                    icon=''\n",
        "                    )\n",
        "eve_message = widgets.Label(value=\"Eve is not active\")\n",
        "eve_control = widgets.VBox([eve_message, is_Eve_active])\n",
        "\n",
        "# Configuration of an event handler for the eve control widget\n",
        "def on_value_change(change):\n",
        "    is_Eve_active.description = 'Click to deactivate' if change['new'] else 'Click to activate'\n",
        "    eve_message.value = 'Eve is active' if change['new'] else 'Eve is not active'\n",
        "is_Eve_active.observe(on_value_change, names='value')\n",
        "\n",
        "# Configuration of the widget that controls Alice's bias towards the diagonal bases\n",
        "abias = widgets.BoundedIntText(\n",
        "                    value=50,\n",
        "                    min=0,\n",
        "                    max=100,\n",
        "                    step=1,\n",
        "                    disabled=False\n",
        "                    )\n",
        "abias_control = widgets.VBox([widgets.Label(value=\"Enter Alice's bias for diagnal basis over standard basis (0-100)\"), abias])\n",
        "\n",
        "# Configuration of the widget that controls Bob's bias towards the diagonal bases\n",
        "bbias = widgets.BoundedIntText(\n",
        "                    value=50,\n",
        "                    min=0,\n",
        "                    max=100,\n",
        "                    step=1,\n",
        "                    disabled=False\n",
        "                    )\n",
        "bbias_control = widgets.VBox([widgets.Label(value=\"Enter Bob's bias for diagnal basis over standard basis (0-100)\"), bbias])\n",
        "\n",
        "# Configuration of the widget that controls Eve's bias towards the diagonal bases\n",
        "ebias = widgets.BoundedIntText(\n",
        "                    value=50,\n",
        "                    min=0,\n",
        "                    max=100,\n",
        "                    step=1,\n",
        "                    disabled=False\n",
        "                    )\n",
        "ebias_control = widgets.VBox([widgets.Label(value=\"Enter Eve's bias for diagnal basis over standard basis (0-100)\"), ebias])\n",
        "\n",
        "# display the control widgets\n",
        "display.display(qubit_control, eve_control, abias_control, bbias_control, ebias_control)"
      ]
    },
    {
      "cell_type": "markdown",
      "metadata": {
        "id": "mzx6O0TjX35D"
      },
      "source": [
        "After setting the parameters you may either:\n",
        "* Run each of the following cells one at a time in order or\n",
        "* Select \"Run All Below\" in the \"Cell\" sub-menu from here\n",
        "\n",
        "The following cells define the classes, function and main program.  Output is provided after each cell."
      ]
    },
    {
      "cell_type": "code",
      "execution_count": null,
      "metadata": {
        "id": "aPsXDO2XX35D"
      },
      "outputs": [],
      "source": [
        "class Messenger:\n",
        "    \"\"\"Inherited class with methods common to both BB84 and B92 protocols\"\"\"\n",
        "    from random import choice\n",
        "    from random import choices\n",
        "\n",
        "    # There are no class variables defined, only instance variables.\n",
        "    # Therefore no data is shared between instances without going through the main program\n",
        "    def __init__(self, number_of_qubits):\n",
        "        \"\"\"Initialize a new instance\"\"\"\n",
        "        self.key = []\n",
        "        self.bases = []\n",
        "        self.valid_bit = []\n",
        "        self.secret_bit = []\n",
        "        for i in range(number_of_qubits):\n",
        "            self.valid_bit.append(1)\n",
        "            self.secret_bit.append(1)\n",
        "\n",
        "    def generate_bits(self, number_of_bits):\n",
        "        \"\"\"Populate the key instance variable with a given number of random bits and return what was populated\"\"\"\n",
        "        self.key = self.choices([0,1], k=number_of_bits)\n",
        "        return self.key\n",
        "\n",
        "    def generate_bases(self, number_of_qubits, biasToX):\n",
        "        \"\"\"Populate the bases instance variable with a given number of random bits and return what was populated\"\"\"\n",
        "        self.bases = self.choices(['×','+'], cum_weights=[biasToX,100], k=number_of_qubits)\n",
        "        return self.bases\n",
        "\n",
        "    def scratch_bits(self, input):\n",
        "        \"\"\"Based on the markers given in the input parameter, clear the bits considered to be valid and secret\"\"\"\n",
        "        markers = ['W', '?', '✓']\n",
        "        for i, delete_indicator in enumerate(input):\n",
        "            if delete_indicator in markers:\n",
        "                self.valid_bit[i] = 0\n",
        "                self.secret_bit[i] = 0\n",
        "        return\n",
        "\n",
        "    def choose_half(self, input):\n",
        "        \"\"\"Given which are valid choices in the input parameter, make a 50/50 choice which to mark from the valid choices\"\"\"\n",
        "        output = []\n",
        "        for i, bit in enumerate(input):\n",
        "            if bit == 'W' or bit == '?':\n",
        "                output.append('')\n",
        "            else:\n",
        "                if self.choice([0, 1]):\n",
        "                    output.append('')\n",
        "                else:\n",
        "                    output.append('✓')\n",
        "        return output\n",
        "\n",
        "    def check_bits(self, input_key, bits_to_check, valid_bit):\n",
        "        \"\"\"From a given list of bits to check, see if the inputted bit equals the corresponding instance key bit\"\"\"\n",
        "        output = []\n",
        "        for i, bit in enumerate(bits_to_check):\n",
        "            if bit == '✓':\n",
        "                self.secret_bit[i] = 0\n",
        "                if input_key[i] == self.key[i]:\n",
        "                    output.append('✓')\n",
        "                else:\n",
        "                    output.append('')\n",
        "            else:\n",
        "                # If a bit is a valid bit but just not on the chosen list, reset it so it can be reused for multiple runs\n",
        "                if valid_bit[i] != 'W' and valid_bit[i] != '?':\n",
        "                    self.secret_bit[i] = 1\n",
        "                output.append('')\n",
        "        return output\n",
        "\n",
        "    def show_valid_key(self):\n",
        "        \"\"\"Return the key for this instance based on the bits marked as valid\"\"\"\n",
        "        output = []\n",
        "        for key_bit, check_bit in zip(self.key, self.valid_bit):\n",
        "            output.append(key_bit) if check_bit == 1 else output.append('')\n",
        "        return output\n",
        "\n",
        "    def show_secret_key(self):\n",
        "        \"\"\"Return the key for this instance based on the bits marked as secret\"\"\"\n",
        "        output = []\n",
        "        for key_bit, check_bit in zip(self.key, self.secret_bit):\n",
        "            output.append(key_bit) if check_bit == 1 else output.append('')\n",
        "        return output\n",
        "\n",
        "class BB84Messenger(Messenger):\n",
        "    \"\"\"methods for BB84 messaging\"\"\"\n",
        "\n",
        "    def encode_qubit(self, state, basis):\n",
        "        \"\"\"Return the qubit encoding based on the BB84 protocol\"\"\"\n",
        "        vocabulary = [{'+':'→', '×':'↗'}, {'+':'↑', '×':'↖'}]\n",
        "        return vocabulary[state][basis]\n",
        "\n",
        "    def transmit_key(self):\n",
        "        \"\"\"Loop through all bits, returning the encoded BB84 qubits\"\"\"\n",
        "        return ''.join([self.encode_qubit(key, basis) for key, basis in zip(self.key, self.bases)])\n",
        "\n",
        "    def compare_bases(self, input):\n",
        "        \"\"\"Compare the inputted bases with the instance bases and return a 'C' if they match or 'W' if they do not\"\"\"\n",
        "        output = []\n",
        "        for my_basis, other_basis in zip(self.bases, input):\n",
        "            output.append('C') if my_basis == other_basis else output.append('W')\n",
        "        return output\n",
        "\n",
        "    def receive_key(self, input):\n",
        "        \"\"\"Process an inputted string to extract the key bits and return what qubits were observed\"\"\"\n",
        "        qubits = list(input)\n",
        "        del self.key[:]\n",
        "        observed = []\n",
        "        for qubit, basis in zip(qubits, self.bases):\n",
        "            if basis == '+' and qubit == '→':\n",
        "                self.key.append(0)\n",
        "                observed.append('→')\n",
        "            elif basis == '×' and qubit == '↗':\n",
        "                self.key.append(0)\n",
        "                observed.append('↗')\n",
        "            elif basis == '+' and qubit == '↑':\n",
        "                self.key.append(1)\n",
        "                observed.append('↑')\n",
        "            elif basis == '×' and qubit == '↖':\n",
        "                self.key.append(1)\n",
        "                observed.append('↖')\n",
        "            else:\n",
        "                self.key.append(self.choice([0, 1]))\n",
        "                observed.append(self.encode_qubit(self.key[len(self.key)-1], basis))\n",
        "        return observed\n",
        "\n",
        "class B92Messenger(Messenger):\n",
        "    \"\"\"methods for B92 messaging\"\"\"\n",
        "\n",
        "    def encode_qubit(self, state):\n",
        "        \"\"\"Return the qubit encoding based on the B92 protocol\"\"\"\n",
        "        vocabulary = ['→', '↗']\n",
        "        if state == '?':\n",
        "            state = self.choice([0, 1])\n",
        "        return vocabulary[state]\n",
        "\n",
        "    def transmit_key(self):\n",
        "        \"\"\"Loop through all bits, returning the encoded B92 qubits\"\"\"\n",
        "        return ''.join([self.encode_qubit(key) for key in self.key])\n",
        "\n",
        "    def receive_key(self, input):\n",
        "        \"\"\"Process an inputted string to extract the key bits and return what qubits were observed\"\"\"\n",
        "        qubits = list(input)\n",
        "        del self.key[:]\n",
        "        observed = []\n",
        "        for qubit, basis in zip(qubits, self.bases):\n",
        "            if basis == '+' and qubit == '↗':\n",
        "                self.key.append(1)\n",
        "                observed.append('↑')\n",
        "            elif basis == '+' and qubit == '→':\n",
        "                self.key.append('?')\n",
        "                observed.append('→')\n",
        "            elif basis == '×' and qubit == '→':\n",
        "                self.key.append(0)\n",
        "                observed.append('↖')\n",
        "            elif basis == '×' and qubit == '↗':\n",
        "                self.key.append('?')\n",
        "                observed.append('↗')\n",
        "            else:\n",
        "                self.key.append('E')\n",
        "                observed.append('E')\n",
        "        return observed\n",
        "\n",
        "    def show_questionable_bits(self):\n",
        "        \"\"\"Return a list of bit positions for the qubits that cannot be accurately measured\"\"\"\n",
        "        output = []\n",
        "        for check_bit in self.key:\n",
        "            output.append('?') if check_bit == '?' else output.append('')\n",
        "        return output\n",
        "\n",
        "\n",
        "def printTable(caption, rows):\n",
        "    \"\"\"Make a nice looking table like in the book\"\"\"\n",
        "    from IPython.display import HTML, display\n",
        "    display(HTML(\n",
        "    '<table style=\"border-bottom: 4px double #333;border-top: 4px double #333;padding: 10px 0;\">' +\n",
        "    '<caption style=\"font-weight:900; color:black; border-top: 4px double #333;\">' + caption + '</caption>' +\n",
        "    '<tr>{}</tr></table>'.format('</tr><tr>'.join(\n",
        "        '<td>' + row[0] + '</td><td>{}</td>'.format('</td><td>'.join(row[1])) for row in rows))))"
      ]
    },
    {
      "cell_type": "markdown",
      "metadata": {
        "id": "McYvRvnkX35E"
      },
      "source": [
        "#### Main program"
      ]
    },
    {
      "cell_type": "code",
      "execution_count": null,
      "metadata": {
        "id": "Pk5sbi5MX35E"
      },
      "outputs": [],
      "source": [
        "# parameters passed into main program from GUI\n",
        "n = number_of_qubits.value\n",
        "eve_present = is_Eve_active.value\n",
        "aliceXbias = abias.value\n",
        "bobXbias = bbias.value\n",
        "eveXbias = ebias.value\n",
        "\n",
        "# instantiate a messenger class for each persona\n",
        "alice84 = BB84Messenger(n)\n",
        "bob84 = BB84Messenger(n)\n",
        "eve84 = BB84Messenger(n)\n",
        "\n",
        "# Let's see what we are working with\n",
        "print(\"Program parameters have been entered into the program as follows:\")\n",
        "print(\"  * Alice will start with {} qubits to generate a key to send to Bob.\".format(n))\n",
        "print(\"  * Eve will {}intercept the transmission.\".format('' if eve_present else 'not '))\n",
        "print(\"  * Alice has a {}/{} chance of choosing diagonal basis over standard basis\".format(aliceXbias, 100 - aliceXbias))\n",
        "print(\"  * Bob has a {}/{} chance of choosing diagonal basis over standard basis\".format(bobXbias, 100 - bobXbias))\n",
        "print(\"  * Eve has a {}/{} chance of choosing diagonal basis over standard basis\".format(eveXbias, 100 - eveXbias))"
      ]
    },
    {
      "cell_type": "markdown",
      "metadata": {
        "id": "BoEblOCvX35E"
      },
      "source": [
        "#### Step 1 of the BB84 protocol - Alice sends a candidate key\n",
        "\n",
        "* Alice flips a coin *n* times to determine which classical bits to send.  \n",
        "* She then flips the coin another *n* times to determine in which of the two bases to send those bits.  \n",
        "* She then sends the bits in their appropriate basis."
      ]
    },
    {
      "cell_type": "code",
      "execution_count": null,
      "metadata": {
        "id": "M66Hf6fFX35F"
      },
      "outputs": [],
      "source": [
        "# Alice randomly generates n bits.  These are private to Alice but pulled out here so they can be printed to show what was done\n",
        "alice84bits = alice84.generate_bits(n)\n",
        "\n",
        "# Alice randomly generates n bases biased towards X as defined by aliceXvalue choices out of 100\n",
        "alice84bases = alice84.generate_bases(n, aliceXbias)\n",
        "\n",
        "# Alice takes the bits she generated, encodes them into qubits using her generated bases, and puts them on the transmission line\n",
        "transmission = alice84.transmit_key()\n",
        "\n",
        "# Show all the work done by Alice in a nice convienient table\n",
        "printTable(caption=\"Step 1: Alice sends \" + str(n) + \" random bits in random bases\",\n",
        "           rows = [[\"Bit&nbsp;number\", map(str, range(1, n+1))],\n",
        "                   [\"Alice's&nbsp;random&nbsp;bits\", map(str, alice84bits)],\n",
        "                   [\"Alice's&nbsp;random&nbsp;bases\", alice84bases],\n",
        "                   [\"Alice&nbsp;sends\", transmission]]\n",
        "          )"
      ]
    },
    {
      "cell_type": "markdown",
      "metadata": {
        "id": "ysl6jRUvX35F"
      },
      "source": [
        "#### Step 2 of the BB84 protocol - Bob receives a candidate key\n",
        "\n",
        "* Since Bob doesn't know the bases used by Alice, he flips a coin *n* times to determine the basis by which to measure.\n",
        "* If Eve is present, then the transmission from Alice is intercepted then retransmitted to Bob\n",
        "* Bob uses these random bases to measure the qubits sent from Alice"
      ]
    },
    {
      "cell_type": "code",
      "execution_count": null,
      "metadata": {
        "id": "HO_G2yfmX35F"
      },
      "outputs": [],
      "source": [
        "# Bob randomly generates his n bases with a bias towards X defined by bobXbias\n",
        "bob84bases = bob84.generate_bases(n, bobXbias)\n",
        "\n",
        "# If eve is present, then the interception occurs\n",
        "if eve_present:\n",
        "\n",
        "    # Eve generates her bases with her given bias.\n",
        "    eve84.generate_bases(n, eveXbias)\n",
        "\n",
        "    # Eve intercepts the tranmission and reads it\n",
        "    eve84.receive_key(transmission)\n",
        "\n",
        "    # She then replaces it with her own encoding from her set of randomly chosen bases\n",
        "    transmission = eve84.transmit_key()\n",
        "\n",
        "# Bob receives the transmission but it could have come from Alice or Eve\n",
        "bob84received = bob84.receive_key(transmission)\n",
        "\n",
        "# Show everything from Bob's point of view\n",
        "printTable(caption=\"Step 2: Bob receives \" + str(n) + \" random bits in random measurements\",\n",
        "           rows = [[\"Bit&nbsp;number\", map(str, range(1, n+1))],\n",
        "                   [\"Bob's&nbsp;random&nbsp;bases\", bob84bases],\n",
        "                   [\"Bob&nbsp;observes\", bob84received],\n",
        "                   [\"Bob's&nbsp;bits\", map(str, bob84.key)]]\n",
        "          )"
      ]
    },
    {
      "cell_type": "markdown",
      "metadata": {
        "id": "m6Ey4_rcX35F"
      },
      "source": [
        "#### Step 3 of BB84 protocol - Alice and Bob evaluate the candidate key\n",
        "\n",
        "* Bob tells Alice the bases that he chose\n",
        "* Alice replies by telling Bob which basis is correct and which ones are wrong\n",
        "* Alice and Bob scratch out the bits that had the wrong basis\n",
        "* On average the length of the remaining subsequence should be about $\\frac{n}{2}$ bits"
      ]
    },
    {
      "cell_type": "code",
      "execution_count": null,
      "metadata": {
        "id": "t_jaIs-uX35F"
      },
      "outputs": [],
      "source": [
        "# Bob sends his bases to Alice who does a comparison and returns which ones match correctly and which are wrong\n",
        "bases_comparison = alice84.compare_bases(bob84bases)\n",
        "\n",
        "# Alice drops the bits that do not match\n",
        "alice84.scratch_bits(bases_comparison)\n",
        "\n",
        "# So does Bob\n",
        "bob84.scratch_bits(bases_comparison)\n",
        "\n",
        "# Let's see how things are progressing\n",
        "secret_key = bob84.show_valid_key()\n",
        "printTable(caption=\"Step 3: Alice and Bob publicly compare bases used\",\n",
        "           rows = [[\"Bit&nbsp;number\", map(str, range(1, n+1))],\n",
        "                   [\"Alice's&nbsp;random&nbsp;bases\", alice84bases],\n",
        "                   [\"Bob's&nbsp;random&nbsp;bases\", bob84bases],\n",
        "                   [\"Which&nbsp;agree?\", bases_comparison],\n",
        "                   [\"Shared&nbsp;secret&nbsp;bits\", map(str, secret_key)]]\n",
        "          )\n",
        "\n",
        "# and evaluate how we are doing so far\n",
        "print('The expected number of matching bases is {} and the actual number is {}.'.format(int(n/2), bases_comparison.count('C')))"
      ]
    },
    {
      "cell_type": "markdown",
      "metadata": {
        "id": "YVQfEqOrX35G"
      },
      "source": [
        "#### Step 4 of the BB84 protocol - Alice and Bob check if there was an eavesdropper\n",
        "\n",
        "* Bob randomly chooses half of the remaining $\\frac{n}{2}$ bits and compares them with Alice.\n",
        "* Assuming no channel errors, Alice's and Bob's comparison should match.\n",
        "* If they do not match, then there was an eavesdropper and the whole set is discarded."
      ]
    },
    {
      "cell_type": "code",
      "execution_count": null,
      "metadata": {
        "id": "CE5opQzdX35G"
      },
      "outputs": [],
      "source": [
        "alice_valid_key = alice84.show_valid_key()\n",
        "bob_valid_key = bob84.show_valid_key()\n",
        "\n",
        "# Bob chooses half of the bits from the correctly matched bases\n",
        "bits_to_compare = bob84.choose_half(bases_comparison)\n",
        "\n",
        "# Alice can check the chosen bits from her key against Bob's key\n",
        "alice84.check_bits(bob_valid_key, bits_to_compare, bases_comparison)\n",
        "\n",
        "# Bob can do the same against Alice's key and mark the bits that match\n",
        "matched = bob84.check_bits(alice_valid_key, bits_to_compare, bases_comparison)\n",
        "\n",
        "# Let's see how things turned out\n",
        "shared_secret_key = bob84.show_secret_key()\n",
        "printTable(caption=\"Step 4: Alice and Bob publicly compare half of the remaining bits\",\n",
        "           rows = [[\"Bit&nbsp;number\", map(str, range(1, n+1))],\n",
        "                   [\"Bob's&nbsp;secret&nbsp;keys\", map(str, bob_valid_key)],\n",
        "                   [\"Randomly&nbsp;chosen&nbsp;to&nbsp;compare\", bits_to_compare],\n",
        "                   [\"Alice's&nbsp;secret&nbsp;keys\", map(str, alice_valid_key)],\n",
        "                   [\"Which&nbsp;agree?\", matched],\n",
        "                   [\"Unrevealed&nbsp;secret&nbsp;keys\", map(str, shared_secret_key)]]\n",
        "          )\n",
        "\n",
        "# and evaluate our results\n",
        "print('Alice and Bob matched {} out of {} bits.'.format(matched.count('✓'), bits_to_compare.count('✓')))\n",
        "\n",
        "if matched.count('✓') == 0:\n",
        "    print('There are no usable bits. You should choose different biases for your bases')\n",
        "else:\n",
        "    if matched.count('✓') == bits_to_compare.count('✓'):\n",
        "        print('Everything seems OK, no eavesdropping detected')\n",
        "        print('There are {} usable bits in the final key from {} shared bits and {} qubits initially transmitted'\n",
        "              .format(len(list(filter(lambda x:x in {0,1}, shared_secret_key))), bases_comparison.count('C'), n))\n",
        "        print('The key generation rate is {:.4f}'.format(len(list(filter(lambda x:x in {0,1}, shared_secret_key)))/n))\n",
        "    else:\n",
        "        print('Oh oh, there seems to be an eavesdropper')\n",
        "        print('All bits must be discarded.  The key generation rate is 0.0000')"
      ]
    },
    {
      "cell_type": "markdown",
      "metadata": {
        "id": "taMm09ABX35G"
      },
      "source": [
        "#### Project/Research Questions\n",
        "\n",
        "1. What would happen if instead of using the Hadamard and Rectilinear bases, we used the following basis pairs? Argue the security of the modified protocol.\n",
        "\n",
        "a. The Rectilinear basis and $\\rvert + i \\rangle, \\rvert - i \\rangle\\ $ basis.\n",
        "    \n",
        "b. The Hadamard basis and $ \\rvert + i \\rangle, \\rvert - i \\rangle\\ $ basis.\n",
        "\n",
        "2. BB84 assumes the existence and use of single photon emitters. In case, the laser that we use produces two photons in 10% of the cases then what effect does it have on Eve's ability to read the qubits? How many of the key bits can she read without disturbing the original qubits? What would be Eve's best measurement strategy?\n",
        "\n",
        "3. What would happen if the laser produces three photons in 10% of the cases? What would be Eve's best measurement strategy?\n",
        "\n",
        "4. Can you modify the protocol such that pulses containing two or more qubits do not pose any danger of leaking key bits?"
      ]
    },
    {
      "cell_type": "markdown",
      "metadata": {
        "id": "8pOMwqs-X35G"
      },
      "source": [
        "## 07.02: B92 Quantum Key Distribution Protocol"
      ]
    },
    {
      "cell_type": "markdown",
      "metadata": {
        "id": "sPhp5NGUX35G"
      },
      "source": [
        "### 07.02.01: Background"
      ]
    },
    {
      "cell_type": "markdown",
      "metadata": {
        "id": "xBl2R62VX35G"
      },
      "source": [
        "B92, proposed by Bennett in 1992 was another surprising protocol. It was a simplification of BB84 in several ways. It achieves key distribution by using two non-orthogonal states as compared to BB84 which uses four states. B92 uses only photons polarized at $\\mathrm{0}^{\\circ}$ and $\\mathrm{45}^{\\circ}$.Therefore, B92 only needs one of the components of rectilinear and one of the components of the diagonal basis that we have been using so far."
      ]
    },
    {
      "cell_type": "markdown",
      "metadata": {
        "id": "ueLCFgVOX35H"
      },
      "source": [
        "### 07.02.02: The B92 Protocol"
      ]
    },
    {
      "cell_type": "markdown",
      "metadata": {
        "id": "JVi-Xn7FX35H"
      },
      "source": [
        "##### Alice and Bob agree on the following bit to qubit mapping.\n",
        "\n",
        "|Bit|Polarisation|  \n",
        "|:--:|:--:|\n",
        "| 0 |&#8594; &nbsp;&nbsp;($0^\\circ$)\n",
        "| 1 |&#8599; &nbsp;($45^\\circ$)     \n",
        "      \n",
        "_Note_: Bob’s measurement bases do not change. He still measures in the rectilinear and diagonal bases randomly just like in BB84. However, the interpretation of the results of these measurments on Bob's end is different and quite non-intuitive one might add.\n",
        "\n",
        "##### The interpretation of the results is summarized in the following table\n",
        "\n",
        "|Alices bit| Alice's Transmission|  Bob's Bases | Bob's Observation | Bob's Bit|        \n",
        "|:--:|:--:|:--:|:--:|:--:|\n",
        "| 0 |&#8594;| &#10010; |&#8594;|inconclusive|\n",
        "| 1 | &#8599;| &#10010; |&#8594;|inconclusive|\n",
        "| 1 | &#8599;| &#10010; |&#8593;|1|\n",
        "| 0 |&#8594;| &#x2716; |&#8598;|0|\n",
        "| 0 |&#8594;| &#x2716; | &#8599;|inconclusive|\n",
        "| 1 | &#8599;| &#x2716; |&#8599;|inconclusive|\n",
        "\n",
        "The protocol is executed in exactly the same manner as BB84 is except that now the new bit to qubit mappings are used.\n",
        "\n",
        "1. Alice generates a key bit stream $K=k_1, k_2, ...$. If $k_i=0$ she transmits a $0^\\circ$ degree polarized photon. If $k_i=1$ she transmits a $1^\\circ$ degree polarized photon.\n",
        "\n",
        "2. Bob measures the received qubits randomly in rectilinear or diagonal basis and records his results."
      ]
    },
    {
      "cell_type": "markdown",
      "metadata": {
        "id": "dMyWWVq_X35H"
      },
      "source": [
        "### 07.02.03: Discussion"
      ]
    },
    {
      "cell_type": "markdown",
      "metadata": {
        "id": "lSKteuxxX35H"
      },
      "source": [
        "An observation of &#8594; in &#10010; basis is inconclusive because it can result from both  &#8594; and &#8599; transmissions. Similarly, an observation of &#8599; in the &#x2716; basis is inconclusive because it can result from both &#8594; and &#8599; transmissions from Alice.\n",
        "\n",
        "Now, an observation of &#8593; in the &#10010; basis can only occur if Alice had transmitted &#8599; . Therefore, Bob knows with certainty that Alice sent bit 1. Similarly, an observation of &#8598; in the &#x2716; basis can only happen if Alice had transmitted &#8594;. Therefore Bob records the bit in the table below as the transmitted bit.\n",
        "\n",
        "A sample run of the protocol is shown below\n",
        "\n",
        "| - | - | - | - | - |\n",
        "|:--:|:--:|:--:|:--:|:--:|\n",
        "| ***Alice's Bits*** |&nbsp;0&nbsp;| &nbsp;&nbsp; 0&nbsp;&nbsp;  |&nbsp;&nbsp;1&nbsp;&nbsp;|&nbsp;&nbsp;1&nbsp;&nbsp;|&nbsp;&nbsp;0&nbsp;&nbsp;|&nbsp;&nbsp;1&nbsp;&nbsp;|&nbsp;&nbsp;1&nbsp;&nbsp;|&nbsp;&nbsp;0&nbsp;&nbsp;|\n",
        "| ***Alice's Qubits*** | &#8594;| &#8594; |&#8599;|&#8599;|&#8594;|&#8599;|&#8599;|&#8594;\n",
        "| ***Quantum Channel*** | &#8659;|&#8659;|&#8659;|&#8659;|&#8659;|&#8659;|&#8659;|&#8659;\n",
        "| ***Bob's Bases*** |&#10010; |&#x2716;| &#x2716; |&#10010; |&#x2716; |&#10010; |&#10010; |&#10010; |\n",
        "| ***Bob's Observations*** |&#8594;| &#8598; | &#8599;|→|↗|↑|↑|→\n",
        "| ***Bob's Bits*** | | 0 | |||1|1| |\n",
        "\n",
        "Some of the qubits that Bob receives end up resulting in a inconclusive result and hence are omitted from the table."
      ]
    },
    {
      "cell_type": "markdown",
      "metadata": {
        "id": "O8UorrAsX35H"
      },
      "source": [
        "### 07.02.04: Key Sifting"
      ]
    },
    {
      "cell_type": "markdown",
      "metadata": {
        "id": "xshTjSWvX35I"
      },
      "source": [
        "Once Bob has made his measurements he will simply tell Alice which of the qubits that he measured resulted in a conclusive output. No discussion of basis is required but just the index numbers of the bits that are to be retained. They will discard the remaining bits.\n",
        "\n",
        "Note that in B92 it is the measurement in the \"incorrect\" basis that results in a conclusive bit being recorded. For example a 45 degree polarized photon measured in rectilinear basis results in a conclusive result 50% of the time."
      ]
    },
    {
      "cell_type": "markdown",
      "metadata": {
        "id": "ZFIijpBoX35I"
      },
      "source": [
        "### 07.02.05: The Eavesdropping"
      ]
    },
    {
      "cell_type": "markdown",
      "metadata": {
        "id": "Jvhoy1xXX35I"
      },
      "source": [
        "Alice and Bob check for Eve’s presence just like in BB84 by comparing a part of the correctly received bits.\n",
        "\n",
        "Any discrepancy in the compared bit values would reveal Eve’s presence."
      ]
    },
    {
      "cell_type": "markdown",
      "metadata": {
        "id": "xDt3vKsnX35I"
      },
      "source": [
        "### 07.02.06: Security of B92"
      ]
    },
    {
      "cell_type": "markdown",
      "metadata": {
        "id": "tDgJLVMrX35I"
      },
      "source": [
        "The security of B92 comes from the fact that non-orthogonal states can not be distinguished from another in a single measurement without a priori knowledge of their basis."
      ]
    },
    {
      "cell_type": "markdown",
      "metadata": {
        "id": "7euDsRdwX35I"
      },
      "source": [
        "### B92 Simulator (Interactive)"
      ]
    },
    {
      "cell_type": "markdown",
      "metadata": {
        "id": "FfZRHe6VX35I"
      },
      "source": [
        "The following cell provides widgets to set the values that control the main program.\n",
        "* The first widget sets how many qubits are to be transmitted.  \n",
        "* The second widget controls whether Eve will be active or not.\n",
        "* The third, fourth and fifth widgets set the bias of X to + for Alice, Bob and Eve.\n",
        "\n",
        "These values are passed to the main program as parameters."
      ]
    },
    {
      "cell_type": "code",
      "execution_count": null,
      "metadata": {
        "id": "32kCbBDXX35J"
      },
      "outputs": [],
      "source": [
        "# Configuration of the widget that controls the number of qubits\n",
        "number_of_qubits = widgets.IntText(\n",
        "                    value=100,\n",
        "                    disabled=False\n",
        "                    )\n",
        "qubit_control = widgets.VBox([widgets.Label(value=\"Enter number of initial qubits\"), number_of_qubits])\n",
        "\n",
        "# Configuration of the widget that controls whether Eve is active or not\n",
        "is_Eve_active =  widgets.ToggleButton(\n",
        "                    value=False,\n",
        "                    description='Click to activate',\n",
        "                    disabled=False,\n",
        "                    button_style='success', # 'success', 'info', 'warning', 'danger' or ''\n",
        "                    tooltip='Will Eve intercept the transmission',\n",
        "                    icon=''\n",
        "                    )\n",
        "eve_message = widgets.Label(value=\"Eve is not active\")\n",
        "eve_control = widgets.VBox([eve_message, is_Eve_active])\n",
        "\n",
        "# Configuration of an event handler for the eve control widget\n",
        "def on_value_change(change):\n",
        "    is_Eve_active.description = 'Click to deactivate' if change['new'] else 'Click to activate'\n",
        "    eve_message.value = 'Eve is active' if change['new'] else 'Eve is not active'\n",
        "is_Eve_active.observe(on_value_change, names='value')\n",
        "\n",
        "# Configuration of the widget that controls Alice's bias towards the diagonal bases\n",
        "abias = widgets.BoundedIntText(\n",
        "                    value=50,\n",
        "                    min=0,\n",
        "                    max=100,\n",
        "                    step=1,\n",
        "                    disabled=False\n",
        "                    )\n",
        "abias_control = widgets.VBox([widgets.Label(value=\"Enter Alice's bias for diagnal basis over standard basis (0-100)\"), abias])\n",
        "\n",
        "# Configuration of the widget that controls Bob's bias towards the diagonal bases\n",
        "bbias = widgets.BoundedIntText(\n",
        "                    value=50,\n",
        "                    min=0,\n",
        "                    max=100,\n",
        "                    step=1,\n",
        "                    disabled=False\n",
        "                    )\n",
        "bbias_control = widgets.VBox([widgets.Label(value=\"Enter Bob's bias for diagnal basis over standard basis (0-100)\"), bbias])\n",
        "\n",
        "# Configuration of the widget that controls Eve's bias towards the diagonal bases\n",
        "ebias = widgets.BoundedIntText(\n",
        "                    value=50,\n",
        "                    min=0,\n",
        "                    max=100,\n",
        "                    step=1,\n",
        "                    disabled=False\n",
        "                    )\n",
        "ebias_control = widgets.VBox([widgets.Label(value=\"Enter Eve's bias for diagnal basis over standard basis (0-100)\"), ebias])\n",
        "\n",
        "# display the control widgets\n",
        "display.display(qubit_control, eve_control, abias_control, bbias_control, ebias_control)"
      ]
    },
    {
      "cell_type": "markdown",
      "metadata": {
        "id": "7a24qFQFX35J"
      },
      "source": [
        "After setting the parameters you may either:\n",
        "* Run each of the following cells one at a time in order or\n",
        "* Select \"Run All Below\" in the \"Cell\" sub-menu from here\n",
        "\n",
        "The following cells define the classes, function and main program.  Output is provided after each cell."
      ]
    },
    {
      "cell_type": "code",
      "execution_count": null,
      "metadata": {
        "id": "TpIRrVtcX35J"
      },
      "outputs": [],
      "source": [
        "class Messenger:\n",
        "    \"\"\"Inherited class with methods common to both BB84 and B92 protocols\"\"\"\n",
        "    from random import choice\n",
        "    from random import choices\n",
        "\n",
        "    # There are no class variables defined, only instance variables.\n",
        "    # Therefore no data is shared between instances without going through the main program\n",
        "    def __init__(self, number_of_qubits):\n",
        "        \"\"\"Initialize a new instance\"\"\"\n",
        "        self.key = []\n",
        "        self.bases = []\n",
        "        self.valid_bit = []\n",
        "        self.secret_bit = []\n",
        "        for i in range(number_of_qubits):\n",
        "            self.valid_bit.append(1)\n",
        "            self.secret_bit.append(1)\n",
        "\n",
        "    def generate_bits(self, number_of_bits):\n",
        "        \"\"\"Populate the key instance variable with a given number of random bits and return what was populated\"\"\"\n",
        "        self.key = self.choices([0,1], k=number_of_bits)\n",
        "        return self.key\n",
        "\n",
        "    def generate_bases(self, number_of_qubits, biasToX):\n",
        "        \"\"\"Populate the bases instance variable with a given number of random bits and return what was populated\"\"\"\n",
        "        self.bases = self.choices(['×','+'], cum_weights=[biasToX,100], k=number_of_qubits)\n",
        "        return self.bases\n",
        "\n",
        "    def scratch_bits(self, input):\n",
        "        \"\"\"Based on the markers given in the input parameter, clear the bits considered to be valid and secret\"\"\"\n",
        "        markers = ['W', '?', '✓']\n",
        "        for i, delete_indicator in enumerate(input):\n",
        "            if delete_indicator in markers:\n",
        "                self.valid_bit[i] = 0\n",
        "                self.secret_bit[i] = 0\n",
        "        return\n",
        "\n",
        "    def choose_half(self, input):\n",
        "        \"\"\"Given which are valid choices in the input parameter, make a 50/50 choice which to mark from the valid choices\"\"\"\n",
        "        output = []\n",
        "        for i, bit in enumerate(input):\n",
        "            if bit == 'W' or bit == '?':\n",
        "                output.append('')\n",
        "            else:\n",
        "                if self.choice([0, 1]):\n",
        "                    output.append('')\n",
        "                else:\n",
        "                    output.append('✓')\n",
        "        return output\n",
        "\n",
        "    def check_bits(self, input_key, bits_to_check, valid_bit):\n",
        "        \"\"\"From a given list of bits to check, see if the inputted bit equals the corresponding instance key bit\"\"\"\n",
        "        output = []\n",
        "        for i, bit in enumerate(bits_to_check):\n",
        "            if bit == '✓':\n",
        "                self.secret_bit[i] = 0\n",
        "                if input_key[i] == self.key[i]:\n",
        "                    output.append('✓')\n",
        "                else:\n",
        "                    output.append('')\n",
        "            else:\n",
        "                # If a bit is a valid bit but just not on the chosen list, reset it so it can be reused for multiple runs\n",
        "                if valid_bit[i] != 'W' and valid_bit[i] != '?':\n",
        "                    self.secret_bit[i] = 1\n",
        "                output.append('')\n",
        "        return output\n",
        "\n",
        "    def show_valid_key(self):\n",
        "        \"\"\"Return the key for this instance based on the bits marked as valid\"\"\"\n",
        "        output = []\n",
        "        for key_bit, check_bit in zip(self.key, self.valid_bit):\n",
        "            output.append(key_bit) if check_bit == 1 else output.append('')\n",
        "        return output\n",
        "\n",
        "    def show_secret_key(self):\n",
        "        \"\"\"Return the key for this instance based on the bits marked as secret\"\"\"\n",
        "        output = []\n",
        "        for key_bit, check_bit in zip(self.key, self.secret_bit):\n",
        "            output.append(key_bit) if check_bit == 1 else output.append('')\n",
        "        return output\n",
        "\n",
        "class BB84Messenger(Messenger):\n",
        "    \"\"\"methods for BB84 messaging\"\"\"\n",
        "\n",
        "    def encode_qubit(self, state, basis):\n",
        "        \"\"\"Return the qubit encoding based on the BB84 protocol\"\"\"\n",
        "        vocabulary = [{'+':'→', '×':'↗'}, {'+':'↑', '×':'↖'}]\n",
        "        return vocabulary[state][basis]\n",
        "\n",
        "    def transmit_key(self):\n",
        "        \"\"\"Loop through all bits, returning the encoded BB84 qubits\"\"\"\n",
        "        return ''.join([self.encode_qubit(key, basis) for key, basis in zip(self.key, self.bases)])\n",
        "\n",
        "    def compare_bases(self, input):\n",
        "        \"\"\"Compare the inputted bases with the instance bases and return a 'C' if they match or 'W' if they do not\"\"\"\n",
        "        output = []\n",
        "        for my_basis, other_basis in zip(self.bases, input):\n",
        "            output.append('C') if my_basis == other_basis else output.append('W')\n",
        "        return output\n",
        "\n",
        "    def receive_key(self, input):\n",
        "        \"\"\"Process an inputted string to extract the key bits and return what qubits were observed\"\"\"\n",
        "        qubits = list(input)\n",
        "        del self.key[:]\n",
        "        observed = []\n",
        "        for qubit, basis in zip(qubits, self.bases):\n",
        "            if basis == '+' and qubit == '→':\n",
        "                self.key.append(0)\n",
        "                observed.append('→')\n",
        "            elif basis == '×' and qubit == '↗':\n",
        "                self.key.append(0)\n",
        "                observed.append('↗')\n",
        "            elif basis == '+' and qubit == '↑':\n",
        "                self.key.append(1)\n",
        "                observed.append('↑')\n",
        "            elif basis == '×' and qubit == '↖':\n",
        "                self.key.append(1)\n",
        "                observed.append('↖')\n",
        "            else:\n",
        "                self.key.append(self.choice([0, 1]))\n",
        "                observed.append(self.encode_qubit(self.key[len(self.key)-1], basis))\n",
        "        return observed\n",
        "\n",
        "class B92Messenger(Messenger):\n",
        "    \"\"\"methods for B92 messaging\"\"\"\n",
        "\n",
        "    def encode_qubit(self, state):\n",
        "        \"\"\"Return the qubit encoding based on the B92 protocol\"\"\"\n",
        "        vocabulary = ['→', '↗']\n",
        "        if state == '?':\n",
        "            state = self.choice([0, 1])\n",
        "        return vocabulary[state]\n",
        "\n",
        "    def transmit_key(self):\n",
        "        \"\"\"Loop through all bits, returning the encoded B92 qubits\"\"\"\n",
        "        return ''.join([self.encode_qubit(key) for key in self.key])\n",
        "\n",
        "    def receive_key(self, input):\n",
        "        \"\"\"Process an inputted string to extract the key bits and return what qubits were observed\"\"\"\n",
        "        qubits = list(input)\n",
        "        del self.key[:]\n",
        "        observed = []\n",
        "        for qubit, basis in zip(qubits, self.bases):\n",
        "            if basis == '+' and qubit == '↗':\n",
        "                self.key.append(1)\n",
        "                observed.append('↑')\n",
        "            elif basis == '+' and qubit == '→':\n",
        "                self.key.append('?')\n",
        "                observed.append('→')\n",
        "            elif basis == '×' and qubit == '→':\n",
        "                self.key.append(0)\n",
        "                observed.append('↖')\n",
        "            elif basis == '×' and qubit == '↗':\n",
        "                self.key.append('?')\n",
        "                observed.append('↗')\n",
        "            else:\n",
        "                self.key.append('E')\n",
        "                observed.append('E')\n",
        "        return observed\n",
        "\n",
        "    def show_questionable_bits(self):\n",
        "        \"\"\"Return a list of bit positions for the qubits that cannot be accurately measured\"\"\"\n",
        "        output = []\n",
        "        for check_bit in self.key:\n",
        "            output.append('?') if check_bit == '?' else output.append('')\n",
        "        return output\n",
        "\n",
        "\n",
        "def printTable(caption, rows):\n",
        "    \"\"\"Make a nice looking table like in the book\"\"\"\n",
        "    from IPython.display import HTML, display\n",
        "    display(HTML(\n",
        "    '<table style=\"border-bottom: 4px double #333;border-top: 4px double #333;padding: 10px 0;\">' +\n",
        "    '<caption style=\"font-weight:900; color:black; border-top: 4px double #333;\">' + caption + '</caption>' +\n",
        "    '<tr>{}</tr></table>'.format('</tr><tr>'.join(\n",
        "        '<td>' + row[0] + '</td><td>{}</td>'.format('</td><td>'.join(row[1])) for row in rows))))"
      ]
    },
    {
      "cell_type": "markdown",
      "metadata": {
        "id": "yOnCHSBCX35K"
      },
      "source": [
        "#### Main program continues now using the B92 protocol"
      ]
    },
    {
      "cell_type": "code",
      "execution_count": null,
      "metadata": {
        "id": "Gd-4FRebX35K"
      },
      "outputs": [],
      "source": [
        "# parameters passed into main program from GUI\n",
        "n = number_of_qubits.value\n",
        "eve_present = is_Eve_active.value\n",
        "aliceXbias = abias.value\n",
        "bobXbias = bbias.value\n",
        "eveXbias = ebias.value\n",
        "\n",
        "# instantiate a messenger class for each persona\n",
        "alice92 = B92Messenger(n)\n",
        "bob92 = B92Messenger(n)\n",
        "eve92 = B92Messenger(n)\n",
        "\n",
        "# Let's remind us of the parameters that we are working with\n",
        "print(\"Program parameters have been entered into the program as follows:\")\n",
        "print(\"  * Alice will start with {} qubits to generate a key to send to Bob.\".format(n))\n",
        "print(\"  * Eve will {}intercept the transmission.\".format('' if eve_present else 'not '))\n",
        "print(\"  * Alice has a {}/{} chance of choosing diagonal basis over standard basis\".format(aliceXbias, 100 - aliceXbias))\n",
        "print(\"  * Bob has a {}/{} chance of choosing diagonal basis over standard basis\".format(bobXbias, 100 - bobXbias))\n",
        "print(\"  * Eve has a {}/{} chance of choosing diagonal basis over standard basis\".format(eveXbias, 100 - eveXbias))"
      ]
    },
    {
      "cell_type": "markdown",
      "metadata": {
        "id": "guhBQTdYX35K"
      },
      "source": [
        "#### Step 1 of the B92 protocol -  Alice sends a candidate key\n",
        "\n",
        "* Alice flips a coin *n* times to determine which classical bits to send.  \n",
        "* She then sends the bits in the appropriate polarization with a quantum channel."
      ]
    },
    {
      "cell_type": "code",
      "execution_count": null,
      "metadata": {
        "id": "ZDeovKR8X35K"
      },
      "outputs": [],
      "source": [
        "# Alice randomly generates n bits.  These are private to Alice but pulled out here so they can be printed to show what was done\n",
        "alice92bits = alice92.generate_bits(n)\n",
        "\n",
        "# Alice takes the bits she generated, encodes them into qubits using her generated bases, and puts them on the transmission line\n",
        "transmission = alice92.transmit_key()\n",
        "\n",
        "# Show all the work done by Alice in a nice convienient table\n",
        "printTable(caption=\"Step 1: Alice sends \" + str(n) + \" random bits in the ∠ basis\",\n",
        "           rows = [[\"Bit&nbsp;number\", map(str, range(1, n+1))],\n",
        "                   [\"Alice's&nbsp;random&nbsp;bits\", map(str, alice92bits)],\n",
        "                   [\"Alice&nbsp;qubits\", transmission]]\n",
        "          )"
      ]
    },
    {
      "cell_type": "markdown",
      "metadata": {
        "id": "5lqfv0RHX35K"
      },
      "source": [
        "#### Step 2 of the B92 protocol - Bob receives a candidate key\n",
        "\n",
        "* Bob flips a coin *n* times to determine the basis by which to measure.\n",
        "* For each qubit received, Bob measures the qubit in either the + basis or × basis.\n",
        "* If Bob uses + and observes ↑, then he knows Alice sent a ↗ = |1>.\n",
        "* If Bob uses + and observes →, then he cannot be sure if Alice sent → or ↗.\n",
        "* If Bob uses × and observes ↖, then he knows Alice sent a → = |0>.\n",
        "* If Bob uses × and observes ↗, then he cannot be sure if Alice sent → or ↗."
      ]
    },
    {
      "cell_type": "code",
      "execution_count": null,
      "metadata": {
        "id": "fx6KXDp0X35K"
      },
      "outputs": [],
      "source": [
        "# Bob randomly generates his n bases with a bias towards X defined by bobXbias\n",
        "bob92bases = bob92.generate_bases(n, bobXbias)\n",
        "\n",
        "# If eve is present, then the interception occurs\n",
        "if eve_present:\n",
        "\n",
        "    # Eve generates her bases with her given bias.\n",
        "    eve92.generate_bases(n, eveXbias)\n",
        "\n",
        "    # Eve intercepts the tranmission and reads it\n",
        "    eve92.receive_key(transmission)\n",
        "\n",
        "    # She then replaces it with her own encoding from her set of randomly chosen bases\n",
        "    transmission = eve92.transmit_key()\n",
        "\n",
        "# Bob receives the transmission but it could have come from Alice or Eve\n",
        "bob92received = bob92.receive_key(transmission)\n",
        "\n",
        "# Show everything from Bob's point of view\n",
        "printTable(caption=\"Step 2: Bob receives \" + str(n) + \" random bits in a random basis\",\n",
        "           rows = [[\"Bit&nbsp;number\", map(str, range(1, n+1))],\n",
        "                   [\"Bob's&nbsp;received\", transmission],\n",
        "                   [\"Bob's&nbsp;random&nbsp;bases\", bob92bases],\n",
        "                   [\"Bob's&nbsp;observations\", bob92received],\n",
        "                   [\"Bob's&nbsp;interpretation\", map(str, bob92.key)]]\n",
        "          )"
      ]
    },
    {
      "cell_type": "markdown",
      "metadata": {
        "id": "aKvObRO7X35L"
      },
      "source": [
        "#### Step 3 of B92 protocol - Alice and Bob evaluate the candidate key\n",
        "\n",
        "* Bob lets Alice know which bits that he is unsure about\n",
        "* Alice and Bob drop those bits\n",
        "* On average the length of the remaining subsequence should be about $\\frac{n}{2}$ bits"
      ]
    },
    {
      "cell_type": "code",
      "execution_count": null,
      "metadata": {
        "id": "1UEKsA5VX35L"
      },
      "outputs": [],
      "source": [
        "# Bob decides which bases he is unsure about\n",
        "questionable_bits = bob92.show_questionable_bits()\n",
        "\n",
        "# Alice & Bob drop the bits that are questionable\n",
        "alice92.scratch_bits(questionable_bits)\n",
        "bob92.scratch_bits(questionable_bits)\n",
        "\n",
        "# Let's see how things are progressing\n",
        "alice_valid_key = alice92.show_valid_key()\n",
        "bob_valid_key = bob92.show_valid_key()\n",
        "printTable(caption=\"Step 3: Alice and Bob evaluate the candidate key\",\n",
        "           rows = [[\"Bit&nbsp;number\", map(str, range(1, n+1))],\n",
        "                   [\"Bob's&nbsp;questionable&nbsp;bits\", questionable_bits],\n",
        "                   [\"Alice's&nbsp;secret&nbsp;bits\", map(str, alice_valid_key)],\n",
        "                   [\"Bob's&nbsp;secret&nbsp;bits\", map(str, bob_valid_key)]]\n",
        "          )\n",
        "\n",
        "# and evaluate how we are doing so far\n",
        "print('The expected number of usable bits is {} and the actual number is {}.'\n",
        "      .format(int(n/2), len(list(filter(lambda x:x in {0,1}, bob_valid_key)))))"
      ]
    },
    {
      "cell_type": "markdown",
      "metadata": {
        "id": "ukf7CjkCX35L"
      },
      "source": [
        "#### Step 4 of the B92 protocol - Alice and Bob check if there was an eavesdropper\n",
        "\n",
        "* Bob randomly chooses half of the remaining $\\frac{n}{2}$ bits and compares them with Alice.\n",
        "* Assuming no channel errors, Alice's and Bob's comparison should match.\n",
        "* If they do not match, then there was an eavesdropper and the whole set is discarded."
      ]
    },
    {
      "cell_type": "code",
      "execution_count": null,
      "metadata": {
        "id": "NvnwM9Y5X35L"
      },
      "outputs": [],
      "source": [
        "# Bob chooses half of the bits from the correctly matched bases\n",
        "bits_to_compare = bob92.choose_half(questionable_bits)\n",
        "\n",
        "# Alice can check the chosen bits from her key against Bob's key\n",
        "alice92.check_bits(bob_valid_key, bits_to_compare, questionable_bits)\n",
        "\n",
        "# Bob can do the same against Alice's key and mark the bits that match\n",
        "matched = bob92.check_bits(alice_valid_key, bits_to_compare, questionable_bits)\n",
        "\n",
        "# Let's see how things turned out\n",
        "shared_secret_key = bob92.show_secret_key()\n",
        "printTable(caption=\"Step 4: Alice and Bob publicly compare half of the remaining bits\",\n",
        "           rows = [[\"Bit&nbsp;number\", map(str, range(1, n+1))],\n",
        "                   [\"Bob's&nbsp;secret&nbsp;keys\", map(str, bob_valid_key)],\n",
        "                   [\"Randomly&nbsp;chosen&nbsp;to&nbsp;compare\", bits_to_compare],\n",
        "                   [\"Alice's&nbsp;secret&nbsp;keys\", map(str, alice_valid_key)],\n",
        "                   [\"Which&nbsp;agree?\", matched],\n",
        "                   [\"Unrevealed&nbsp;secret&nbsp;keys\", map(str, shared_secret_key)]]\n",
        "          )\n",
        "\n",
        "# and evaluate our results\n",
        "print('Alice and Bob matched {} out of {} bits.'.format(matched.count('✓'), bits_to_compare.count('✓')))\n",
        "\n",
        "if matched.count('✓') == 0:\n",
        "    print('There are no usable bits. You should choose different biases for your bases')\n",
        "else:\n",
        "    if matched.count('✓') == bits_to_compare.count('✓'):\n",
        "        print('Everything seems OK, no eavesdropping detected')\n",
        "        print('There are {} usable bits in the final key from {} shared bits and {} qubits initially transmitted'\n",
        "              .format(len(list(filter(lambda x:x in {0,1}, shared_secret_key))),\n",
        "                      len(list(filter(lambda x:x != '?', questionable_bits))),\n",
        "                      n))\n",
        "        print('The key generation rate is {:.4f}'.format(len(list(filter(lambda x:x in {0,1}, shared_secret_key)))/n))\n",
        "    else:\n",
        "        print('Oh oh, there seems to be an eavesdropper')\n",
        "        print('All bits must be discarded.  The key generation rate is 0.0000')"
      ]
    },
    {
      "cell_type": "markdown",
      "metadata": {
        "id": "KrrjjbmTX35L"
      },
      "source": [
        "### Project/Research Questions:"
      ]
    },
    {
      "cell_type": "markdown",
      "metadata": {
        "id": "PZNvfcgXX35L"
      },
      "source": [
        "1. Are two non-orthogonal states optimal for QKD? Or would using more than two non-orthogonal states improve security? For example, using {0, 30 and 60} for instance.\n",
        "2. Does it make any difference in security if the states chosen in B92 were 0 and 30 degrees, rather than 0 and 45 degrees?\n",
        "3. How does detection of Eve change when the channel itself has an error rate of 10%?\n",
        "4. Can Eve go undetected if she only interferes with a fraction of all the qubits?\n",
        "5. How is the classical phase of B92 different from BB84? What purpose does the classical discussion serve in both these protocols?\n",
        "6. Compare the efficiency of B92 and BB84 protocols assuming no channel errors or Eve."
      ]
    },
    {
      "cell_type": "markdown",
      "metadata": {
        "id": "7p9TqNCBX35L"
      },
      "source": [
        "## 07.03: The Three-Stage Quantum Key Distribution Protocol"
      ]
    },
    {
      "cell_type": "markdown",
      "metadata": {
        "id": "3_CIa0b8X35L"
      },
      "source": [
        "### 07.03.01: Background"
      ]
    },
    {
      "cell_type": "markdown",
      "metadata": {
        "id": "yGhfn5MUX35L"
      },
      "source": [
        "So far we’ve seen protocols that use non-orthogonal basis and states to exchange keys. However, there are other ways of achieving the same goal. The three-stage protocol is one of them.\n",
        "\n",
        "The Three-stage protocol is based on one of the oldest ideas in secure exchange of messages and only assumes the availability of an authenticated channel.\n",
        "\n",
        "Consider Alice wants to secretly send a message to Bob. Both Alice and Bob have locks that are unique and only the other person recognizes as belonging to Alice/Bob. Now the secret message can be put into a strong box and sent to Bob using double lock cryptography. The process is straightforward and shown below.\n",
        "\n",
        "*Note: There was no key exchange necessary in the above protocol.*"
      ]
    },
    {
      "cell_type": "code",
      "execution_count": null,
      "metadata": {
        "id": "VrMW8eHKX35M"
      },
      "outputs": [],
      "source": [
        "display.display(img1)"
      ]
    },
    {
      "cell_type": "markdown",
      "metadata": {
        "id": "31QgxWGSX35M"
      },
      "source": [
        "#### The 3-Stage QKD Protocol\n",
        "\n",
        "The three stage protocol is a simple, yet powerful, quantum analogy of the double lock cryptography.\n",
        "\n",
        "Assume Alice wants to send an arbitrary state $\\rvert+\\rangle$ to Bob.\n",
        "\n",
        "Both Alice and Bob are connected via an authenticated channel and have secret rotation transformations $U_a$ and $U_b$ such that $U_a U_b$ = $U_b U_a$\n",
        "\n",
        "$U_\\theta$ may be of the form,\n",
        "\n",
        "$U_\\theta =\\begin{bmatrix}cos \\theta & -sin \\theta \\\\sin\\theta& cos\\theta& \\end{bmatrix}$"
      ]
    },
    {
      "cell_type": "markdown",
      "metadata": {
        "id": "FB807Hp2X35M"
      },
      "source": [
        "The protocol proceeds as follows:\n",
        "\n",
        "1. Alice applies the secret transformation $U_a$ to $\\rvert+\\rangle$ and then sends Bob $U_a(\\rvert+\\rangle)$\n",
        "\n",
        "2. Bob applies $U_b$ and sends to Alice $U_b U_a(\\rvert+\\rangle)$\n",
        "\n",
        "3. Alice applies $U_a^\\dagger$ and returns $U_b(\\rvert+\\rangle)$ to Bob.\n",
        "\n",
        "4. Bob applies $U_b^\\dagger$ and retrieves $\\rvert+\\rangle$.\n",
        "\n",
        "State $\\rvert+\\rangle$ may be our encryption key or data or output of a quantum algorithm.\n",
        "\n",
        "\n",
        "\n"
      ]
    },
    {
      "cell_type": "markdown",
      "metadata": {
        "id": "Q_I4u2s-X35M"
      },
      "source": [
        "#### The Protocol Flow"
      ]
    },
    {
      "cell_type": "code",
      "execution_count": null,
      "metadata": {
        "id": "WiHDvWEBX35M"
      },
      "outputs": [],
      "source": [
        "display.display(img2)"
      ]
    },
    {
      "cell_type": "markdown",
      "metadata": {
        "id": "smKGQNlSX35M"
      },
      "source": [
        "Under single qubit implementation the protocol provides perfect secrecy. The protocol is also resistant to multi-photon implementations."
      ]
    },
    {
      "cell_type": "markdown",
      "metadata": {
        "id": "UAAscTuSX35M"
      },
      "source": [
        "#### 3-Stage QKD Simulator (Interactive)\n",
        "\n",
        "**Execute the program and follow the prompt below**"
      ]
    },
    {
      "cell_type": "code",
      "execution_count": null,
      "metadata": {
        "id": "TviZP1r3X35N"
      },
      "outputs": [],
      "source": [
        "import  cmath, numpy, math\n",
        "\n",
        "\"\"\"\n",
        "Initialize variables taking user input.\n",
        "\"\"\"\n",
        "print(\"\\n\\n-----------------------------------------------------\\n\\n\")\n",
        "while(True):\n",
        "    choice = input(\"Hello, please create a basis; select an option below\\n1. Pre-set Basis \\n2. Custom Basis\\n\")\n",
        "    if (choice == \"1\"):\n",
        "        while(True):\n",
        "            choice2 = input(\"Choose one of the following basis (in degrees)\\n1. {0,90}\\n2. {-45,45}\\n3. {30,120}\")\n",
        "            if (choice2 == \"1\"):\n",
        "                basis = (\"0\",\"90\")\n",
        "                break\n",
        "            if (choice2 == \"2\"):\n",
        "                basis = (\"-45\",\"45\")\n",
        "                break\n",
        "            if (choice2 == \"3\"):\n",
        "                basis = (\"30\",\"120\")\n",
        "                break\n",
        "        break\n",
        "    if (choice == \"2\"):\n",
        "        while(True):\n",
        "            #\"Enter a measurement basis in the format {x, y}, where x and y are in degrees:\"\n",
        "            inall=input(\"Enter a measurement basis in the format {x, y}, where x and y are in degrees:\\n\").strip(\"{}\").replace(\" \",\"\")\n",
        "            in1 = inall.split(\",\")[0]\n",
        "            in2 = inall.split(\",\")[1]\n",
        "            if(float(in1)+90 == float(in2) or float(in2)+90 == float(in1)):\n",
        "                basis = (in1,in2)\n",
        "                break\n",
        "            else:\n",
        "                print(\"Your basis must be 90 degrees apart!\")\n",
        "        break\n",
        "basis1 = basis[0]\n",
        "basis2 = basis[1]\n",
        "basis = (basis1,basis2)\n",
        "while(True):\n",
        "    try:\n",
        "        binary1 = int(input(\"Input a binary string, this will act as the message\\n\"), 2)\n",
        "        break\n",
        "    except ValueError:\n",
        "        print(\"Try Again! String must be in binary format (ex. 10110011)\")\n",
        "print(\"\\n\\n-----------------------------------------------------\\n\\n\")\n",
        "\n",
        "messagetosend = format(binary1, 'b')\n",
        "\n",
        "arot = float(input(\"What is Alices secret rotation (in degrees)\\n\"))%360\n",
        "brot = float(input(\"What is Bob's secret rotation (in degrees)\\n\"))%360\n",
        "arads = math.radians(arot)\n",
        "\n",
        "asecretrot = numpy.array(\n",
        "[[math.cos(arads),-math.sin(arads)],\n",
        "[math.sin(arads),math.cos(arads)]])\n",
        "\n",
        "brads = math.radians(brot)\n",
        "bsecretrot = numpy.array(\n",
        "[[math.cos(brot),-math.sin(brot)],\n",
        "[math.sin(brot),math.cos(brot)]])\n",
        "\n",
        "\n",
        "\"\"\"\n",
        "This function takes in a bit to send and applies the three step protocol to the bit as it is sent back and forth from a hypothetical Alice to Bob.\n",
        "\"\"\"\n",
        "def sendbit(bit):\n",
        "    print(\"Sending bit: \"+bit)\n",
        "    tosend = numpy.array([math.cos(math.radians(float(basis1) + (90 * float(bit)))),math.sin(math.radians(float(basis1) + (90 * float(bit))))])\n",
        "    print(\"Sending \"+ str(tosend.tolist()))\n",
        "    amessage = aliceone(asecretrot, tosend)\n",
        "\n",
        "    print (\"Transmitting qubit: \" + str(amessage.tolist())+ \" to Bob\")\n",
        "    abmessage = bobone(bsecretrot, amessage)\n",
        "    print(\"Transmitting qubit: \"+ str(abmessage.tolist())+\" to Alice\")\n",
        "    bmessage = alicetwo(asecretrot, abmessage)\n",
        "    print(\"Transmitting qubit: \"+ str(bmessage.tolist())+\" to Bob\")\n",
        "    message = bobtwo(bsecretrot,bmessage)\n",
        "    print(\"Recieved qubit is: \"+str(message.tolist()) + \"\\nTherefore, the received bit after measurement is \"+bit)\n",
        "\n",
        "\n",
        "\"\"\"\n",
        "Alice takes the message qubit and applies her secret rotation.\n",
        "\"\"\"\n",
        "def aliceone(secret,qubit):\n",
        "    print(\"Applying Alice's secret rotation...\")\n",
        "    return  numpy.dot(qubit,secret)\n",
        "\n",
        "\"\"\"\n",
        "Bob recieves the qubit from Alice and applies his secret rotation\n",
        "\"\"\"\n",
        "def bobone(secret, qubit):\n",
        "    print(\"Applying Bob's secret rotation...\")\n",
        "    return numpy.dot(qubit,secret)\n",
        "\"\"\"\n",
        "Alice applies the inverse of her secret rotation so only Bobs rotation is on the qubit.\n",
        "\"\"\"\n",
        "def alicetwo(secret,qubit):\n",
        "    print(\"Applying Alice's inverse secret rotation...\")\n",
        "    return  numpy.dot(qubit,secret.T)\n",
        "\n",
        "\"\"\"\n",
        "Bob applies the inverse of his secret rotation on the qubit.\n",
        "\n",
        "Now Bob has just the plain qubit.\n",
        "\"\"\"\n",
        "def bobtwo(secret,qubit):\n",
        "    print(\"Applying Bob's inverse secret rotation...\")\n",
        "    return  numpy.dot(qubit,secret.T)\n",
        "\n",
        "\n",
        "\n",
        "for c in messagetosend:\n",
        "    sendbit(c)\n",
        "\n",
        "print(\"Alice's transmitted message was \"+ messagetosend)\n",
        "\n",
        "print(\"Bob's recieved message was \"+ messagetosend)\n"
      ]
    },
    {
      "cell_type": "markdown",
      "metadata": {
        "id": "JHmefHhsX35N"
      },
      "source": [
        "### Project/Further Research Suggestions"
      ]
    },
    {
      "cell_type": "markdown",
      "metadata": {
        "id": "IhM7Hs-IX35N"
      },
      "source": [
        "1. Can the three stage protocol be used to transmit messages directly instead of an encryption key? Discuss what could go wrong (if anything) from two perspectives:\n",
        "\n",
        "    a. Can Eve read some of the message bits?\n",
        "    \n",
        "    b. If Eve attempts to eavesdrop, can Alice and Bob detect it? How?\n",
        "\n",
        "2. Design a circuit using quantum gates to implement the three-stage protocol. Which gates would you need to use?\n",
        "\n",
        "3. Suppose that you decide to keep the rotation transformation constant for all the qubits as opposed to choosing a different $U_a$ and $U_b$ for every qubit. What security implications does that have? Consider the case when we are using it to transmit an encryption key.\n",
        "\n",
        "4. If we consider a set of rotation transformations $U_A=\\{U_{a_1}, U_{a_2}, \\ldots, U_{a_l}\\}$. Alice randomly and uniformly chooses one of the transformations for every qubit that she sends. Same applies for Bob with $U_B$. What is the minimum number of unique rotation transformations one should use to construct a secure key exchange protocol using three-stage?"
      ]
    },
    {
      "cell_type": "markdown",
      "metadata": {
        "id": "2c2z7ee-X35N"
      },
      "source": [
        "## 07.04: Entanglement based QKD"
      ]
    },
    {
      "cell_type": "markdown",
      "metadata": {
        "id": "k8kWMIZuX35N"
      },
      "source": [
        "### 07.04.01: Introduction"
      ]
    },
    {
      "cell_type": "markdown",
      "metadata": {
        "id": "VwbFhuxwX35N"
      },
      "source": [
        "Another interesting turn in the field of quantum cryptography was the development of QKD schemes based on quantum entanglement. In fact, quantum entanglement now forms the basis of new types of schemes that are coming up called measurement devices independent QKD.\n",
        "\n",
        "Before we describe Ekert protocol (popularly called E91), the first QKD protocol using quantum entanglement, we will discuss a simpler version of the protocol."
      ]
    },
    {
      "cell_type": "markdown",
      "metadata": {
        "id": "gSax9zYXX35O"
      },
      "source": [
        "### 07.04.02: EPR Based QKD Protocol"
      ]
    },
    {
      "cell_type": "markdown",
      "metadata": {
        "id": "ZLZmRDUdX35O"
      },
      "source": [
        "Consider a Bell pair $\\frac{\\rvert00\\rangle + \\rvert11\\rangle}{\\sqrt{2}}$. We can also work with other Bell pairs for example $\\frac{\\rvert01\\rangle + \\rvert10\\rangle}{\\sqrt{2}}$. However, using $\\frac{\\rvert01\\rangle + \\rvert10\\rangle}{\\sqrt{2}}$ will result in Alice and Bob having opposite bit strings.\n",
        "For simplicity, we can assume that these Bell pairs were created sometime in the past and now Alice and Bob each have one qubit out of it. Alternatively, we can assume that Alice and Bob are provided a qubit out of the Bell pair by some third-party source who generates such pairs.\n",
        "\n",
        "Suppose Alice and Bob want to exchange a secret key. When they are ready they will measure their respective qubits. The order of which the measurements take place (Alice measures first or Bob measures first) does not matter.\n",
        "\n",
        "To prevent a third party from obtaining the same random string Alice and Bob must measure their qubits randomly in one of the two random (non-orthogonal) bases."
      ]
    },
    {
      "cell_type": "markdown",
      "metadata": {
        "id": "Z2dfM6x-X35O"
      },
      "source": [
        "#### The Protocol Flow\n",
        "\n",
        "Assume that the bases are &#10010; and &#x2716; as before.\n",
        "\n",
        "The protocol proceeds shown in the table below.\n",
        "\n",
        "||||||||||\n",
        "|:--|:--:|:--:|:--:|:--:|:--:|:--:|:--:|:--:|\n",
        "| ***Alice's Random Bases*** |✚|✖|✖|✚|✖|✖|✚|✚|\n",
        "| ***Alice's Observations*** |→|↖|↖|↑|↖|↗|↑|↑|\n",
        "| ***Bob's Random Bases***   |✖|✖|✚|✚|✖|✚|✖|✚|\n",
        "| ***Bob's Observations***   |↗|↖|↑|↑|↖|→|↖|↑|  \n",
        "| ***Bases agree***          ||Y||Y|Y|||Y|\n",
        "\n",
        "Alice and Bob keep the bits that were measured in the same basis.\n",
        "\n",
        "To detect an eavesdropper or other sources (environment) that may have either caused a qubit to collapse or entanglement to disintegrate, Alice and Bob will publicly compare the values of some of the qubits to look for discrepancies. If any discrepancies are found, assuming an error free channel, Alice and Bob have to throw out the exchanged bits."
      ]
    },
    {
      "cell_type": "code",
      "execution_count": null,
      "metadata": {
        "id": "gUjoMepeX35O"
      },
      "outputs": [],
      "source": [
        "display.display(img3)"
      ]
    },
    {
      "cell_type": "markdown",
      "metadata": {
        "id": "5dyFYF71X35O"
      },
      "source": [
        "### 07.04.03: The E91 Protocol"
      ]
    },
    {
      "cell_type": "markdown",
      "metadata": {
        "id": "uGSUEx1RX35O"
      },
      "source": [
        "Ekert’s 1991 protocol is almost the same as the EPR protocol from the previous section but differs in two steps.\n",
        "\n",
        "First, the measurement is done in three different bases (instead of just two).\n",
        "\n",
        "Second, the qubits that both parties measure in the same basis are saved as possible keys, the qubits that were measured in different basis are used to detect any eavesdropper, or decoherence of the entangled qubits by checking if they violate Bell's inequality (CHSH game) or not.\n",
        "\n",
        "Of the qubits are independent qubits (not entangled) they will satisfy Bell's inequality."
      ]
    },
    {
      "cell_type": "markdown",
      "metadata": {
        "id": "aNWmLYWfX35O"
      },
      "source": [
        "### Project/Research Suggestions"
      ]
    },
    {
      "cell_type": "markdown",
      "metadata": {
        "id": "DYLNc2YSX35O"
      },
      "source": [
        "1. Modify the protocol such that instead of using Bell pairs it uses other general entangled qubits of the form $\\alpha\\rvert00\\rangle+\\beta\\rvert11\\rangle$. Does it have any advantages or disadvantages over the protocol that was presented?\n",
        "<br><br>\n",
        "2. Discuss the advantages and disadvantages (if any) of entanglement based protocol over BB84 and three-stage protocol.\n",
        "<br><br>\n",
        "3. Can you use entanglement based protocol to directly and securely send messages instead of encryption keys? How would you do it?\n",
        "<br><br>\n",
        "4. Can entangled states such as $a\\rvert00\\rangle+b\\rvert01\\rangle+c\\rvert11\\rangle$ be used for QKD? Why or why not, discuss."
      ]
    },
    {
      "cell_type": "markdown",
      "metadata": {
        "id": "PfuDX_zKX35P"
      },
      "source": [
        "## 07.05: The Goldenberg-Vaidman Protocol"
      ]
    },
    {
      "cell_type": "markdown",
      "metadata": {
        "id": "pE9OBh1mX35P"
      },
      "source": [
        "### 07.05.01: Introduction"
      ]
    },
    {
      "cell_type": "markdown",
      "metadata": {
        "id": "vP55wVzrX35Q"
      },
      "source": [
        "The Goldenberg-Vaidman protocol, also known as the GV protocol, proposed in 1995 was yet another surprise in the field of quantum cryptography. Until this protocol it was assumed that only non-orthogonal states can be used in a QKD (Quantum Key Distribution) scheme. This was because Eve would be able to faithfully reproduce/clone orthogonal states.\n",
        "\n",
        "When GV protocol was published claiming that it used orthogonal states for QKD, soon after an objection was published claiming the GV is equivalent to BB84 and actually used non-orthogonal qubits.\n",
        "\n",
        "However, Goldenberg and Vaidman successfully defended their protocol and has now lead to an entirely new stem of research.  "
      ]
    },
    {
      "cell_type": "markdown",
      "metadata": {
        "id": "Dr--SLdNX35Q"
      },
      "source": [
        "### 07.05.02: The GV Protocol"
      ]
    },
    {
      "cell_type": "markdown",
      "metadata": {
        "id": "gU_BW3_AX35Q"
      },
      "source": [
        "The GV protocol requires storage of qubits that is realised using a delay loop in the transmission line. The most common implementation was a Mach-Zehnder Interferometer as shown below."
      ]
    },
    {
      "cell_type": "code",
      "execution_count": null,
      "metadata": {
        "id": "76-oEXfyX35Q"
      },
      "outputs": [],
      "source": [
        "display.display(img4)"
      ]
    },
    {
      "cell_type": "markdown",
      "metadata": {
        "id": "pA-4Dcg5X35Q"
      },
      "source": [
        "Consider two orthogonal states:\n",
        "\n",
        "$\\rvert \\psi_0 \\rangle = \\frac{1}{\\sqrt(2)}(\\rvert a\\rangle + \\rvert b\\rangle)$\n",
        "\n",
        "$\\rvert \\psi_1 \\rangle = \\frac{1}{\\sqrt(2)}(\\rvert a\\rangle - \\rvert b\\rangle)$\n",
        "\n",
        "Where $\\rvert a\\rangle$ and $\\rvert b\\rangle$ are localized wave packets, eg. $\\rvert 0\\rangle$ and $\\rvert 1\\rangle$.\n",
        "\n",
        "$\\rvert \\psi_0 \\rangle$ and $\\rvert \\psi_1 \\rangle$ are taken to represent bit values 0 and 1, respectively."
      ]
    },
    {
      "cell_type": "markdown",
      "metadata": {
        "id": "baMSHavpX35Q"
      },
      "source": [
        "\n",
        "The wave packets $\\rvert a\\rangle$ and $\\rvert b\\rangle$ travel to Bob, from Alice, using the two different arms of  Mach-Zehnder Interferometer meter.\n",
        "\n",
        "Alice sends Bob either $\\rvert \\psi_0 \\rangle$ or $\\rvert \\psi_1 \\rangle$. Therefore either $S_1$ fires or $S_2$ fires depending on if Alice wants to send 0 or 1 respectively.\n",
        "\n",
        "Now wave packet $\\rvert a\\rangle$ traveling in the upper arm of the interferometer is always sent first and $\\rvert b\\rangle$ traveling in the lower arm is delayed using an optical loop by time $T$.\n",
        "\n",
        "Assume that the travel time between Alice and Bob, denoted by $\\theta$, is less than $T$. This, however is not absolutely necessary. However, for security it is necessary that Alice transmits her qubit at a random time $t_s$.\n",
        "\n",
        "The delay in the transmission line of $\\rvert b\\rangle$ ensures that both $\\rvert a\\rangle$ and $\\rvert b\\rangle$ are not present in the transmission line, and thus accessible to Eve, simultaneously.\n",
        "\n",
        "At Bob’s end, the wave packed $\\rvert a\\rangle$ is delayed by $T$ and combined with $\\rvert b\\rangle$ when it reaches.\n",
        "\n",
        "Depending on what was transmitted, one of the detectors on Bob’s end will click indicating a 1 or a 0.\n"
      ]
    },
    {
      "cell_type": "markdown",
      "metadata": {
        "id": "Bx3uaUJ4X35R"
      },
      "source": [
        "#### Eavesdropping"
      ]
    },
    {
      "cell_type": "markdown",
      "metadata": {
        "id": "MZjJc3eGX35R"
      },
      "source": [
        "To check for eavesdropping Alice and Bob do two things:\n",
        "\n",
        "1. They compare the received time, $t_r$, and transmission time, $t_s$, of every qubit.\n",
        "\n",
        "    $t_r = t_s + \\theta + T$ ideally\n",
        "\n",
        "    Eve therefore cannot delay $\\rvert a\\rangle$ and wait for $\\rvert b\\rangle$ to reach her.\n",
        "<br><br>\n",
        "2. Alice and Bob look for disagreement in transmitted and received bit values.\n",
        "\n",
        "Note that the requirement of random sending time is crucial for the security of GV protocol. If the transmission times are know then Eve can intercept $\\rvert a\\rangle$ and send a fake $\\rvert a\\rangle$ to Bob. Then when wave packet $\\rvert b\\rangle$ reaches Eve, she can make a measurement to determine whether alice transmitted $\\rvert \\psi_0 \\rangle$ or $\\rvert \\psi_1 \\rangle$ and accordingly send $\\rvert b\\rangle$ or -$\\rvert b\\rangle$ to Bob. If Eve’s measurement time is negligible then Eve will go undetected."
      ]
    }
  ],
  "metadata": {
    "celltoolbar": "Slideshow",
    "kernelspec": {
      "display_name": "Python 3",
      "language": "python",
      "name": "python3"
    },
    "language_info": {
      "codemirror_mode": {
        "name": "ipython",
        "version": 3
      },
      "file_extension": ".py",
      "mimetype": "text/x-python",
      "name": "python",
      "nbconvert_exporter": "python",
      "pygments_lexer": "ipython3",
      "version": "3.13.0"
    },
    "colab": {
      "provenance": []
    }
  },
  "nbformat": 4,
  "nbformat_minor": 0
}