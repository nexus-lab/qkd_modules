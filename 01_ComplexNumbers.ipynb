{
  "cells": [
    {
      "cell_type": "code",
      "execution_count": null,
      "metadata": {
        "id": "b9cH0xsIXKxG"
      },
      "outputs": [],
      "source": [
        "!git clone https://github.com/Zmoc/qkdModules.git\n",
        "%cd qkdModules"
      ]
    },
    {
      "cell_type": "code",
      "execution_count": null,
      "metadata": {
        "id": "67AMNiXWXKxH"
      },
      "outputs": [],
      "source": [
        "from PIL import Image\n",
        "import IPython.display as display\n",
        "from QKDResources.pyfiles.saquiz1_1 import SAQuiz1_1\n",
        "from QKDResources.pyfiles.saquiz1_2 import SAQuiz1_2\n",
        "from QKDResources.pyfiles.saquiz2_1 import SAQuiz2_1\n",
        "from QKDResources.pyfiles.saquiz2_2 import createQuiz2_2\n",
        "from QKDResources.pyfiles.saquiz3_1 import createQuiz3_1\n",
        "\n",
        "drive = \"QKDResources/images/01/\"\n",
        "\n",
        "img1 = Image.open(drive + \"nanomod3-fig1.png\")\n",
        "img2 = Image.open(drive + \"nanomod3-fig2.png\")"
      ]
    },
    {
      "cell_type": "markdown",
      "metadata": {
        "id": "W0MpTiLiXKxI"
      },
      "source": [
        "# 01 Complex Numbers"
      ]
    },
    {
      "cell_type": "markdown",
      "metadata": {
        "jp-MarkdownHeadingCollapsed": true,
        "id": "txhwDQmyXKxJ"
      },
      "source": [
        "## Learning Goals"
      ]
    },
    {
      "cell_type": "markdown",
      "metadata": {
        "id": "cQUs5-nCXKxK"
      },
      "source": [
        "1. Students will master the concept of complex number representations.\n",
        "\n",
        "2. Students will be able to perform basic additive and multiplicative operations on complex numbers.\n",
        "\n",
        "3. Students will be able to implement Python programs that perform basic operations of addition and multiplication on complex numbers.\n",
        "\n",
        "4. Students will be able to represent complex numbers as ordered pairs.\n",
        "\n",
        "5. Students will know some of the basic properties of complex numbers and operations on them.\n",
        "\n",
        "6. Students will be able to compute the modulus and conjugate of complex numbers.\n",
        "\n",
        "7. Students will be able to prove basic properties of modulus and conjugate operations.\n",
        "\n",
        "8. Students will be able to implement programs to divide two complex numbers, compute the modulus and conjugate.\n",
        "\n",
        "9. Students will be able to represent complex numbers as Cartesian coordinates and plot them on the complex plane.\n",
        "\n",
        "10. Students will be able to represent complex numbers using polar representations and plot them on the complex plane.\n",
        "\n",
        "11. Students will be able to convert back and forth between Cartesian and polar representations.\n",
        "\n",
        "12. Students will be able to implement programs that convert between Cartesian and polar representations."
      ]
    },
    {
      "cell_type": "markdown",
      "metadata": {
        "id": "uBTGO6pDXKxK"
      },
      "source": [
        "## 01.01: The Basics of Complex Numbers"
      ]
    },
    {
      "cell_type": "markdown",
      "metadata": {
        "id": "HVgm6kpIXKxL"
      },
      "source": [
        "### 01.01.01: Background"
      ]
    },
    {
      "cell_type": "markdown",
      "metadata": {
        "id": "sBfJ0Z3hXKxM"
      },
      "source": [
        "In order to start understanding the theory behind quantum computing and cryptography, one needs to first understand what complex numbers are. It often comes as a surprise to many that complex numbers are deeply ingrained in quantum theory and nature for that matter!\n",
        "\n",
        "We usually work with the following number systems:\n",
        "- Positive numbers, $\\mathbb{P} = {1, 2, 3, \\ldots}$\n",
        "- Natural numbers, $\\mathbb{N} = {0, 1, 2, 3, \\ldots}$\n",
        "- Integers, $\\mathbb{Z} = {\\ldots, -3, -2, -1, 0, 1, 2, 3, \\ldots}$\n",
        "- Rational numbers, $\\mathbb{Q} = {\\frac{m}{n}|m\\in\\mathbb{Z}, n\\in\\mathbb{P}}$\n",
        "- Real numbers, $\\mathbb{R} = \\mathbb{Q}\\cup{\\ldots,\\sqrt{2},\\ldots,e,\\ldots,\\pi,\\ldots,\\frac{e}{\\pi},\\ldots}$\n",
        "\n",
        "The last of these, set of real numbers, encompasses all the other types of number systems. So where do complex numbers come from and how do they fit in with the above commonly used number systems?"
      ]
    },
    {
      "cell_type": "markdown",
      "metadata": {
        "id": "F7dgMCbpXKxM"
      },
      "source": [
        "### 01.01.02: Imaginary Numbers"
      ]
    },
    {
      "cell_type": "markdown",
      "metadata": {
        "id": "hgzYQ8YyXKxN"
      },
      "source": [
        "The birth of complex numbers is motivated by the desire to find solutions for polynomial equations. It is easy to see that some polynomials such as $x^2=-1$ do not have any solutions in real numbers. Mathematicians therefore had to take a leap of faith and assume that a solution to such equations does exist. In other words, there is a number that when squared will result in -1.\n",
        "\n",
        "They denoted this number by $i$, such that $i=\\sqrt{-1}$. Indeed, $i^2=-1$. Therefore, the solution to the above equation is $x=i$.\n",
        "\n",
        "This new number, $i$, clearly does not exist within the set of real numbers and is aptly called an *imaginary number*.\n",
        "\n",
        "We can use $i$ to do arithmetic operations. Therefore:\n",
        "\n",
        "\\begin{aligned}\n",
        "i^2 &= -1\\\\\n",
        "i^3 &= i\\times i\\times i = i^2\\times i=-1\\times i=-i\\\\\n",
        "i^4 &= (i^2)^2=1\\\\\n",
        "\\end{aligned}\n",
        "\n",
        "and so on. Very soon a pattern emerges that can be used to compute higher powers of $i$."
      ]
    },
    {
      "cell_type": "markdown",
      "metadata": {
        "id": "_vlU0z9cXKxN"
      },
      "source": [
        "### 01.01.03: Complex Numbers"
      ]
    },
    {
      "cell_type": "markdown",
      "metadata": {
        "id": "nKycsr0KXKxO"
      },
      "source": [
        "Now that we know what real numbers look like and what imaginary numbers look like, we can define a complex number as follows,\n",
        "\n",
        "*A <b>complex number</b> is a combination of real and imaginary numbers. Therefore, an expression $c=a+b\\times i = a+bi$, where $a$ and $b$ are real numbers is said to be a complex number. Here $bi=b\\times i$ is understood.*\n",
        "\n",
        "Note that when $a=0$, we only have $c=bi$ and is a valid complex number. Often $a$ is called the real part of $c$ and $b$ is called the imaginary part of $c$. The set of all complex numbers is denoted by $\\mathbb{C}$."
      ]
    },
    {
      "cell_type": "markdown",
      "metadata": {
        "id": "O0SbAF7cXKxO"
      },
      "source": [
        "### 01.01.04: Operations on Complex Numbers"
      ]
    },
    {
      "cell_type": "markdown",
      "metadata": {
        "id": "m4iSkBx0XKxP"
      },
      "source": [
        "Let's look at a couple of operations on complex numbers: addition and multiplication.\n",
        "\n",
        "Addition:\n",
        "\\begin{aligned}\n",
        "\\text{If: } c_1 &= a_1+b_1i \\text{ and } \\\\\n",
        "c_2 &= a_2+b_2i\\\\\n",
        "\\text{Then: } c_1+c_2 &= (a_1+a_2)+(b_1+b_2)i \\\\\n",
        "\\end{aligned}\n",
        "\n",
        "Multiplication:\n",
        "\\begin{aligned}\n",
        "\\text{If: } c_1 &= a_1+b_1i \\text{ and } \\\\\n",
        "c_2&=a_2+b_2i \\\\\n",
        "\\text{Then: } c_1\\times c_2 &= (a_1a_2-b_1b_2)+(a_1b_2+a_2b_1)i \\\\\n",
        "\\end{aligned}\n",
        "\n",
        "Therefore, $i$ is almost treated as a variable.\n",
        "\n",
        "Example:\n",
        "\n",
        "Let $c_1=5+11i$ and $c_2=3+8i$, then:\n",
        "\\begin{aligned}\n",
        "c_1+c_2 &= (5+3) + (11+8)i \\\\\n",
        "&= 8+19i \\\\\n",
        "c_1\\times c_2 &= (5\\times3-11\\times8)+(5\\times8+11\\times3)i \\\\\n",
        "&=-73+73i \\\\\n",
        "\\end{aligned}"
      ]
    },
    {
      "cell_type": "markdown",
      "metadata": {
        "id": "gvKL1RpzXKxQ"
      },
      "source": [
        "## 01.02: Properties of Complex Numbers"
      ]
    },
    {
      "cell_type": "markdown",
      "metadata": {
        "id": "PQsECYgKXKxQ"
      },
      "source": [
        "### 01.02.01: Background"
      ]
    },
    {
      "cell_type": "markdown",
      "metadata": {
        "id": "7gEiqKhZXKxQ"
      },
      "source": [
        "One way to develop an intuition for complex numbers is to look at them geometrically in a 2-dimensional plane. From the definition of complex numbers, we learned that complex numbers have two real numbers within them besides the imaginary number that we've invented, $i = \\sqrt{-1}$.\n",
        "\n",
        "We can omit writing $i$ by simply representing complex numbers as ordered pairs, $c\\rightarrow (a,b)$, where $a$ and $b$ are the real and imaginary parts of $c=a+bi$. Real numbers are represented as $(a,0)$ and imaginary numbers are $(0,b)$.\n",
        "\n",
        "Let $c_1\\rightarrow(a_1,b_1)$ and $c_2\\rightarrow(a_2,b_2)$. Then the two operations that we've seen so far may be rewritten as follows:\n",
        "\n",
        "\\begin{aligned}\n",
        "c_1+c_2 &= (a_1,b_1)+(a_2,b_2) \\\\\n",
        "&= (a_1+a_2, b_1+b_2) \\\\\n",
        "c_1\\times c_2 &= (a_1a_2-b_1b_2, a_1b_2+b_1a_2) \\\\\n",
        "\\end{aligned}"
      ]
    },
    {
      "cell_type": "markdown",
      "metadata": {
        "id": "xzy2M_yjXKxQ"
      },
      "source": [
        "### 01.02.02: Properties of Complex Numbers"
      ]
    },
    {
      "cell_type": "markdown",
      "metadata": {
        "id": "IK_3d3ZfXKxQ"
      },
      "source": [
        "Addition is both <b>commutative</b> and <b>associative</b>. Therefore:\n",
        "$$c_1+c_2 = c_2+c_1$$\n",
        "$$(c_1+c_2)+c_3 = c_1+(c_2+c_3)$$\n",
        "\n",
        "Multiplication is both commutative and associative. Consequently:\n",
        "$$c_1\\times c_2 = c_2\\times c_1$$\n",
        "$$(c_1\\times c_2)\\times c_3 = c_1\\times(c_2\\times c_3)$$"
      ]
    },
    {
      "cell_type": "markdown",
      "metadata": {
        "id": "DNh9S6znXKxR"
      },
      "source": [
        "<b> Distributivity:</b> Multiplication over addition\n",
        "$$c_1\\times(c_2+c_3) = (c_1\\times c_2)+(c_1\\times c_3)$$\n",
        "\n",
        "<b> Negation:</b> Negation simply distributes -1 over a complex number using the above property. Therefore:\n",
        "\\begin{aligned}\n",
        "-c_1 &= -1\\times c_1 \\\\\n",
        "&= -1\\times(a+bi) \\\\\n",
        "&= -a-bi \\\\\n",
        "\\end{aligned}\n",
        "\n",
        "<b> Subtraction:</b> Subtraction is the same as adding $c_1$ and $-c_2$. Therefore:\n",
        "\\begin{aligned}\n",
        "c_1-c_2 &= c_1+(-c_2) \\\\\n",
        "&=(a_1,b_1)-(a_2,b_2) \\\\\n",
        "&=(a_1,b_1)+(-a_2,-b_2) \\\\\n",
        "&=(a_1-a_2, b_1-b_2) \\\\\n",
        "\\end{aligned}\n",
        "\n",
        "<b> Division:</b> Division requires solving for $x$ and $y$, where $(x,y) = \\frac{(a_1,b_1)}{(a_2,b_2)}$.\n",
        "\n",
        "The result is:\n",
        "$$x=\\frac{a_1a_2+b_1b_2}{a_2^2+b_2^2}$$\n",
        "and\n",
        "$$y=\\frac{a_2b_1-a_1b_2}{a_2^2+b_2^2}$$\n",
        "\n",
        "where:\n",
        "$$\\frac{c_1}{c_2}=(x,y)=x+yi$$"
      ]
    },
    {
      "cell_type": "markdown",
      "metadata": {
        "id": "eC6moov0XKxR"
      },
      "source": [
        "### 01.02.03: Modulus and Conjugation"
      ]
    },
    {
      "cell_type": "markdown",
      "metadata": {
        "id": "h359ys_XXKxR"
      },
      "source": [
        "#### Modulus\n",
        "\n",
        "The <b>modulus</b> of a complex number is given by:\n",
        "\\begin{aligned}\n",
        "\\rvert c\\rvert &= \\rvert a+bi\\rvert \\\\\n",
        "&=+\\sqrt{a^2+b^2}\n",
        "\\end{aligned}\n",
        "\n",
        "- Note that we are only concerned with the positive square roots.\n",
        "\n",
        "<b>Example: </b>Modulus of $c=5+7i$ is:\n",
        "\\begin{aligned}\n",
        "\\rvert c\\rvert&=\\sqrt{5^2+7^2} \\\\\n",
        "&=\\sqrt{25+49} \\\\\n",
        "&=\\sqrt{74} \\\\\n",
        "\\end{aligned}\n",
        "\n",
        "#### Conjugate\n",
        "\n",
        "Conjugate of a complex number, $c=a+bi$, is computed by simply changing the sign of the imaginary part. Therefore the conjugate is given by:\n",
        "\n",
        "- $\\overline{c}=a-bi$\n",
        "\n",
        "In the later lessons, we will sometimes denote the conjugate with an asterisk as $c^*$.\n",
        "\n",
        "<b>Example: </b>The conjugate of $c=2-3i$ is $\\overline{c}=2+3i$."
      ]
    },
    {
      "cell_type": "markdown",
      "metadata": {
        "id": "sMEmcUf0XKxR"
      },
      "source": [
        "## 01.03: Complex Numbers on a Plane"
      ]
    },
    {
      "cell_type": "markdown",
      "metadata": {
        "id": "41RY4VTxXKxS"
      },
      "source": [
        "### 01.03.01: Cartesian Representation of Complex Numbers"
      ]
    },
    {
      "cell_type": "markdown",
      "metadata": {
        "id": "qXiWPj2vXKxS"
      },
      "source": [
        "Writing complex numbers as ordered pairs $c\\rightarrow(a,b)$, makes them very similar to $(x,y)$ coordinate. We will call the plane on which we plot these complex numbers as the <b>complex plane</b> or the <b>Argand plane</b>. The imaginary part of the complex number will be plotted along the $y$-axis and the real part of the complex number will be plotted along the $x$-axis.\n",
        "\n",
        "The modulus, therefore, becomes the <b>length</b> of the vector based on Pythagoras's theorem. Figure below depicts $c=2+4i$.\n",
        "\n",
        "\\begin{aligned}\n",
        "\\rvert c\\rvert &= length(c) \\\\\n",
        "&= \\sqrt{2^2+4^2} \\\\\n",
        "&= \\sqrt{4+16} \\\\\n",
        "&= \\sqrt{20} \\\\\n",
        "\\end{aligned}\n",
        "\n",
        "<b>Figure 1.</b> Complex number drawn as a vector.\n",
        "\n",
        "Often representing complex numbers as $(x,y)$ coordinates is called <b>Cartesian representation</b>."
      ]
    },
    {
      "cell_type": "code",
      "execution_count": null,
      "metadata": {
        "id": "mhCPeYltXKxS"
      },
      "outputs": [],
      "source": [
        "display.display(img1)"
      ]
    },
    {
      "cell_type": "markdown",
      "metadata": {
        "id": "TPpzAnQTXKxS"
      },
      "source": [
        "### 01.03.02: Polar Representation of Complex Numbers"
      ]
    },
    {
      "cell_type": "markdown",
      "metadata": {
        "id": "4if7MoEKXKxS"
      },
      "source": [
        "Vectors in a plane can also be represented using the magnitude of the vector (modulus $\\rho$) and the angle $\\theta$ it makes with the $x$-axis. This is known as the <b>polar representation</b>.\n",
        "\n",
        "$$(a,b)\\rightarrow(\\rho,\\theta)$$\n",
        "where:\n",
        "$$\\rho=\\sqrt{a^2+b^2}$$\n",
        "and\n",
        "$$\\theta=tan^{-1}(\\frac{b}{a})$$\n",
        "\n",
        "Going back to Cartesian representation: $a =\\rho cos (\\theta)$ and $b = \\rho sin(\\theta)$. Therefore, $a$ and $b$ are the projections of the vector on the $x$ and $y$ axes, respectively."
      ]
    },
    {
      "cell_type": "markdown",
      "metadata": {
        "id": "lRQhgr57XKxS"
      },
      "source": [
        "<b> Example:</b> The polar representation for $c=-2+2i$ can be computed as follows,\n",
        "\n",
        "\\begin{aligned}\n",
        "\\rho &= \\sqrt{(-2)^2+2^2} \\\\\n",
        "&= \\sqrt{4+4} \\\\\n",
        "&= \\sqrt{8}\n",
        "\\end{aligned}\n",
        "\n",
        "\\begin{aligned}\n",
        "\\theta &= tan^{-1}(\\frac{2}{-2}) \\\\\n",
        "&= tan^{-1}(-1) \\\\\n",
        "&= \\frac{3\\pi}{4}\n",
        "\\end{aligned}\n",
        "\n",
        "<b>Figure 2.</b> Complex number drawn using polar representation."
      ]
    },
    {
      "cell_type": "code",
      "execution_count": null,
      "metadata": {
        "id": "Y0OKZTvUXKxT"
      },
      "outputs": [],
      "source": [
        "display.display(img2)"
      ]
    },
    {
      "cell_type": "markdown",
      "metadata": {
        "id": "t6kx_Ga-XKxT"
      },
      "source": [
        "### 01.03.03: Multiplication using Polar Coordinates"
      ]
    },
    {
      "cell_type": "markdown",
      "metadata": {
        "id": "qC0HLC3fXKxT"
      },
      "source": [
        "Recall that multiplication of complex numbers is somewhat complicated using cartesian coordinates. However, multiplication becomes very simple in polar coordinates. Given two complex numbers:\n",
        "\n",
        "$$c_1\\rightarrow(\\rho_1,\\theta_1)$$\n",
        "and\n",
        "$$c_2=(\\rho_2,\\theta_2)$$\n",
        "\n",
        "$$c_1\\times c_2 = (\\rho_1\\rho_2, \\theta_1+\\theta_2)$$\n",
        "\n",
        "In other words, graphically the first vector is rotated by the angle of the second vector and its length multiplied by the length of the second vector."
      ]
    },
    {
      "cell_type": "markdown",
      "metadata": {
        "id": "akZSPBclXKxU"
      },
      "source": [
        "# 01 Quizzes"
      ]
    },
    {
      "cell_type": "markdown",
      "metadata": {
        "editable": true,
        "jp-MarkdownHeadingCollapsed": true,
        "tags": [],
        "id": "dekXsBlBXKxU"
      },
      "source": [
        "## Q01.01"
      ]
    },
    {
      "cell_type": "markdown",
      "metadata": {
        "id": "rsU4vqbzXKxU"
      },
      "source": [
        "<b><i>Run the code in the next cell to generate a interactive version of this quiz.</i></b>\n",
        "\n",
        "1. Solve for $x$ where $x^2+25=0$. Choose the right answer:\n",
        "\n",
        "    a. $x = 5i$\n",
        "\n",
        "    b. $x = -5i$\n",
        "    \n",
        "    c. $x = i$\n",
        "    \n",
        "    d. $x = 5$\n",
        "\n",
        "2. Simplify $i^{225}$. (Hint: find a pattern)"
      ]
    },
    {
      "cell_type": "code",
      "execution_count": null,
      "metadata": {
        "id": "XHVWOsoVXKxV"
      },
      "outputs": [],
      "source": [
        "SAQuiz1_1"
      ]
    },
    {
      "cell_type": "markdown",
      "metadata": {
        "jp-MarkdownHeadingCollapsed": true,
        "id": "ZCkqVgxHXKxV"
      },
      "source": [
        "## Q01.02"
      ]
    },
    {
      "cell_type": "markdown",
      "metadata": {
        "id": "smbgQCw0XKxV"
      },
      "source": [
        "<b><i>Run the code in the next cell to generate a interactive version of this quiz. Note that some of the problems are generated algorithmically and therefore provides many more practice exercises.</i></b>\n",
        "\n",
        "1\\. Solve for $x$, where $x^2+2x+10=0$.\n",
        "\n",
        "Let $c_1=2+50i$ and $c_2=3+\\frac{1}{2}i$, compute the following:\n",
        "\n",
        "2\\. $c_1+c_2$\n",
        "\n",
        "3\\. $c_1\\times c_2$\n",
        "\n",
        "4\\. $7\\times c_2$"
      ]
    },
    {
      "cell_type": "code",
      "execution_count": null,
      "metadata": {
        "id": "TDPyJAMPXKxV"
      },
      "outputs": [],
      "source": [
        "SAQuiz1_2"
      ]
    },
    {
      "cell_type": "markdown",
      "metadata": {
        "jp-MarkdownHeadingCollapsed": true,
        "id": "_wpW-AkcXKxW"
      },
      "source": [
        "## Q01.03"
      ]
    },
    {
      "cell_type": "markdown",
      "metadata": {
        "id": "XO6bYVnwXKxW"
      },
      "source": [
        "<b><i>Run the code in the next cell to generate a interactive version of this quiz.</i></b>\n",
        "\n",
        "Solve the following using cartesian representation. Given that $c_1=3i+4$, $c_2=5+11i$ and $c_3=4i$.\n",
        "\n",
        "1. Compute: $c_1\\times c_2$\n",
        "2. Numerically verify that: $c_1\\times(c_2+c_3)=(c_1\\times c_2)+(c_1\\times c_3)$\n",
        "3. Compute: $\\frac{c_2}{c_1}$ and $\\frac{c_1}{c_3}$"
      ]
    },
    {
      "cell_type": "code",
      "execution_count": null,
      "metadata": {
        "id": "SxKg3EKKXKxW"
      },
      "outputs": [],
      "source": [
        "SAQuiz2_1"
      ]
    },
    {
      "cell_type": "markdown",
      "metadata": {
        "jp-MarkdownHeadingCollapsed": true,
        "id": "FxYOxralXKxX"
      },
      "source": [
        "## Q01.04"
      ]
    },
    {
      "cell_type": "markdown",
      "metadata": {
        "id": "pdgeIgMXXKxX"
      },
      "source": [
        "<b><i>Run the code in the next cell to generate a interactive version of this quiz.</i></b>\n",
        "\n",
        "Compute the modulus for the following complex numbers.\n",
        "\n",
        "1. $c=3+1i$\n",
        "2. $c=1+21i$\n",
        "3. $c=10+10i$\n",
        "\n",
        "Compute the conjugate for the following complex numbers.\n",
        "\n",
        "1. $c=-101i$\n",
        "2. $c=20+1i$\n",
        "3. $c=-1+441i$"
      ]
    },
    {
      "cell_type": "code",
      "execution_count": null,
      "metadata": {
        "id": "lYTN-IzbXKxX"
      },
      "outputs": [],
      "source": [
        "createQuiz2_2()"
      ]
    },
    {
      "cell_type": "markdown",
      "metadata": {
        "jp-MarkdownHeadingCollapsed": true,
        "id": "PHYBE_HEXKxY"
      },
      "source": [
        "## Q01.05"
      ]
    },
    {
      "cell_type": "markdown",
      "metadata": {
        "id": "loj_wYABXKxY"
      },
      "source": [
        "<b><i>Run the code in the next cell to generate a interactive version of this quiz.</i></b>\n",
        "\n",
        "Convert the following into polar representations.\n",
        "\n",
        "1. $c=1+i$\n",
        "2. $c=21+48i$\n",
        "3. $c=3-45i$\n",
        "\n",
        "Convert the following polar representations into cartesian representations.\n",
        "\n",
        "4. $\\rho=25$ and $\\theta=60^\\circ$\n",
        "5. $\\rho=15$ and $\\theta=45^\\circ$\n",
        "6. $\\rho=45$ and $\\theta=30^\\circ$\n",
        "\n",
        "\n",
        "Multiply the following using polar representation.\n",
        "\n",
        "7. $c_1=1+2i$ and $c_2=4i$\n",
        "8. $c_1=2-4i$ and $c_2=3-2i$"
      ]
    },
    {
      "cell_type": "code",
      "execution_count": null,
      "metadata": {
        "id": "A7O_fVVWXKxY"
      },
      "outputs": [],
      "source": [
        "createQuiz3_1()"
      ]
    }
  ],
  "metadata": {
    "celltoolbar": "Slideshow",
    "kernelspec": {
      "display_name": "qkd",
      "language": "python",
      "name": "python3"
    },
    "language_info": {
      "codemirror_mode": {
        "name": "ipython",
        "version": 3
      },
      "file_extension": ".py",
      "mimetype": "text/x-python",
      "name": "python",
      "nbconvert_exporter": "python",
      "pygments_lexer": "ipython3",
      "version": "3.13.0"
    },
    "colab": {
      "provenance": []
    }
  },
  "nbformat": 4,
  "nbformat_minor": 0
}