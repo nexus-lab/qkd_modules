{
  "cells": [
    {
      "cell_type": "code",
      "execution_count": null,
      "metadata": {
        "id": "2Frx9R8dqJYJ"
      },
      "outputs": [],
      "source": [
        "!git clone https://github.com/Zmoc/qkdModules.git\n",
        "%cd qkdModules"
      ]
    },
    {
      "cell_type": "code",
      "execution_count": null,
      "metadata": {
        "id": "8MRYEJ3KqJYL"
      },
      "outputs": [],
      "source": [
        "from PIL import Image\n",
        "import IPython.display as display\n",
        "\n",
        "drive = \"QKDResources/\"\n",
        "\n",
        "img1 = Image.open(drive + \"images/05/nanomod17-fig1.png\")\n",
        "img2 = Image.open(drive + \"images/05/nanomod17-fig2.png\")\n",
        "img3 = Image.open(drive + \"images/05/nanomod17-fig3.png\")\n",
        "img4 = Image.open(drive + \"images/05/nanomod17-fig4.png\")\n",
        "img5 = Image.open(drive + \"images/05/nanomod18-fig1.png\")\n",
        "img6 = Image.open(drive + \"images/05/nanomod18-fig2.png\")\n",
        "img7 = Image.open(drive + \"images/05/nanomod18-fig3.png\")\n",
        "img8 = Image.open(drive + \"images/05/nanomod18-fig4.png\")\n",
        "img9 = Image.open(drive + \"images/05/nanomod18-cnotBasisDepend.png\")\n",
        "img10 = Image.open(drive + \"images/05/nanomod18-cnotEntangle.png\")\n",
        "img11 = Image.open(drive + \"images/05/nanomod18-cntrlU.png\")\n",
        "img12 = Image.open(drive + \"images/05/nanomod18-cnotSwap.png\")\n",
        "img13 = Image.open(drive + \"images/05/nanomod18-toffoli.png\")\n",
        "img14 = Image.open(drive + \"images/05/nanomod18-fredkin.png\")"
      ]
    },
    {
      "cell_type": "markdown",
      "metadata": {
        "id": "_MlvwwomqJYM"
      },
      "source": [
        "# 05 Multi-Qubit"
      ]
    },
    {
      "cell_type": "markdown",
      "metadata": {
        "jp-MarkdownHeadingCollapsed": true,
        "id": "-PR56Yr9qJYM"
      },
      "source": [
        "## Lesson Goals"
      ]
    },
    {
      "cell_type": "markdown",
      "metadata": {
        "id": "-dNFtKOMqJYN"
      },
      "source": [
        "1. Students will represent the state of a multi-qubit system.\n",
        "2. Students will be able to construct the basis for a multi-qubit system.\n",
        "1. Students will be able to create joint state representations of quantum systems with multiple qubits.\n",
        "2. Students will understand the notion of entangled quantum systems.\n",
        "3. Students will be able to perform measurements on joint quantum states.\n",
        "4. Students will be able to perform partial-measurements on joint quantum states.\n",
        "5. Students will understand the significance of EPR pairs and their implications.\n",
        "6. Students will understand Bell's inequality and CHSH game that verifies Bell's inequality.\n",
        "7. Students will be able to construct multi-qubit gates from single qubit gates.\n",
        "8. Students will understand the operations of new multi-qubit gates.\n",
        "9. Students will be able to compute outputs of circuits consisting of multiple qubits."
      ]
    },
    {
      "cell_type": "markdown",
      "metadata": {
        "editable": true,
        "tags": [],
        "id": "-HaS7JOaqJYN"
      },
      "source": [
        "## 05.01: Multi-qubit Systems"
      ]
    },
    {
      "cell_type": "markdown",
      "metadata": {
        "id": "je0cM56sqJYN"
      },
      "source": [
        "### 05.01.01: Multi-qubit Systems"
      ]
    },
    {
      "cell_type": "markdown",
      "metadata": {
        "id": "YJ0mz6_zqJYN"
      },
      "source": [
        "As one can imagine, to do anything useful on a quantum computer we will have to deal with multiple qubits at any given time. For example a quantum computer may have a register that can hold 8 qubits at any given time. We already know how to represent the state of any single qubit in the register. However, if we can represent the state of the entire system we can do much more than what we've seen so far with the qubits. For example, we can now apply two or even three qubit gates that operate on more than one qubit at a time. We can also represent, what are called entangled qubits or EPR pairs after their discovers Einstein, Podolsky and Rosen. EPR pairs are very powerful tools in quantum cryptography and the famous application of quantum teleportation."
      ]
    },
    {
      "cell_type": "markdown",
      "metadata": {
        "id": "Geqgg_xhqJYN"
      },
      "source": [
        "### 05.01.02: Exponential Growth in State Space"
      ]
    },
    {
      "cell_type": "markdown",
      "metadata": {
        "id": "1z6R7bneqJYN"
      },
      "source": [
        "Unlike classical systems, the state space of a quantum system grows exponentially with the number of qubits. For example, there are at the most $2^n$ possible states of a system consisting of $n$-classical bits. However, a $n$-qubit quantum system can have many more states than just $2^n$. In fact, it can have infinite possible states!\n",
        "\n",
        "However, these large number of states are confined to a surprisingly small physical space in a quantum system. Another big difference between classical and quantum states is that if a classical system consists of $n$-bits (components) each of these $n$ components can be precisely and completely described independent of each other.\n",
        "\n",
        "Whereas the individual components of a quantum system may not (always) be describable separate from each other. These states (qubits) are called entangled states (qubits) and crucial ingredients in any quantum computation. Entanglement is a uniquely quantum phenomenon with no classical counterpart. In fact, most of the states in a multi-qubit quantum system are entangled!"
      ]
    },
    {
      "cell_type": "markdown",
      "metadata": {
        "jp-MarkdownHeadingCollapsed": true,
        "id": "trOcbSv9qJYO"
      },
      "source": [
        "#### Representing a qubyte\n",
        "\n",
        "In order to represent the state of a quantum register holding eight individual qubits, we take the tensor product of the individual qubit states,\n",
        "\n",
        "$\\begin{bmatrix}1\\\\0\\end{bmatrix}$, $\\begin{bmatrix}0\\\\1\\end{bmatrix}$, $\\begin{bmatrix}0\\\\1\\end{bmatrix}$, $\\begin{bmatrix}1\\\\0\\end{bmatrix}$, $\\begin{bmatrix}0\\\\1\\end{bmatrix}$, $\\begin{bmatrix}0\\\\1\\end{bmatrix}$, $\\begin{bmatrix}1\\\\0\\end{bmatrix}$, $\\begin{bmatrix}1\\\\0\\end{bmatrix}$ = $\\rvert0\\rangle\\otimes\\rvert1\\rangle\\otimes\\rvert1\\rangle\\otimes\\rvert0\\rangle\\otimes\\rvert1\\rangle\\otimes\\rvert0\\rangle\\otimes\\rvert1\\rangle\\otimes\\rvert1\\rangle$\n",
        "\n",
        "In vector form, we write the state as:\n",
        "\n",
        "$\\begin{matrix}00000000\\\\00000001\\\\\\vdots\\\\01101011\\\\01101100\\\\01101101\\\\\\vdots\\\\11111110\\\\11111111\\end{matrix}\\begin{bmatrix}0\\\\0\\\\\\vdots\\\\0\\\\1\\\\0\\\\\\vdots\\\\0\\\\0\\end{bmatrix}$\n",
        "\n",
        "The bits numbers outside the vector represent the position of that binary string in the vector.\n",
        "\n",
        "The vector space associated with the quantum systems combined through the tensor product, results in a vector space of $2^n$ dimensions."
      ]
    },
    {
      "cell_type": "markdown",
      "metadata": {
        "id": "tKklJ8wdqJYP"
      },
      "source": [
        "### 05.01.03: Tensor Product of Vector Spaces (Recap)"
      ]
    },
    {
      "cell_type": "markdown",
      "metadata": {
        "id": "IxdZMvuqqJYP"
      },
      "source": [
        "Given two vector spaces $V$ and $W$ with bases $B_1=\\{\\rvert v_1\\rangle, \\rvert v_2\\rangle, \\ldots, \\rvert v_m\\rangle\\}$ and $B_2=\\{\\rvert w_1\\rangle, \\rvert w_2\\rangle, \\ldots, \\rvert w_n\\rangle\\}$, respectively. Then the tensor product of the two vector spaces $V\\otimes W$ has a basis set consisting of elements of the form $\\rvert v_i\\rangle\\otimes \\rvert w_j\\rangle$. Here $\\otimes$ is the tensor product of two vectors.\n",
        "\n",
        "#### Example:\n",
        "\n",
        "Consider a vector space $V$ with basis $B_1=\\left\\{\\begin{bmatrix}0\\\\1\\end{bmatrix}, \\begin{bmatrix}1\\\\0\\end{bmatrix}\\right\\}$ and a vector space $W$ with basis $B_2=\\left\\{\\frac{1}{\\sqrt{2}}\\begin{bmatrix}1\\\\1\\end{bmatrix},\\frac{1}{\\sqrt{2}}\\begin{bmatrix}1\\\\-1\\end{bmatrix}\\right\\}$, then the basis for $V\\otimes W$ is given by $B_1\\otimes B_2=\\left\\{\\frac{1}{\\sqrt{2}}\\begin{bmatrix}0\\\\1\\end{bmatrix}\\otimes\\begin{bmatrix}1\\\\1\\end{bmatrix},\\ldots\\right\\}$\n",
        "\n",
        "Properties of tensor product can be found in earlier nanomodules."
      ]
    },
    {
      "cell_type": "markdown",
      "metadata": {
        "id": "mOlI6UhlqJYP"
      },
      "source": [
        "Recall that we often drop the symbol for tensor product when there is no ambiguity. For example, $\\rvert v\\rangle\\otimes\\rvert w\\rangle$ may be written as $\\rvert v\\rangle\\rvert w\\rangle$ and even $\\rvert vw\\rangle$."
      ]
    },
    {
      "cell_type": "markdown",
      "metadata": {
        "id": "7CoE5WthqJYP"
      },
      "source": [
        "#### Orthogonal Basis\n",
        "\n",
        "Now if the bases for $\\rvert v\\rangle$, $\\left\\{\\rvert v_i\\rangle\\right\\}$, are orthonormal and similarly bases for $\\rvert w\\rangle$, $\\left\\{\\rvert w_j\\rangle\\right\\}$, are orthonormal, then the basis for their tensor product is also orthonormal.\n",
        "\n",
        "Further, since the tensor product of two vectors $v$ and $w$ has a dimension of $dim(v)\\times dim(w)$, the tensor product of $n$ two-dimensional vector spaces has $2^n$ dimensions."
      ]
    },
    {
      "cell_type": "markdown",
      "metadata": {
        "id": "gftYbk-cqJYP"
      },
      "source": [
        "***\n",
        "***\n",
        "**Decomposability:** Given the above discussion it may seem that given any element in $V\\otimes W$, we should be able to write it as a tensor product of a vector (element) in $V$ and another element $W$. However, it turns out that for a majority of the cases, elements in $V\\otimes W$ cannot be decomposed in such a fashion! This may seem surprising because all the elements in $V\\otimes W$ are indeed linear combination of such elements.\n",
        "***\n",
        "***"
      ]
    },
    {
      "cell_type": "markdown",
      "metadata": {
        "id": "_DUuef2DqJYP"
      },
      "source": [
        "### 05.01.04: State Space of a n-qubit System"
      ]
    },
    {
      "cell_type": "markdown",
      "metadata": {
        "id": "uhm8P6MmqJYP"
      },
      "source": [
        "Let's start with a small example. Given two qubits in standard basis $V$ and $W$, the states of the joint quantum system are represented by unit vectors in vector space $V\\otimes W$.\n",
        "\n",
        "The two basis are $V=\\{\\rvert0\\rangle, \\rvert1\\rangle\\}$ and $W=\\{\\rvert0\\rangle, \\rvert1\\rangle\\}$. Then the joint state has vectors in $V\\otimes W=\\{\\rvert0\\rangle\\otimes\\rvert0\\rangle, \\rvert0\\rangle\\otimes\\rvert1\\rangle, \\rvert1\\rangle\\otimes\\rvert0\\rangle, \\rvert1\\rangle\\otimes\\rvert1\\rangle\\}$.\n",
        "\n",
        "This is often written in short hand as $V\\otimes W=\\{\\rvert0\\rangle\\rvert0\\rangle, \\rvert0\\rangle\\rvert1\\rangle, \\rvert1\\rangle\\rvert0\\rangle, \\rvert1\\rangle\\rvert1\\rangle\\}=\\{\\rvert00\\rangle, \\rvert01\\rangle, \\rvert10\\rangle, \\rvert11\\rangle\\}$"
      ]
    },
    {
      "cell_type": "markdown",
      "metadata": {
        "id": "_vtYB01vqJYP"
      },
      "source": [
        "This can be easily generalized to $n$-qubits in standard vector spaces. The basis for such a joint system would be represented by\n",
        "\n",
        "$\\{\\rvert0\\rangle_{n-1}\\otimes\\rvert0\\rangle_{n-2}\\otimes\\ldots\\otimes\\rvert0\\rangle_1\\otimes\\rvert0\\rangle_0,\\\\\n",
        "\\rvert0\\rangle_{n-1}\\otimes\\rvert0\\rangle_{n-2}\\otimes\\ldots\\otimes\\rvert0\\rangle_1\\otimes\\rvert1\\rangle_0,\\\\\n",
        "\\rvert0\\rangle_{n-1}\\otimes\\rvert0\\rangle_{n-2}\\otimes\\ldots\\otimes\\rvert1\\rangle_1\\otimes\\rvert0\\rangle_0,\\\\\n",
        "\\vdots\\\\\n",
        "\\rvert1\\rangle_{n-1}\\otimes\\rvert1\\rangle_{n-2}\\otimes\\ldots\\otimes\\rvert1\\rangle_1\\otimes\\rvert1\\rangle_0\\}$\n",
        "\n",
        "which can be rewritten as,\n",
        "\n",
        "$\\{\\rvert00\\ldots00\\rangle, \\rvert00\\ldots01\\rangle, \\rvert00\\ldots10\\rangle, \\rvert11\\ldots11\\rangle\\}$"
      ]
    },
    {
      "cell_type": "markdown",
      "metadata": {
        "id": "X7714UfkqJYP"
      },
      "source": [
        "### 05.01.05: Which Qubit belongs to whom?"
      ]
    },
    {
      "cell_type": "markdown",
      "metadata": {
        "id": "DLD4Uf2LqJYQ"
      },
      "source": [
        "Often in quantum protocols different entities (Alice, Bob and Eve) control different qubits. Or two different processors may hold these qubits in a quantum computer. In order to represent the joint state of such a system while keeping track of which qubit belongs to which entity we often make use of subscripts or other mechanisms as discussed below.\n",
        "\n",
        "For example, if in a 3 qubit system, the first qubit is controlled by Alice and the last two qubits are controlled by Bob then we may write it like,\n",
        "\n",
        "1. $\\frac{\\sqrt{3}}{\\sqrt{5}}\\rvert0\\rangle\\rvert11\\rangle+\\frac{\\sqrt{2}}{\\sqrt{5}}\\rvert1\\rangle\\rvert01\\rangle$, or\n",
        "2. $\\frac{\\sqrt{3}}{\\sqrt{5}}\\rvert0\\rangle_A\\rvert00\\rangle_B+\\frac{\\sqrt{2}}{\\sqrt{5}}\\rvert1\\rangle_A\\rvert01\\rangle_B$"
      ]
    },
    {
      "cell_type": "markdown",
      "metadata": {
        "id": "329EZ9iAqJYQ"
      },
      "source": [
        "If one wanted to use the vector notation to represent the joint state, things may get ambiguous because there is no way to put subscripts on the vector notation or group the qubits into Dirac notations. As a result, the order to qubits need to be well established.\n",
        "\n",
        "For example, given qubits $\\frac{1}{\\sqrt{2}}(\\rvert0\\rangle+\\rvert1\\rangle)$ and $\\rvert1\\rangle$ may be written as joint state $\\frac{1}{\\sqrt{2}}(\\rvert0\\rangle+\\rvert1\\rangle)\\otimes\\rvert1\\rangle=\\frac{1}{\\sqrt{2}}\\rvert01\\rangle+\\frac{1}{\\sqrt{2}}\\rvert11\\rangle$"
      ]
    },
    {
      "cell_type": "markdown",
      "metadata": {
        "id": "eO8JVN1EqJYQ"
      },
      "source": [
        "In vector form, this is written as,\n",
        "\n",
        "$$\\begin{bmatrix}\n",
        "0\\\\\n",
        "\\frac{1}{\\sqrt{2}}\\\\\n",
        "0\\\\\n",
        "\\frac{1}{\\sqrt{2}}\n",
        "\\end{bmatrix}$$\n",
        "\n",
        "The vectors in the standard basis for the joint state are given by,\n",
        "$$\\left\\{\\begin{bmatrix}1\\\\0\\\\0\\\\0\\end{bmatrix},\n",
        "\\begin{bmatrix}0\\\\1\\\\0\\\\0\\end{bmatrix},\n",
        "\\begin{bmatrix}0\\\\0\\\\1\\\\0\\end{bmatrix},\n",
        "\\begin{bmatrix}0\\\\0\\\\0\\\\1\\end{bmatrix}\\right\\}$$"
      ]
    },
    {
      "cell_type": "markdown",
      "metadata": {
        "id": "AIlyoEEvqJYQ"
      },
      "source": [
        "Although standard basis is used most often, other bases exist. One example is the Bell basis denoted by $\\{\\rvert\\phi^+\\rangle, \\rvert\\phi^-\\rangle, \\rvert\\psi^+\\rangle, \\rvert\\psi^-\\rangle\\}$ where,\n",
        "\n",
        "$\\rvert\\phi^+\\rangle = \\frac{1}{\\sqrt{2}}(\\rvert00\\rangle+\\rvert11\\rangle)$\n",
        "\n",
        "$\\rvert\\phi^-\\rangle = \\frac{1}{\\sqrt{2}}(\\rvert00\\rangle-\\rvert11\\rangle)$\n",
        "\n",
        "$\\rvert\\psi^+\\rangle = \\frac{1}{\\sqrt{2}}(\\rvert01\\rangle+\\rvert10\\rangle)$\n",
        "\n",
        "$\\rvert\\psi^-\\rangle = \\frac{1}{\\sqrt{2}}(\\rvert01\\rangle-\\rvert10\\rangle)$"
      ]
    },
    {
      "cell_type": "markdown",
      "metadata": {
        "id": "d6Kb35yeqJYQ"
      },
      "source": [
        "### 05.01.06: Global Phase"
      ]
    },
    {
      "cell_type": "markdown",
      "metadata": {
        "id": "iQHB4eaeqJYQ"
      },
      "source": [
        "Just as in the case of single qubits, joint quantum states that differ only in a global phase represent the same qubit.\n",
        "\n",
        "For example,\n",
        "\n",
        "\\begin{aligned}\n",
        "\\rvert01\\rangle&\\sim e^{i\\phi}\\rvert01\\rangle \\\\\n",
        "\\frac{1}{\\sqrt{2}}(\\rvert00\\rangle+\\rvert11\\rangle)&\\sim e^{i\\phi}(\\frac{1}{\\sqrt{2}}\\rvert00\\rangle+\\frac{1}{\\sqrt{2}}\\rvert11\\rangle) \\\\\n",
        "\\end{aligned}"
      ]
    },
    {
      "cell_type": "markdown",
      "metadata": {
        "id": "S6mRizHIqJYQ"
      },
      "source": [
        "## 05.02: Multiple Qubits and Entangled Systems"
      ]
    },
    {
      "cell_type": "markdown",
      "metadata": {
        "id": "5B7WXaS3qJYQ"
      },
      "source": [
        "### 05.02.01: Two Qubit Systems"
      ]
    },
    {
      "cell_type": "markdown",
      "metadata": {
        "id": "mq0lDkn3qJYQ"
      },
      "source": [
        "Consider two qubits each of which can be in $\\rvert 0\\rangle$ or $\\rvert 1\\rangle$ state. Therefore, according to the superposition principle taken together these two qubits can be in superposition of possible states: $\\rvert 00\\rangle$, $\\rvert 01\\rangle$, $\\rvert 10\\rangle$, and $\\rvert 11\\rangle$ and can be written as\n",
        "\n",
        "$\\rvert \\psi \\rangle = \\alpha_{00} \\rvert00\\rangle + \\alpha_{01} \\rvert01\\rangle+\\alpha_{10} \\rvert10\\rangle+\\alpha_{11} \\rvert11\\rangle$\n",
        "\n",
        "$\\alpha_{ij} \\in \\mathbb{C}$ and $\\sum \\rvert\\alpha_{ij}\\rvert^2 = 1$"
      ]
    },
    {
      "cell_type": "markdown",
      "metadata": {
        "id": "iOyocA7yqJYR"
      },
      "source": [
        "### 05.02.02: Measurement"
      ]
    },
    {
      "cell_type": "markdown",
      "metadata": {
        "id": "Fh5E2k0vqJYR"
      },
      "source": [
        "Now when you measure these qubits they will collapse to one of the four possibilities with the following probability:\n",
        "\n",
        "\\begin{aligned}\n",
        "P [00] &= \\rvert\\alpha_{00}\\rvert^2, new state \\rvert 00 \\rangle \\\\\n",
        "P [01] &= \\rvert\\alpha_{01}\\rvert^2, new state \\rvert 01 \\rangle \\\\\n",
        "P [10] &= \\rvert\\alpha_{10}\\rvert^2, new state \\rvert 10 \\rangle \\\\\n",
        "P [11] &= \\rvert\\alpha_{11}\\rvert^2, new state \\rvert 11 \\rangle \\\\\n",
        "\\end{aligned}\n",
        "\n",
        "For example,\n",
        "\n",
        "$\\rvert \\psi \\rangle = \\frac{1}{2} \\rvert00\\rangle + (\\frac{1}{2} + \\frac{i}{2}) \\rvert10\\rangle - \\frac{i}{2} \\rvert11\\rangle$\n",
        "\n",
        "Then,\n",
        "\n",
        "\\begin{aligned}\n",
        "P [00] &= \\frac{1}{4} \\\\\n",
        "P [10] &= \\frac{1}{2} \\\\\n",
        "P [11] &= \\frac{1}{4} \\\\\n",
        "\\end{aligned}"
      ]
    },
    {
      "cell_type": "markdown",
      "metadata": {
        "id": "ToOA-OlWqJYR"
      },
      "source": [
        "### 05.02.03: Partial Measurement"
      ]
    },
    {
      "cell_type": "markdown",
      "metadata": {
        "id": "uFTncPasqJYR"
      },
      "source": [
        "Again assume you have two qubits.\n",
        "\n",
        "In general form these are represented as:\n",
        "\n",
        "$\\rvert \\psi \\rangle = \\alpha_{00} \\rvert00\\rangle + \\alpha_{01} \\rvert01\\rangle+\\alpha_{10} \\rvert10\\rangle+\\alpha_{11} \\rvert11\\rangle$\n",
        "\n",
        "Now instead of measuring both the qubits what if we only measure the first qubit. What is the probability that we see a 0 for the first qubit?\n",
        "\n",
        "**In short the answer is:** The probability of seeing a 0 on the first qubit is the same as the probability of seeing a 0 if we measured both the qubits. This turns out to be $P[0] = \\rvert\\alpha_{00}\\rvert^2 +\\rvert\\alpha_{01}\\rvert^2 $\n",
        "\n",
        "Now the new state, after measuring the first qubit, can be computed by dropping the terms in $\\rvert \\psi \\rangle$ that cannot result in a 0 for the first qubit.\n",
        "\n",
        "Therefore, the new state is $\\rvert \\psi' \\rangle = \\alpha_{00} \\rvert00\\rangle + \\alpha_{01} \\rvert01\\rangle$.\n",
        "\n",
        "But you will notice that this is not normalized.\n",
        "\n",
        "Therefore, the normalized new state is $\\rvert \\psi' \\rangle = \\frac{\\alpha_{00} \\rvert00\\rangle + \\alpha_{01} \\rvert01\\rangle}{\\sqrt{\\rvert\\alpha_{00}\\rvert^2 +\\rvert\\alpha_{01}\\rvert^2 }}$"
      ]
    },
    {
      "cell_type": "markdown",
      "metadata": {
        "id": "I0Vp0sbaqJYR"
      },
      "source": [
        "#### Example\n",
        "\n",
        "Consider the state we had earlier, $\\rvert \\psi \\rangle = \\frac{1}{2} \\rvert00\\rangle + (\\frac{1}{2} + \\frac{i}{2}) \\rvert10\\rangle - \\frac{i}{2} \\rvert11\\rangle$\n",
        "\n",
        "$P[0$ on the first qubit$] = \\rvert\\frac{1}{2}\\rvert^2 = \\frac{1}{4}$\n",
        "\n",
        "$P[1$ on the first qubit$]  =  \\rvert\\frac{1}{2}+\\frac{i}{2}\\rvert^2 + \\rvert \\frac{-i}{2} \\rvert^2$ $ =\\frac{1}{2}+\\frac{1}{4}$ $ =\\frac{3}{4}$\n",
        "\n",
        "If we get a 0 then the new state is,\n",
        "\n",
        "$\\rvert \\psi' \\rangle = \\frac{\\frac{1}{2}\\rvert 00 \\rangle}{\\sqrt{\\frac{1}{4}}} = \\rvert00\\rangle$\n",
        "\n",
        "If we get a 1 then the new state is,\n",
        "\n",
        "\n",
        "$\\rvert \\psi' \\rangle = \\frac{(\\frac{1}{2} + \\frac{i}{2})\\rvert 10 \\rangle - \\frac{i}{2}\\rvert11\\rangle}{\\sqrt{\\frac{3}{4}}} = \\rvert00\\rangle$\n",
        "***"
      ]
    },
    {
      "cell_type": "markdown",
      "metadata": {
        "id": "GcntyP0vqJYR"
      },
      "source": [
        "### 05.02.04: Entangled Systems"
      ]
    },
    {
      "cell_type": "markdown",
      "metadata": {
        "id": "MXm9k9JxqJYR"
      },
      "source": [
        "Assume you have two qubits\n",
        "\n",
        "$\\rvert \\psi_1 \\rangle = \\alpha_0\\rvert0\\rangle + \\alpha_1\\rvert1\\rangle$ and $\\rvert \\psi_2 \\rangle = \\beta_0\\rvert0\\rangle + \\beta_1\\rvert1\\rangle$\n",
        "\n",
        "Now the state of the composite system, as we learned earlier, is a tensor product of these two qubit states.\n",
        "\n",
        "$\\rvert \\psi \\rangle = (\\alpha_0\\rvert0\\rangle + \\alpha_1\\rvert1\\rangle)\\otimes(\\beta_0\\rvert0\\rangle + \\beta_1\\rvert1\\rangle) = \\alpha_0\\beta_0\\rvert00\\rangle + \\alpha_0\\beta_1\\rvert01\\rangle + \\alpha_1\\beta_0\\rvert10\\rangle + \\alpha_1\\beta_1\\rvert11\\rangle$\n",
        "\n",
        "__Example__\n",
        "\n",
        "$\\rvert \\psi_1 \\rangle = \\frac{1}{\\sqrt{2}}\\rvert0\\rangle + \\frac{1}{\\sqrt{2}}\\rvert1\\rangle$\n",
        "\n",
        "$\\rvert \\psi_2 \\rangle = \\frac{i}{2}\\rvert0\\rangle + \\frac{\\sqrt{3}}{2}\\rvert1\\rangle$\n",
        "\n",
        "Then the composite system is written as.\n",
        "$\\rvert \\psi \\rangle = \\rvert \\psi_1 \\rangle \\otimes\\rvert \\psi_2 \\rangle = \\rvert \\psi_1 \\rangle\\rvert \\psi_2 \\rangle=\\rvert \\psi_1 \\psi_2 \\rangle$\n",
        "\n",
        "$ = (\\frac{1}{\\sqrt{2}}\\rvert0\\rangle + \\frac{1}{\\sqrt{2}}\\rvert1\\rangle)(\\frac{i}{2}\\rvert0\\rangle + \\frac{\\sqrt{3}}{2}\\rvert1\\rangle)  $\n",
        "\n",
        "$ = \\frac{i}{2\\sqrt{2}}\\rvert00\\rangle + \\frac{\\sqrt{3}}{2\\sqrt{2}}\\rvert01\\rangle + \\frac{i}{2\\sqrt{2}}\\rvert10\\rangle + \\frac{\\sqrt{3}}{2\\sqrt{2}}\\rvert11\\rangle$"
      ]
    },
    {
      "cell_type": "markdown",
      "metadata": {
        "id": "EpC-zqUjqJYR"
      },
      "source": [
        "### 05.02.05: Can we ask the reverse question?"
      ]
    },
    {
      "cell_type": "markdown",
      "metadata": {
        "id": "RBqO3_qrqJYR"
      },
      "source": [
        "Given a general two qubit state can it be decomposed into a tensor product of two individual qubit states? In the above example it is true but in general it turns out that such a decomposition is not always possible.\n",
        "\n",
        "Let's see an example.\n",
        "\n",
        "Consider the Bell state\n",
        "\n",
        "1)   $\\rvert \\psi \\rangle = \\frac{1}{\\sqrt{2}}\\rvert00\\rangle +\\frac{1}{\\sqrt{2}}\\rvert11\\rangle $\n",
        "\n",
        "Let us compare this state with the tensor product of two qubits\n",
        "\n",
        "2) $(\\alpha_0\\rvert0\\rangle + \\alpha_1\\rvert1\\rangle)\\otimes(\\beta_0\\rvert0\\rangle + \\beta_1\\rvert1\\rangle) = \\alpha_0\\beta_0\\rvert00\\rangle + \\alpha_0\\beta_1\\rvert01\\rangle + \\alpha_1\\beta_0\\rvert10\\rangle + \\alpha_1\\beta_1\\rvert11\\rangle$\n",
        "\n",
        "From equations 1 and 2 above\n",
        "\n",
        "$\\alpha_1\\beta_1 = \\alpha_0\\beta_0 = \\frac{1}{\\sqrt{2}}$\n",
        "\n",
        "which  implies $\\alpha_0,\\beta_0,\\alpha_1,\\beta_1$ are all non-zero\n",
        "\n",
        "However, both $\\alpha_0\\beta_1 = 0$ and $\\alpha_1\\beta_0 = 0$\n",
        "\n",
        "which implies either $\\alpha_0 = 0$ or $\\beta_1 = 0$ and either $\\alpha_1 = 0$ or $\\beta_0 = 0$.\n",
        "\n",
        "\n",
        "This is a contradiction and therefore Bell state $\\rvert \\psi \\rangle = \\frac{1}{\\sqrt{2}}\\rvert00\\rangle +\\frac{1}{\\sqrt{2}}\\rvert11\\rangle$ cannot be decomposed into tensor product of two individual qubit states."
      ]
    },
    {
      "cell_type": "markdown",
      "metadata": {
        "id": "a2oCPh-ZqJYR"
      },
      "source": [
        "### 05.02.06: Measuring the Bell state"
      ]
    },
    {
      "cell_type": "markdown",
      "metadata": {
        "id": "Hm29ZZyUqJYR"
      },
      "source": [
        "Again consider the Bell state,\n",
        "\n",
        "$\\frac{\\rvert00\\rangle +\\rvert11\\rangle}{\\sqrt{2}} $\n",
        "\n",
        "Even if one of the particles of this state is on earth and another is on Jupiter, the states will remain entangled. Now if we measure the particle on Earth, the probabilities of 0 and 1 are as follows,\n",
        "\n",
        "$P[0] = \\frac{1}{2}$ and $\\rvert \\psi' \\rangle = \\rvert 00 \\rangle$ is the new state\n",
        "\n",
        "$P[1] = \\frac{1}{2}$ and $\\rvert \\psi' \\rangle = \\rvert 11 \\rangle$ is the new state\n",
        "\n",
        "As we can see the act of measuring the Earth particle has instantaneously collapsed the particle on Jupiter to the same exact state.\n",
        "\n",
        "This is a troubling phenomenon because the effect measurement has instantaneously traveled to Jupiter (faster than the speed of light). Einstein, Podolsky and Rosen discovered the phenomenon and presented it as a contradiction to the theory of relativity.\n",
        "\n",
        "However, later it was understood that this can not be used to send any meaningful information faster than light and is one of the major ***no-go theorems*** in quantum mechanics."
      ]
    },
    {
      "cell_type": "markdown",
      "metadata": {
        "id": "S40pB5SZqJYR"
      },
      "source": [
        "## 05.03: The EPR Paradox and CHSH Game"
      ]
    },
    {
      "cell_type": "markdown",
      "metadata": {
        "id": "huJX4mKpqJYS"
      },
      "source": [
        "### 05.03.01: The EPR Paradox"
      ]
    },
    {
      "cell_type": "markdown",
      "metadata": {
        "id": "KSbMfiviqJYS"
      },
      "source": [
        "**Changing the basis of Bell Pairs**\n",
        "\n",
        "The Bell state $\\frac{\\rvert00\\rangle + \\rvert 11 \\rangle}{\\sqrt{2}}$ can also be written as $\\frac{\\rvert++\\rangle+\\rvert--\\rangle}{\\sqrt{2}}$ in the Hadamard basis.\n",
        "\n",
        "To see this,\n",
        "\n",
        "$\\frac{1}{\\sqrt{2}}\\rvert++\\rangle $ $+$ $  \\frac{1}{\\sqrt{2}}\\rvert--\\rangle = \\frac{1}{\\sqrt{2}}\\bigg[\\Big(\\frac{\\rvert0\\rangle+\\rvert1\\rangle}{\\sqrt{2}}\\Big)\\Big(\\frac{\\rvert0\\rangle+\\rvert1\\rangle}{\\sqrt{2}}\\Big)\\bigg]+\\frac{1}{\\sqrt{2}}\n",
        "\\bigg[\\Big(\\frac{\\rvert0\\rangle-\\rvert1\\rangle}{\\sqrt{2}}\\Big)\\Big(\\frac{\\rvert0\\rangle-\\rvert1\\rangle}{\\sqrt{2}}\\Big)\\bigg]$\n",
        "\n",
        "Collecting Terms\n",
        "\n",
        "$= \\frac{1}{\\sqrt{2}}\\bigg[\\Big(\\frac{\\rvert00\\rangle+\\rvert01\\rangle + \\rvert10\\rangle+\\rvert11\\rangle}{2}\\Big)+\\Big(\\frac{\\rvert00\\rangle-\\rvert01\\rangle - \\rvert10\\rangle+\\rvert11\\rangle}{2}\\Big)\\bigg]$\n",
        "\n",
        "$=\\frac{1}{\\sqrt{2}} \\bigg[\\rvert00\\rangle+\\rvert11\\rangle \\bigg]$"
      ]
    },
    {
      "cell_type": "markdown",
      "metadata": {
        "id": "KsgabYtcqJYS"
      },
      "source": [
        "One could ask the question when we physically separate these two qubits giving one to Alice and the other to Bob, do they really stay entangled or maybe when the state was formed with $\\frac{1}{2}$ probability the qubits went in to state $\\rvert 00 \\rangle$ and $\\frac{1}{2}$ probability they went into the state $\\rvert 11 \\rangle$ instead of a superposition of the two states.\n",
        "\n",
        "Now that we have seen the basis of the Bell pair, it can be changed (Is this right?). Therefore the qubits can also be measured in the $\\{\\rvert + \\rangle,\\rvert - \\rangle\\}$ basis,\n",
        "\n",
        "The probabilities of outcomes in this new basis are computed as follows\n",
        "\n",
        "$P[+] = \\frac{1}{2}$, new state $\\rvert++\\rangle$\n",
        "\n",
        "$P[-] = \\frac{1}{2}$, new state $\\rvert--\\rangle$\n",
        "\n",
        "Therefore, irrespective of the basis the Bell pair is measured, the results will match.\n",
        "\n",
        "Consequently, the qubits could not have been in states of $\\rvert00\\rangle$ or $\\rvert11\\rangle$ to start with, measuring such states in the Hadamard basis would potentially result in different outcomes at Alice’s and Bob’s end."
      ]
    },
    {
      "cell_type": "markdown",
      "metadata": {
        "id": "Qqhcnq68qJYS"
      },
      "source": [
        "### 05.03.02: Rotational Invariance of Bell State"
      ]
    },
    {
      "cell_type": "markdown",
      "metadata": {
        "id": "jYRzpk2cqJYS"
      },
      "source": [
        "We know that, $\\rvert \\psi \\rangle=\\frac{\\rvert00\\rangle + \\rvert 11 \\rangle}{\\sqrt{2}}=\\frac{\\rvert++\\rangle+\\rvert--\\rangle}{\\sqrt{2}}$.\n",
        "\n",
        "We can go further and claim, $\\rvert \\psi \\rangle = \\frac{1}{\\sqrt{2}}\\rvert aa\\rangle +  \\frac{1}{\\sqrt{2}}\\rvert a^\\bot a^\\bot\\rangle$ where $\\{\\rvert a\\rangle\\ , \\rvert a^\\bot\\rangle\\}$ form a orthogonal basis\n",
        "\n",
        "$P[a] = \\frac{1}{2}$, new state $\\rvert aa\\rangle$\n",
        "\n",
        "$P[a^\\bot] = \\frac{1}{2}$, new state $\\rvert a^\\bot a^\\bot\\rangle$\n",
        "\n",
        "Consider the bases as shown below:"
      ]
    },
    {
      "cell_type": "code",
      "execution_count": null,
      "metadata": {
        "id": "QxOXB1hAqJYS"
      },
      "outputs": [],
      "source": [
        "display.display(img1)"
      ]
    },
    {
      "cell_type": "markdown",
      "metadata": {
        "id": "W0ZINjjzqJYT"
      },
      "source": [
        "Now consider what happens if the two qubits in the Bell pair are measured in different bases.\n",
        "If the first qubit of the Bell pair is measured in $\\{\\rvert u\\rangle,\\rvert u^\\bot\\rangle \\}$ and the outcome is the $\\rvert u \\rangle$\n",
        "the $P[u] = \\frac{1}{2}$ and the new state is $\\rvert uu \\rangle$. Therefore the second qubit is also in the state $\\rvert u \\rangle$.\n",
        "\n",
        "Now when the second qubit is measured in $\\{ \\rvert v\\rangle,\\rvert v^\\bot \\rangle \\}$ basis the outcomes will be $\\rvert v \\rangle$ and $\\rvert v^\\bot \\rangle$ with the following probabilities\n",
        "\n",
        "$P[v] = cos^2\\theta_2$\n",
        "\n",
        "$P[v^\\bot] = 1-cos^2\\theta_2$\n",
        "\n",
        "Whereas if the first qubit had collapsed to $\\rvert u^\\bot \\rangle$ then the second qubit will also collapse to $\\rvert u^\\bot \\rangle$ and then the probabilities of outcomes are\n",
        "\n",
        "$P[v^\\bot] = cos^2\\theta_2$\n",
        "\n",
        "$P[v] = 1-cos^2\\theta_2$"
      ]
    },
    {
      "cell_type": "markdown",
      "metadata": {
        "id": "9dSLQluRqJYU"
      },
      "source": [
        "### 05.03.03: CHSH Inequality"
      ]
    },
    {
      "cell_type": "markdown",
      "metadata": {
        "id": "tbdZ7Ll3qJYU"
      },
      "source": [
        "CHSH is a simplification of Bell’s work in 1965. It was proposed by Clauser, Horne, Shimony and Holt in 1969. Bell's inequality from 1965 showed that quantum mechanics and achieve results that cannot be achieved classically. It dispelled all the hidden variable theories that were constructed in order to provide an alternative explanation to the phenomenon such as quantum entanglement.\n",
        "\n",
        "The inequality is set up as a game between two parties Alice and Bob. Let's discuss the process.\n",
        "\n",
        "__Alice__\n",
        "\n",
        "Input: $x \\in \\{0,1\\}$\n",
        "\n",
        "Output:   a\n",
        "\n",
        "__Bob__\n",
        "\n",
        "Input: $y \\in \\{0,1\\}$\n",
        "\n",
        "Output:   b\n",
        "\n",
        "Alice and Bob are not allowed to see each others inputs but know that all the possibilities are equally likely. Their task is to produce matching outputs $a$ and $b$ for all the possible inputs except $x = 1$ and $ y = 1 $.\n",
        "\n",
        "Therefore, $x=y=1$, output $a\\neq b$ else $a = b$\n",
        "\n",
        "In a classical scenario their probability of “winning” the game is at most $\\frac{3}{4}$. By winning we mean meet the condition on the outputs. This can simply be achieved by either fixing $a=b=0$ or $a=b=1$."
      ]
    },
    {
      "cell_type": "markdown",
      "metadata": {
        "id": "N37-yY1nqJYU"
      },
      "source": [
        "\n",
        "**The question is can they do better than $\\frac{3}{4}$ using quantum mechanics?**\n",
        "\n",
        "**The answer, as you may have guessed, is : Yes**\n",
        "\n",
        "Suppose Alice and Bob share a Bell pair. We can rewrite the condition as shown in the table below,\n",
        "\n",
        "||Alice||Bob|\n",
        "|:--:|:--:|:--:|:--:|\n",
        "|**Bell Pair**|✓||✓|\n",
        "|**Input**|$x$||$y$|  \n",
        "|**Output**|$a$||$b$|   \n",
        "|**Condition:**||$xy $=$ a \\oplus b$||\n",
        "\n",
        "\n",
        "We will see that they can meet the condition with probability $cos^2 \\frac{\\pi}{8} \\approx 0.85$. Much higher than is the case with classical mechanics."
      ]
    },
    {
      "cell_type": "markdown",
      "metadata": {
        "id": "B88Z3oalqJYU"
      },
      "source": [
        "_Alice_\n",
        "\n",
        "Depending on the value of $x$, Alice measures her qubit (from the Bell pair) in one of two bases, say ✚ or ✖"
      ]
    },
    {
      "cell_type": "code",
      "execution_count": null,
      "metadata": {
        "id": "l0gvRAl6qJYU"
      },
      "outputs": [],
      "source": [
        "display.display(img2)"
      ]
    },
    {
      "cell_type": "markdown",
      "metadata": {
        "id": "76lyJjqoqJYU"
      },
      "source": [
        "_Bob_\n",
        "\n",
        "Depending on the value of $y$, Bob measures his qubit in one of two bases (slightly different than Alice’s)"
      ]
    },
    {
      "cell_type": "code",
      "execution_count": null,
      "metadata": {
        "id": "XaPYhZsDqJYU"
      },
      "outputs": [],
      "source": [
        "display.display(img3)"
      ]
    },
    {
      "cell_type": "markdown",
      "metadata": {
        "id": "aXC0JyuxqJYU"
      },
      "source": [
        "The outcome of measurements are their outputs $a$ and $b$, it turns out they will meet the  condition on outputs about 85% of the time!\n",
        "\n",
        "It is easy to figure out why this is the case. Note that Alice and Bob's bases are displaced by an angle of $\\frac{\\pi}{8}$ except in the case when $x=y=1$"
      ]
    },
    {
      "cell_type": "code",
      "execution_count": null,
      "metadata": {
        "id": "pDBZ0MGHqJYU"
      },
      "outputs": [],
      "source": [
        "display.display(img4)"
      ]
    },
    {
      "cell_type": "markdown",
      "metadata": {
        "id": "92O_f4o_qJYU"
      },
      "source": [
        "Remember from the earlier example when we measured the qubits from a Bell pair in different bases the probability of the same outcome was $cos^2\\theta$ where $\\theta$ was the angle between the bases.\n",
        "\n",
        "Lets work out the probabilities in our CHSH game.\n",
        "\n",
        "|$x$| $y$ |$P[\\text{same outcome}]$|$P[\\text{different outcome}]$|\n",
        "|:--:|:--:|:--:|:--:|\n",
        "| 0 |0|$cos^2\\frac{\\pi}{8}$|||\n",
        "| 0 |1|$cos^2\\frac{\\pi}{8}$|||\n",
        "| 1 |0|$cos^2\\frac{\\pi}{8}$|||\n",
        "| 1 |1|$cos^2\\frac{3\\pi}{8}$|$cos^2\\frac{\\pi}{8}$|||\n",
        "\n",
        "As a result Alice and Bob can succeed in meeting the condition  $x y = a \\oplus b$ with probability of $cos^2\\frac{\\pi}{8}$\n",
        "\n",
        "This is not possible classically.\n",
        "\n",
        "Later we will see that this game is used to detect an eavesdropper in a quantum key distribution protocol called E91."
      ]
    },
    {
      "cell_type": "markdown",
      "metadata": {
        "id": "1iZI4EJoqJYU"
      },
      "source": [
        "## 05.04: Multi-Qubit Gates and Operations"
      ]
    },
    {
      "cell_type": "markdown",
      "metadata": {
        "jp-MarkdownHeadingCollapsed": true,
        "id": "5iXK36swqJYU"
      },
      "source": [
        "### 05.04.01: Composing Single Qubit Operations into Multi-qubit Operations"
      ]
    },
    {
      "cell_type": "markdown",
      "metadata": {
        "id": "C47YEl8iqJYV"
      },
      "source": [
        "We studied several single qubit gates before. In this nanomodule we will study multi-qubit gates.\n",
        "\n",
        "Note that just like we can create a multi-qubit system representation by taking the tensor product of individual qubit vectors, we can create large multi-qubit gates by taking tensor product of individual single qubit gates.\n",
        "\n",
        "For example, consider two qubits $\\rvert0\\rangle$ and $\\frac{\\rvert0\\rangle + \\rvert 1 \\rangle}{\\sqrt{2}}$ with Pauli gates $X$, $Z$ acting on them, respectively.\n",
        "\n",
        "Therefore,\n",
        "\n",
        "$X \\rvert 0 \\rangle = \\rvert 1 \\rangle$\n",
        "\n",
        "$Z \\Big(\\frac{\\rvert 0 \\rangle + \\rvert 1 \\rangle}{\\sqrt{2}}\\Big) = \\frac{\\rvert 0 \\rangle - \\rvert 1 \\rangle}{\\sqrt{2}}$"
      ]
    },
    {
      "cell_type": "markdown",
      "metadata": {
        "id": "CAIFC1hfqJYW"
      },
      "source": [
        "\n",
        "In matrix form the calculations are.\n",
        "\n",
        "$X (\\rvert 0 \\rangle) = \\begin{bmatrix}0 & 1 \\\\ 1 & 0\\end{bmatrix}\\begin{bmatrix}1  \\\\ 0 \\end{bmatrix}=\\begin{bmatrix}0 \\\\ 1 \\end{bmatrix}$\n",
        "\n",
        "$Z \\Big(\\frac{\\rvert 0 \\rangle + \\rvert 1 \\rangle}{\\sqrt{2}}\\Big) =\\begin{bmatrix}1 & 0 \\\\ 0 & -1\\end{bmatrix}\\begin{bmatrix}\\frac{1}{\\sqrt{2}}  \\\\ \\frac{1}{\\sqrt{2}} \\end{bmatrix}=\\begin{bmatrix}\\frac{1}{\\sqrt{2}} \\\\ -\\frac{1}{\\sqrt{2}} \\end{bmatrix} $\n"
      ]
    },
    {
      "cell_type": "markdown",
      "metadata": {
        "id": "9YCZ-0dCqJYW"
      },
      "source": [
        "\n",
        "Now consider their joint states. Before applying the transformations their joint state is given by.\n",
        "\n",
        "$(\\rvert 0 \\rangle) \\otimes \\Big(\\frac{\\rvert 0 \\rangle + \\rvert 1 \\rangle}{\\sqrt{2}}\\Big) = \\frac{\\rvert 00 \\rangle + \\rvert 01\\rangle }{\\sqrt{2}}$\n",
        "\n",
        "What will be the joint gate representation?\n",
        "\n",
        "We are assuming these are being applied in parallel and therefore their circuit is given by."
      ]
    },
    {
      "cell_type": "code",
      "execution_count": null,
      "metadata": {
        "id": "9FpSOlnGqJYW"
      },
      "outputs": [],
      "source": [
        "display.display(img5)"
      ]
    },
    {
      "cell_type": "markdown",
      "metadata": {
        "id": "Ng-YOpKwqJYW"
      },
      "source": [
        "The joint gate representation is then given by $X \\otimes Z$\n",
        "\n",
        "That is $ U = \\begin{bmatrix}0 & 1 \\\\ 1 & 0\\end{bmatrix} \\otimes \\begin{bmatrix}1 & 0 \\\\ 0 & -1\\end{bmatrix}$\n",
        "\n",
        "$U = \\begin{bmatrix}0 & 0 & 1 & 0 \\\\ 0 & 0 & 0 & -1 \\\\ 1 & 0 & 0 & 0 \\\\ 0 & -1 & 0 & 0\\end{bmatrix}$"
      ]
    },
    {
      "cell_type": "markdown",
      "metadata": {
        "id": "VgigxgWFqJYW"
      },
      "source": [
        "The action of this two qubit gate can be computed on the joint qubit representation as follows,\n",
        "\n",
        "Before gate operation: $\\rvert \\psi_1 \\rangle = \\Big( \\frac{\\rvert 00 \\rangle + \\rvert 01 \\rangle}{\\sqrt{2}}\\Big) =  \\begin{bmatrix}\\frac{1}{\\sqrt{2}}\\\\ \\frac{1}{\\sqrt{2}}\\\\ 0 \\\\ 0\\end{bmatrix}$\n",
        "\n",
        "After gate operation: $\\rvert \\psi_2 \\rangle = U \\Big( \\frac{\\rvert 00 \\rangle + \\rvert 01 \\rangle}{\\sqrt{2}}\\Big) $\n",
        "\n",
        "$= \\begin{bmatrix}0 & 0 & 1 & 0 \\\\ 0 & 0 & 0 & -1 \\\\ 1 & 0 & 0 & 0 \\\\ 0 & -1 & 0 & 0\\end{bmatrix}\\begin{bmatrix}\\frac{1}{\\sqrt{2}}\\\\ \\frac{1}{\\sqrt{2}}\\\\ 0 \\\\ 0\\end{bmatrix} = \\begin{bmatrix}0\\\\ 0\\\\ \\frac{1}{\\sqrt{2}} \\\\ -\\frac{1}{\\sqrt{2}}\\end{bmatrix} = \\frac{\\rvert 10 \\rangle - \\rvert 11 \\rangle}{\\sqrt{2}}$\n",
        "\n",
        "$\\rvert \\psi_2 \\rangle$ is exactly the state we had computed by applying single qubit gates to individual qubits."
      ]
    },
    {
      "cell_type": "markdown",
      "metadata": {
        "id": "8rDcunMdqJYW"
      },
      "source": [
        "### 05.04.02: True Multi-Qubit Gates"
      ]
    },
    {
      "cell_type": "markdown",
      "metadata": {
        "id": "-QjeXhKEqJYW"
      },
      "source": [
        "Although we created a multi-qubit gate by taking tensor product of single qubit gates and can continue this process with more and more gates, it may not seem that exciting!\n",
        "\n",
        "There are “true” multi-qubit gates that cannot be decomposed into individual single qubit gates and therefore __must__ act on multiple qubits together. This is very helpful and can be used to do things that single qubit gates cannot.  The most popular gate that will appear all over the place is a CNOT gate, short for controlled-NOT. In general, we can create an arbitrary controlled-U, gate where U is some 2x2 unitary transformation. Some other gates that appear are Toffoli gate (3 qubit gate) and Fredkin gate (3 qubit gate). Let’s discuss the matrix representation and effect of these gates on our qubits"
      ]
    },
    {
      "cell_type": "markdown",
      "metadata": {
        "id": "2VUAcijbqJYW"
      },
      "source": [
        "#### 05.04.02.01: The CNOT Gate"
      ]
    },
    {
      "cell_type": "markdown",
      "metadata": {
        "id": "GdoSwcogqJYW"
      },
      "source": [
        "This is the most popular gate. It can be used to entangle and dis-entangle two qubits. It is a two qubit gate and given by the following matrix\n",
        "\n",
        "$\\begin{bmatrix}1 & 0 & 0 & 0 \\\\ 0 & 1 & 0 & 0 \\\\ 0 & 0 & 0 & 1 \\\\ 0 & 0 & 1 & 0\\end{bmatrix}$\n",
        "\n",
        "In the circuit diagram it shows up as:"
      ]
    },
    {
      "cell_type": "code",
      "execution_count": null,
      "metadata": {
        "id": "7jQy02X8qJYW"
      },
      "outputs": [],
      "source": [
        "display.display(img6)"
      ]
    },
    {
      "cell_type": "markdown",
      "metadata": {
        "id": "jRT3UHjxqJYW"
      },
      "source": [
        "The top qubit becomes the control qubit and the bottom one is the target qubit.\n",
        "\n",
        "If the top qubit is a $\\rvert 0 \\rangle$ then nothing happens to the bottom qubit and if the top qubit is $\\rvert 1 \\rangle$ the bottom qubit is acted upon by an $X$ gate.\n",
        "\n",
        "Eg:"
      ]
    },
    {
      "cell_type": "code",
      "execution_count": null,
      "metadata": {
        "id": "5Ud-1mlyqJYW"
      },
      "outputs": [],
      "source": [
        "display.display(img7)"
      ]
    },
    {
      "cell_type": "markdown",
      "metadata": {
        "id": "v0ctjhsBqJYX"
      },
      "source": [
        "\n",
        "As you can see the top qubit remains unchanged. However, this “unchangeability” is basis dependent.\n",
        "\n",
        "The CNOT gate is also known as the XOR gate because its operation can be written as  \n",
        "\n",
        "$\\rvert x,y \\rangle \\rightarrow \\rvert x, x \\oplus y \\rangle$\n",
        "\n",
        "Where $x$ and $y$ are quantum states.\n",
        "\n",
        "We are, obviously, somewhat abusing the XOR notation here.\n",
        "\n",
        "CNOT is also a unitary transformation and therefore its own inverse."
      ]
    },
    {
      "cell_type": "code",
      "execution_count": null,
      "metadata": {
        "id": "powo3tH4qJYY"
      },
      "outputs": [],
      "source": [
        "display.display(img8)"
      ]
    },
    {
      "cell_type": "markdown",
      "metadata": {
        "id": "0rCYzkFKqJYY"
      },
      "source": [
        "However, we noted earlier that CNOT’s operation is basis dependent. Consider the following circuit:"
      ]
    },
    {
      "cell_type": "code",
      "execution_count": null,
      "metadata": {
        "id": "MbDKvaXxqJYY"
      },
      "outputs": [],
      "source": [
        "display.display(img9)"
      ]
    },
    {
      "cell_type": "markdown",
      "metadata": {
        "id": "rhVXDLUXqJYY"
      },
      "source": [
        "Since H is its own inverse, one might think we get back $\\rvert x\\rangle$ on the top line of the circuit. But this is not the case.\n",
        "\n",
        "We leave this as an exercise for the reader to compute the output of the above circuit for different values of $\\rvert x\\rangle$ and $\\rvert y\\rangle$."
      ]
    },
    {
      "cell_type": "markdown",
      "metadata": {
        "id": "v_ON-4a1qJYY"
      },
      "source": [
        "##### CNOT for entanglement"
      ]
    },
    {
      "cell_type": "markdown",
      "metadata": {
        "id": "-rD2GfkxqJYY"
      },
      "source": [
        "If the control qubit is in superposition then the application of CNOT can result in entanglement of the control qubit and the target qubit.\n",
        "\n",
        "The circuit that is often used to create Bell pairs is :"
      ]
    },
    {
      "cell_type": "code",
      "execution_count": null,
      "metadata": {
        "id": "Eg1SK2HoqJYY"
      },
      "outputs": [],
      "source": [
        "display.display(img10)"
      ]
    },
    {
      "cell_type": "markdown",
      "metadata": {
        "id": "EFc4lhFSqJYY"
      },
      "source": [
        "Appropriate inputs result in different Bell pairs."
      ]
    },
    {
      "cell_type": "markdown",
      "metadata": {
        "jp-MarkdownHeadingCollapsed": true,
        "id": "OWI142MCqJYY"
      },
      "source": [
        "#### 05.04.02.02: General Controlled operation"
      ]
    },
    {
      "cell_type": "markdown",
      "metadata": {
        "id": "NgjUBjuHqJYY"
      },
      "source": [
        "We can denote the circuit as follows:"
      ]
    },
    {
      "cell_type": "code",
      "execution_count": null,
      "metadata": {
        "id": "9l3SUf3OqJYY"
      },
      "outputs": [],
      "source": [
        "display.display(img11)"
      ]
    },
    {
      "cell_type": "markdown",
      "metadata": {
        "id": "G4o0xP_YqJYY"
      },
      "source": [
        "And the matrix is given by $\\begin{bmatrix}I & 0 \\\\ 0 & U \\end{bmatrix}$ where $I$ is the 2x2 identity matrix and $U$ is an arbitrary 2x2 quantum gate."
      ]
    },
    {
      "cell_type": "markdown",
      "metadata": {
        "id": "Y4oc0PVFqJYY"
      },
      "source": [
        "CNOT will be used in the exciting application of teleportation later. We will also provide a circuit built on the IBM quantum simulator.\n",
        "\n",
        "A swap circuit using these CNOTS is shown below."
      ]
    },
    {
      "cell_type": "code",
      "execution_count": null,
      "metadata": {
        "id": "aNLls043qJYZ"
      },
      "outputs": [],
      "source": [
        "display.display(img12)"
      ]
    },
    {
      "cell_type": "markdown",
      "metadata": {
        "id": "5TKSbjN6qJYZ"
      },
      "source": [
        "### 05.04.03: Other Multi-Qubit Gates"
      ]
    },
    {
      "cell_type": "markdown",
      "metadata": {
        "id": "cDUXddHYqJYZ"
      },
      "source": [
        "#### 05.04.03.01: Toffoli Gate"
      ]
    },
    {
      "cell_type": "markdown",
      "metadata": {
        "id": "yHZH9IZcqJYZ"
      },
      "source": [
        "It is a 3-qubit gate and its circuit and operation are shown below."
      ]
    },
    {
      "cell_type": "code",
      "execution_count": null,
      "metadata": {
        "id": "llopvdiGqJYZ"
      },
      "outputs": [],
      "source": [
        "display.display(img13)"
      ]
    },
    {
      "cell_type": "markdown",
      "metadata": {
        "id": "XuBp1t5SqJYZ"
      },
      "source": [
        "This gate has two control bits and one target bit. Both the control bits need to be on in order for the target bit to be affected\n",
        "\n",
        "$X \\wedge Y$ denotes an AND operation."
      ]
    },
    {
      "cell_type": "markdown",
      "metadata": {
        "id": "C4oZ3jS5qJYZ"
      },
      "source": [
        "#### 05.04.03.02: Fredkin Gate"
      ]
    },
    {
      "cell_type": "markdown",
      "metadata": {
        "id": "jp-3HxG8qJYa"
      },
      "source": [
        "The circuit and operation are given by:"
      ]
    },
    {
      "cell_type": "code",
      "execution_count": null,
      "metadata": {
        "id": "JTcr61HlqJYa"
      },
      "outputs": [],
      "source": [
        "display.display(img14)"
      ]
    },
    {
      "cell_type": "markdown",
      "metadata": {
        "id": "DYkl8qvyqJYa"
      },
      "source": [
        "### 05.04.04: Universal Gate Set"
      ]
    },
    {
      "cell_type": "markdown",
      "metadata": {
        "id": "9nt6g6cTqJYa"
      },
      "source": [
        "Universal gate set is the set of gates using which every logical circuit can be simulated.\n",
        "\n",
        "For example, in classical circuits NAND is a universal gate and so are AND and NOT taken together. NOR is also universal in classical circuits. Both Toffoli and Fredkin are classical universal gates.\n",
        "\n",
        "**Quantum Universal Gate:** In the quantum world the following operations together form a set of universal gates,\n",
        "\n",
        "$\\big\\{ H, CNOT, R(cos^{-1}(\\frac{3}{5}))\\big\\} $ i.e. Hadamard, CNOT, and a phase shift together for a universal set of gates. There are other quantum universal gate sets."
      ]
    },
    {
      "cell_type": "markdown",
      "metadata": {
        "id": "wXthtU-gqJYa"
      },
      "source": [
        "# 05 Quizzes"
      ]
    },
    {
      "cell_type": "markdown",
      "metadata": {
        "id": "Wa-zaTBXqJYa"
      },
      "source": [
        "## Q05.01"
      ]
    },
    {
      "cell_type": "markdown",
      "metadata": {
        "id": "GG5huQDBqJYa"
      },
      "source": [
        "1. Write the joint state representation of the following qubits in both Ket and vector notations.\n",
        "\n",
        "a. $\\rvert0\\rangle$ and $\\frac{1}{\\sqrt{2}}(\\rvert0\\rangle+\\rvert1\\rangle)$\n",
        "\n",
        "b. $\\frac{1}{\\sqrt{2}}(\\rvert0\\rangle-\\rvert1\\rangle)$ and $\\frac{i}{3}\\rvert1\\rangle$\n",
        "\n",
        "c. $\\frac{1}{\\sqrt{3}}\\rvert0\\rangle+\\frac{i\\sqrt{2}}{\\sqrt{3}}\\rvert1\\rangle$, $\\rvert0\\rangle$ and $\\frac{1}{\\sqrt{2}}(\\rvert0\\rangle+\\rvert1\\rangle)$\n",
        "\n",
        "d. $\\frac{2}{\\sqrt{3}}\\rvert0\\rangle$, $-\\rvert1\\rangle$, and $\\rvert-\\rangle$\n",
        "\n",
        "e. $-\\rvert0\\rangle$ and $\\rvert1\\rangle$\n",
        "\n",
        "2. Write the following states in terms of the Bell basis.\n",
        "\n",
        "a. $\\rvert00\\rangle$\n",
        "    \n",
        "b. $\\rvert+\\rangle\\rvert-\\rangle$\n",
        "    \n",
        "c. $\\frac{1}{\\sqrt{3}}(\\rvert00\\rangle+\\rvert01\\rangle+\\rvert10\\rangle)$"
      ]
    },
    {
      "cell_type": "markdown",
      "metadata": {
        "id": "QiiDQxq8qJYb"
      },
      "source": [
        "## Q05.02"
      ]
    },
    {
      "cell_type": "markdown",
      "metadata": {
        "id": "V4Yvf7_PqJYb"
      },
      "source": [
        "1. Compute the measurement probability for all possible outcomes\n",
        "\n",
        "(i) $\\frac{1}{2} \\big( \\rvert 00 \\rangle - \\rvert 01 \\rangle + \\rvert 10 \\rangle - \\rvert 11 \\rangle \\big)$\n",
        "\n",
        "(ii) $\\frac{7}{10}\\rvert 00 \\rangle + \\frac{1}{10} \\rvert 01 \\rangle + \\frac{1}{10}\\rvert 10 \\rangle + \\frac{7}{10} \\rvert 11 \\rangle $\n",
        "\n",
        "(iii) $\\frac{1}{\\sqrt{2}} \\big( \\rvert 00 \\rangle - i\\rvert 11 \\rangle \\big)$\n",
        "\n",
        "(iv) $\\frac{1}{2\\sqrt{2}} \\rvert 00 \\rangle + \\frac{i}{2\\sqrt{2}}\\rvert 01 \\rangle + \\frac{\\sqrt{3}}{2\\sqrt{2}}\\rvert 10 \\rangle + \\frac{i \\sqrt{3}}{2\\sqrt{2}}\\rvert 11 \\rangle$\n",
        "\n",
        "(v) $\\frac{1}{2} \\rvert 00 \\rangle + \\frac{i}{2} \\rvert 01 \\rangle + \\frac{1}{\\sqrt{2}} \\rvert 11 \\rangle$\n",
        "\n",
        "2. For each of the qubits in problem 1 compute the probability of outcomes when only first qubit is measured, what is the final state of the system.\n",
        "\n",
        "3. Now measure the second qubit. What are probabilities of outcomes and what is the final state of the system? Do this for qubits (iv) and (v) in problem 1."
      ]
    },
    {
      "cell_type": "markdown",
      "metadata": {
        "id": "VSWXJoSzqJYb"
      },
      "source": [
        "## Q05.03"
      ]
    },
    {
      "cell_type": "markdown",
      "metadata": {
        "id": "bC42hYu_qJYb"
      },
      "source": [
        "1. Entanglement is not an absolute property of the system. It depends on particular decomposition. For example, a four qubit state that is entangled with respect to single qubit decomposition may not be entangled with respect to two qubit decomposition.\n",
        "\n",
        "    Check this for the following state.\n",
        "\n",
        "    $\\rvert \\psi \\rangle = \\frac{1}{2} \\big( \\rvert 0000 \\rangle + \\rvert 0101 \\rangle + \\rvert 1010\\rangle + \\rvert 1111 \\rangle \\big)$\n",
        "<br><br>\n",
        "2. Is the state $\\frac{1}{\\sqrt{2}} \\big( \\rvert 0 \\rangle \\rvert + \\rangle + \\rvert 1 \\rangle \\rvert - \\rangle \\big)$ entangled?"
      ]
    }
  ],
  "metadata": {
    "celltoolbar": "Slideshow",
    "kernelspec": {
      "display_name": "qkd",
      "language": "python",
      "name": "python3"
    },
    "language_info": {
      "codemirror_mode": {
        "name": "ipython",
        "version": 3
      },
      "file_extension": ".py",
      "mimetype": "text/x-python",
      "name": "python",
      "nbconvert_exporter": "python",
      "pygments_lexer": "ipython3",
      "version": "3.13.0"
    },
    "colab": {
      "provenance": []
    }
  },
  "nbformat": 4,
  "nbformat_minor": 0
}